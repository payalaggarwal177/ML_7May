{
 "cells": [
  {
   "cell_type": "markdown",
   "metadata": {},
   "source": [
    "## Clustering _ main goal is to categorize simsilar datapoints together\n",
    "1. KMeans\n",
    "2. Algomerative clustering\n"
   ]
  },
  {
   "cell_type": "markdown",
   "metadata": {},
   "source": [
    "## Based on agge, income and spending categorize similar customers together "
   ]
  },
  {
   "cell_type": "code",
   "execution_count": 1,
   "metadata": {},
   "outputs": [],
   "source": [
    "from warnings import filterwarnings\n",
    "filterwarnings ('ignore')"
   ]
  },
  {
   "cell_type": "code",
   "execution_count": 3,
   "metadata": {},
   "outputs": [
    {
     "name": "stdout",
     "output_type": "stream",
     "text": [
      "Collecting yellowbrick\n",
      "  Using cached yellowbrick-1.5-py3-none-any.whl.metadata (7.7 kB)\n",
      "Requirement already satisfied: plotly in d:\\ml_work\\repository\\venv\\lib\\site-packages (5.22.0)\n",
      "Requirement already satisfied: nbformat in d:\\ml_work\\repository\\venv\\lib\\site-packages (5.10.4)\n",
      "Requirement already satisfied: matplotlib!=3.0.0,>=2.0.2 in d:\\ml_work\\repository\\venv\\lib\\site-packages (from yellowbrick) (3.8.4)\n",
      "Requirement already satisfied: scipy>=1.0.0 in d:\\ml_work\\repository\\venv\\lib\\site-packages (from yellowbrick) (1.13.0)\n",
      "Requirement already satisfied: scikit-learn>=1.0.0 in d:\\ml_work\\repository\\venv\\lib\\site-packages (from yellowbrick) (1.4.2)\n",
      "Requirement already satisfied: numpy>=1.16.0 in d:\\ml_work\\repository\\venv\\lib\\site-packages (from yellowbrick) (1.26.4)\n",
      "Requirement already satisfied: cycler>=0.10.0 in d:\\ml_work\\repository\\venv\\lib\\site-packages (from yellowbrick) (0.12.1)\n",
      "Requirement already satisfied: tenacity>=6.2.0 in d:\\ml_work\\repository\\venv\\lib\\site-packages (from plotly) (8.3.0)\n",
      "Requirement already satisfied: packaging in d:\\ml_work\\repository\\venv\\lib\\site-packages (from plotly) (24.0)\n",
      "Requirement already satisfied: fastjsonschema>=2.15 in d:\\ml_work\\repository\\venv\\lib\\site-packages (from nbformat) (2.19.1)\n",
      "Requirement already satisfied: jsonschema>=2.6 in d:\\ml_work\\repository\\venv\\lib\\site-packages (from nbformat) (4.22.0)\n",
      "Requirement already satisfied: jupyter-core!=5.0.*,>=4.12 in d:\\ml_work\\repository\\venv\\lib\\site-packages (from nbformat) (5.7.2)\n",
      "Requirement already satisfied: traitlets>=5.1 in d:\\ml_work\\repository\\venv\\lib\\site-packages (from nbformat) (5.14.3)\n",
      "Requirement already satisfied: attrs>=22.2.0 in d:\\ml_work\\repository\\venv\\lib\\site-packages (from jsonschema>=2.6->nbformat) (23.2.0)\n",
      "Requirement already satisfied: jsonschema-specifications>=2023.03.6 in d:\\ml_work\\repository\\venv\\lib\\site-packages (from jsonschema>=2.6->nbformat) (2023.12.1)\n",
      "Requirement already satisfied: referencing>=0.28.4 in d:\\ml_work\\repository\\venv\\lib\\site-packages (from jsonschema>=2.6->nbformat) (0.35.1)\n",
      "Requirement already satisfied: rpds-py>=0.7.1 in d:\\ml_work\\repository\\venv\\lib\\site-packages (from jsonschema>=2.6->nbformat) (0.18.1)\n",
      "Requirement already satisfied: platformdirs>=2.5 in d:\\ml_work\\repository\\venv\\lib\\site-packages (from jupyter-core!=5.0.*,>=4.12->nbformat) (4.2.1)\n",
      "Requirement already satisfied: pywin32>=300 in d:\\ml_work\\repository\\venv\\lib\\site-packages (from jupyter-core!=5.0.*,>=4.12->nbformat) (306)\n",
      "Requirement already satisfied: contourpy>=1.0.1 in d:\\ml_work\\repository\\venv\\lib\\site-packages (from matplotlib!=3.0.0,>=2.0.2->yellowbrick) (1.2.1)\n",
      "Requirement already satisfied: fonttools>=4.22.0 in d:\\ml_work\\repository\\venv\\lib\\site-packages (from matplotlib!=3.0.0,>=2.0.2->yellowbrick) (4.51.0)\n",
      "Requirement already satisfied: kiwisolver>=1.3.1 in d:\\ml_work\\repository\\venv\\lib\\site-packages (from matplotlib!=3.0.0,>=2.0.2->yellowbrick) (1.4.5)\n",
      "Requirement already satisfied: pillow>=8 in d:\\ml_work\\repository\\venv\\lib\\site-packages (from matplotlib!=3.0.0,>=2.0.2->yellowbrick) (10.3.0)\n",
      "Requirement already satisfied: pyparsing>=2.3.1 in d:\\ml_work\\repository\\venv\\lib\\site-packages (from matplotlib!=3.0.0,>=2.0.2->yellowbrick) (3.1.2)\n",
      "Requirement already satisfied: python-dateutil>=2.7 in d:\\ml_work\\repository\\venv\\lib\\site-packages (from matplotlib!=3.0.0,>=2.0.2->yellowbrick) (2.9.0.post0)\n",
      "Requirement already satisfied: joblib>=1.2.0 in d:\\ml_work\\repository\\venv\\lib\\site-packages (from scikit-learn>=1.0.0->yellowbrick) (1.4.2)\n",
      "Requirement already satisfied: threadpoolctl>=2.0.0 in d:\\ml_work\\repository\\venv\\lib\\site-packages (from scikit-learn>=1.0.0->yellowbrick) (3.5.0)\n",
      "Requirement already satisfied: six>=1.5 in d:\\ml_work\\repository\\venv\\lib\\site-packages (from python-dateutil>=2.7->matplotlib!=3.0.0,>=2.0.2->yellowbrick) (1.16.0)\n",
      "Downloading yellowbrick-1.5-py3-none-any.whl (282 kB)\n",
      "   ---------------------------------------- 0.0/282.6 kB ? eta -:--:--\n",
      "   - -------------------------------------- 10.2/282.6 kB ? eta -:--:--\n",
      "   - -------------------------------------- 10.2/282.6 kB ? eta -:--:--\n",
      "   ---- ---------------------------------- 30.7/282.6 kB 220.2 kB/s eta 0:00:02\n",
      "   ----------- --------------------------- 81.9/282.6 kB 416.7 kB/s eta 0:00:01\n",
      "   ---------------------- --------------- 163.8/282.6 kB 704.6 kB/s eta 0:00:01\n",
      "   ---------------------------------------  276.5/282.6 kB 1.1 MB/s eta 0:00:01\n",
      "   ---------------------------------------- 282.6/282.6 kB 1.0 MB/s eta 0:00:00\n",
      "Installing collected packages: yellowbrick\n",
      "Successfully installed yellowbrick-1.5\n",
      "Note: you may need to restart the kernel to use updated packages.\n"
     ]
    },
    {
     "name": "stderr",
     "output_type": "stream",
     "text": [
      "\n",
      "[notice] A new release of pip is available: 24.0 -> 24.1.2\n",
      "[notice] To update, run: python.exe -m pip install --upgrade pip\n"
     ]
    }
   ],
   "source": [
    "%pip install yellowbrick plotly nbformat "
   ]
  },
  {
   "cell_type": "code",
   "execution_count": 4,
   "metadata": {},
   "outputs": [
    {
     "data": {
      "text/html": [
       "<div>\n",
       "<style scoped>\n",
       "    .dataframe tbody tr th:only-of-type {\n",
       "        vertical-align: middle;\n",
       "    }\n",
       "\n",
       "    .dataframe tbody tr th {\n",
       "        vertical-align: top;\n",
       "    }\n",
       "\n",
       "    .dataframe thead th {\n",
       "        text-align: right;\n",
       "    }\n",
       "</style>\n",
       "<table border=\"1\" class=\"dataframe\">\n",
       "  <thead>\n",
       "    <tr style=\"text-align: right;\">\n",
       "      <th></th>\n",
       "      <th>CustomerID</th>\n",
       "      <th>Gender</th>\n",
       "      <th>Age</th>\n",
       "      <th>Income</th>\n",
       "      <th>Spending</th>\n",
       "    </tr>\n",
       "  </thead>\n",
       "  <tbody>\n",
       "    <tr>\n",
       "      <th>0</th>\n",
       "      <td>1</td>\n",
       "      <td>Male</td>\n",
       "      <td>19</td>\n",
       "      <td>15</td>\n",
       "      <td>39</td>\n",
       "    </tr>\n",
       "    <tr>\n",
       "      <th>1</th>\n",
       "      <td>2</td>\n",
       "      <td>Male</td>\n",
       "      <td>21</td>\n",
       "      <td>15</td>\n",
       "      <td>81</td>\n",
       "    </tr>\n",
       "    <tr>\n",
       "      <th>2</th>\n",
       "      <td>3</td>\n",
       "      <td>Female</td>\n",
       "      <td>20</td>\n",
       "      <td>16</td>\n",
       "      <td>6</td>\n",
       "    </tr>\n",
       "    <tr>\n",
       "      <th>3</th>\n",
       "      <td>4</td>\n",
       "      <td>Female</td>\n",
       "      <td>23</td>\n",
       "      <td>16</td>\n",
       "      <td>77</td>\n",
       "    </tr>\n",
       "    <tr>\n",
       "      <th>4</th>\n",
       "      <td>5</td>\n",
       "      <td>Female</td>\n",
       "      <td>31</td>\n",
       "      <td>17</td>\n",
       "      <td>40</td>\n",
       "    </tr>\n",
       "  </tbody>\n",
       "</table>\n",
       "</div>"
      ],
      "text/plain": [
       "   CustomerID  Gender  Age  Income  Spending\n",
       "0           1    Male   19      15        39\n",
       "1           2    Male   21      15        81\n",
       "2           3  Female   20      16         6\n",
       "3           4  Female   23      16        77\n",
       "4           5  Female   31      17        40"
      ]
     },
     "execution_count": 4,
     "metadata": {},
     "output_type": "execute_result"
    }
   ],
   "source": [
    "import pandas as pd\n",
    "df = pd.read_csv('Mall_Customers.csv')\n",
    "df.head()"
   ]
  },
  {
   "cell_type": "code",
   "execution_count": 5,
   "metadata": {},
   "outputs": [
    {
     "data": {
      "text/plain": [
       "<bound method DataFrame.info of      CustomerID  Gender  Age  Income  Spending\n",
       "0             1    Male   19      15        39\n",
       "1             2    Male   21      15        81\n",
       "2             3  Female   20      16         6\n",
       "3             4  Female   23      16        77\n",
       "4             5  Female   31      17        40\n",
       "..          ...     ...  ...     ...       ...\n",
       "195         196  Female   35     120        79\n",
       "196         197  Female   45     126        28\n",
       "197         198    Male   32     126        74\n",
       "198         199    Male   32     137        18\n",
       "199         200    Male   30     137        83\n",
       "\n",
       "[200 rows x 5 columns]>"
      ]
     },
     "execution_count": 5,
     "metadata": {},
     "output_type": "execute_result"
    }
   ],
   "source": [
    "df.info"
   ]
  },
  {
   "cell_type": "code",
   "execution_count": 6,
   "metadata": {},
   "outputs": [
    {
     "data": {
      "text/plain": [
       "CustomerID    0\n",
       "Gender        0\n",
       "Age           0\n",
       "Income        0\n",
       "Spending      0\n",
       "dtype: int64"
      ]
     },
     "execution_count": 6,
     "metadata": {},
     "output_type": "execute_result"
    }
   ],
   "source": [
    "df.isna().sum()"
   ]
  },
  {
   "cell_type": "code",
   "execution_count": 7,
   "metadata": {},
   "outputs": [
    {
     "data": {
      "text/plain": [
       "0"
      ]
     },
     "execution_count": 7,
     "metadata": {},
     "output_type": "execute_result"
    }
   ],
   "source": [
    "df.duplicated().sum()"
   ]
  },
  {
   "cell_type": "code",
   "execution_count": 8,
   "metadata": {},
   "outputs": [
    {
     "data": {
      "text/plain": [
       "(200, 5)"
      ]
     },
     "execution_count": 8,
     "metadata": {},
     "output_type": "execute_result"
    }
   ],
   "source": [
    "df.shape"
   ]
  },
  {
   "cell_type": "code",
   "execution_count": 9,
   "metadata": {},
   "outputs": [
    {
     "data": {
      "text/html": [
       "<div>\n",
       "<style scoped>\n",
       "    .dataframe tbody tr th:only-of-type {\n",
       "        vertical-align: middle;\n",
       "    }\n",
       "\n",
       "    .dataframe tbody tr th {\n",
       "        vertical-align: top;\n",
       "    }\n",
       "\n",
       "    .dataframe thead th {\n",
       "        text-align: right;\n",
       "    }\n",
       "</style>\n",
       "<table border=\"1\" class=\"dataframe\">\n",
       "  <thead>\n",
       "    <tr style=\"text-align: right;\">\n",
       "      <th></th>\n",
       "      <th>Age</th>\n",
       "      <th>Income</th>\n",
       "      <th>Spending</th>\n",
       "    </tr>\n",
       "  </thead>\n",
       "  <tbody>\n",
       "    <tr>\n",
       "      <th>0</th>\n",
       "      <td>19</td>\n",
       "      <td>15</td>\n",
       "      <td>39</td>\n",
       "    </tr>\n",
       "    <tr>\n",
       "      <th>1</th>\n",
       "      <td>21</td>\n",
       "      <td>15</td>\n",
       "      <td>81</td>\n",
       "    </tr>\n",
       "    <tr>\n",
       "      <th>2</th>\n",
       "      <td>20</td>\n",
       "      <td>16</td>\n",
       "      <td>6</td>\n",
       "    </tr>\n",
       "    <tr>\n",
       "      <th>3</th>\n",
       "      <td>23</td>\n",
       "      <td>16</td>\n",
       "      <td>77</td>\n",
       "    </tr>\n",
       "    <tr>\n",
       "      <th>4</th>\n",
       "      <td>31</td>\n",
       "      <td>17</td>\n",
       "      <td>40</td>\n",
       "    </tr>\n",
       "  </tbody>\n",
       "</table>\n",
       "</div>"
      ],
      "text/plain": [
       "   Age  Income  Spending\n",
       "0   19      15        39\n",
       "1   21      15        81\n",
       "2   20      16         6\n",
       "3   23      16        77\n",
       "4   31      17        40"
      ]
     },
     "execution_count": 9,
     "metadata": {},
     "output_type": "execute_result"
    }
   ],
   "source": [
    "x = df[['Age', 'Income', 'Spending']]\n",
    "x.head()"
   ]
  },
  {
   "cell_type": "code",
   "execution_count": null,
   "metadata": {},
   "outputs": [],
   "source": [
    "import plotly.express as ex"
   ]
  }
 ],
 "metadata": {
  "kernelspec": {
   "display_name": "venv",
   "language": "python",
   "name": "python3"
  },
  "language_info": {
   "codemirror_mode": {
    "name": "ipython",
    "version": 3
   },
   "file_extension": ".py",
   "mimetype": "text/x-python",
   "name": "python",
   "nbconvert_exporter": "python",
   "pygments_lexer": "ipython3",
   "version": "3.11.9"
  }
 },
 "nbformat": 4,
 "nbformat_minor": 2
}
