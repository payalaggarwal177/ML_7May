{
 "cells": [
  {
   "cell_type": "code",
   "execution_count": 48,
   "metadata": {},
   "outputs": [],
   "source": [
    "import pandas as pd"
   ]
  },
  {
   "cell_type": "code",
   "execution_count": 49,
   "metadata": {},
   "outputs": [],
   "source": [
    "import plotly.io as pio\n",
    "import plotly.express as px\n",
    "import matplotlib.pyplot as plt\n",
    "import seaborn as sns\n",
    "from sklearn.preprocessing import StandardScaler,PowerTransformer\n",
    "from sklearn.decomposition import PCA\n",
    "from scipy.cluster.hierarchy import dendrogram, linkage\n",
    "from sklearn.cluster import KMeans, MeanShift, estimate_bandwidth\n",
    "from yellowbrick.cluster import KElbowVisualizer, SilhouetteVisualizer, InterclusterDistance"
   ]
  },
  {
   "cell_type": "code",
   "execution_count": 50,
   "metadata": {},
   "outputs": [
    {
     "name": "stderr",
     "output_type": "stream",
     "text": [
      "C:\\Users\\Payal\\AppData\\Local\\Temp\\ipykernel_4536\\52551567.py:2: FutureWarning:\n",
      "\n",
      "A value is trying to be set on a copy of a DataFrame or Series through chained assignment using an inplace method.\n",
      "The behavior will change in pandas 3.0. This inplace method will never work because the intermediate object on which we are setting values always behaves as a copy.\n",
      "\n",
      "For example, when doing 'df[col].method(value, inplace=True)', try using 'df.method({col: value}, inplace=True)' or df[col] = df[col].method(value) instead, to perform the operation inplace on the original object.\n",
      "\n",
      "\n",
      "\n",
      "C:\\Users\\Payal\\AppData\\Local\\Temp\\ipykernel_4536\\52551567.py:2: FutureWarning:\n",
      "\n",
      "Downcasting behavior in `replace` is deprecated and will be removed in a future version. To retain the old behavior, explicitly call `result.infer_objects(copy=False)`. To opt-in to the future behavior, set `pd.set_option('future.no_silent_downcasting', True)`\n",
      "\n"
     ]
    },
    {
     "data": {
      "text/html": [
       "<div>\n",
       "<style scoped>\n",
       "    .dataframe tbody tr th:only-of-type {\n",
       "        vertical-align: middle;\n",
       "    }\n",
       "\n",
       "    .dataframe tbody tr th {\n",
       "        vertical-align: top;\n",
       "    }\n",
       "\n",
       "    .dataframe thead th {\n",
       "        text-align: right;\n",
       "    }\n",
       "</style>\n",
       "<table border=\"1\" class=\"dataframe\">\n",
       "  <thead>\n",
       "    <tr style=\"text-align: right;\">\n",
       "      <th></th>\n",
       "      <th>Brand</th>\n",
       "      <th>Model</th>\n",
       "      <th>AccelSec</th>\n",
       "      <th>TopSpeed_KmH</th>\n",
       "      <th>Range_Km</th>\n",
       "      <th>Efficiency_WhKm</th>\n",
       "      <th>FastCharge_KmH</th>\n",
       "      <th>RapidCharge</th>\n",
       "      <th>PowerTrain</th>\n",
       "      <th>PlugType</th>\n",
       "      <th>BodyStyle</th>\n",
       "      <th>Segment</th>\n",
       "      <th>Seats</th>\n",
       "      <th>Price(Inr)</th>\n",
       "    </tr>\n",
       "  </thead>\n",
       "  <tbody>\n",
       "    <tr>\n",
       "      <th>0</th>\n",
       "      <td>Volkswagen</td>\n",
       "      <td>ID.3 Pure</td>\n",
       "      <td>10.0</td>\n",
       "      <td>160</td>\n",
       "      <td>270</td>\n",
       "      <td>167</td>\n",
       "      <td>250</td>\n",
       "      <td>0</td>\n",
       "      <td>RWD</td>\n",
       "      <td>Type 2 CCS</td>\n",
       "      <td>Hatchback</td>\n",
       "      <td>C</td>\n",
       "      <td>5</td>\n",
       "      <td>2682900.00</td>\n",
       "    </tr>\n",
       "    <tr>\n",
       "      <th>1</th>\n",
       "      <td>Polestar</td>\n",
       "      <td>2</td>\n",
       "      <td>4.7</td>\n",
       "      <td>210</td>\n",
       "      <td>400</td>\n",
       "      <td>181</td>\n",
       "      <td>620</td>\n",
       "      <td>1</td>\n",
       "      <td>AWD</td>\n",
       "      <td>Type 2 CCS</td>\n",
       "      <td>Liftback</td>\n",
       "      <td>D</td>\n",
       "      <td>5</td>\n",
       "      <td>5047429.20</td>\n",
       "    </tr>\n",
       "    <tr>\n",
       "      <th>2</th>\n",
       "      <td>BMW</td>\n",
       "      <td>iX3</td>\n",
       "      <td>6.8</td>\n",
       "      <td>180</td>\n",
       "      <td>360</td>\n",
       "      <td>206</td>\n",
       "      <td>560</td>\n",
       "      <td>1</td>\n",
       "      <td>RWD</td>\n",
       "      <td>Type 2 CCS</td>\n",
       "      <td>SUV</td>\n",
       "      <td>D</td>\n",
       "      <td>5</td>\n",
       "      <td>6084817.20</td>\n",
       "    </tr>\n",
       "    <tr>\n",
       "      <th>3</th>\n",
       "      <td>Honda</td>\n",
       "      <td>e</td>\n",
       "      <td>9.5</td>\n",
       "      <td>145</td>\n",
       "      <td>170</td>\n",
       "      <td>168</td>\n",
       "      <td>190</td>\n",
       "      <td>1</td>\n",
       "      <td>RWD</td>\n",
       "      <td>Type 2 CCS</td>\n",
       "      <td>Hatchback</td>\n",
       "      <td>B</td>\n",
       "      <td>4</td>\n",
       "      <td>2950921.71</td>\n",
       "    </tr>\n",
       "    <tr>\n",
       "      <th>4</th>\n",
       "      <td>Lucid</td>\n",
       "      <td>Air</td>\n",
       "      <td>2.8</td>\n",
       "      <td>250</td>\n",
       "      <td>610</td>\n",
       "      <td>180</td>\n",
       "      <td>620</td>\n",
       "      <td>1</td>\n",
       "      <td>AWD</td>\n",
       "      <td>Type 2 CCS</td>\n",
       "      <td>Sedan</td>\n",
       "      <td>F</td>\n",
       "      <td>5</td>\n",
       "      <td>9390150.00</td>\n",
       "    </tr>\n",
       "  </tbody>\n",
       "</table>\n",
       "</div>"
      ],
      "text/plain": [
       "         Brand      Model  AccelSec  TopSpeed_KmH  Range_Km  Efficiency_WhKm  \\\n",
       "0  Volkswagen   ID.3 Pure      10.0           160       270              167   \n",
       "1    Polestar           2       4.7           210       400              181   \n",
       "2         BMW        iX3        6.8           180       360              206   \n",
       "3       Honda          e        9.5           145       170              168   \n",
       "4       Lucid        Air        2.8           250       610              180   \n",
       "\n",
       "   FastCharge_KmH  RapidCharge PowerTrain    PlugType  BodyStyle Segment  \\\n",
       "0             250            0        RWD  Type 2 CCS  Hatchback       C   \n",
       "1             620            1        AWD  Type 2 CCS   Liftback       D   \n",
       "2             560            1        RWD  Type 2 CCS        SUV       D   \n",
       "3             190            1        RWD  Type 2 CCS  Hatchback       B   \n",
       "4             620            1        AWD  Type 2 CCS      Sedan       F   \n",
       "\n",
       "   Seats  Price(Inr)  \n",
       "0      5  2682900.00  \n",
       "1      5  5047429.20  \n",
       "2      5  6084817.20  \n",
       "3      4  2950921.71  \n",
       "4      5  9390150.00  "
      ]
     },
     "execution_count": 50,
     "metadata": {},
     "output_type": "execute_result"
    }
   ],
   "source": [
    "df=pd.read_csv(\"Ev_india.csv\")\n",
    "df['RapidCharge'].replace(to_replace=['No','Yes'],value=[0, 1],inplace=True)\n",
    "df.head()"
   ]
  },
  {
   "cell_type": "code",
   "execution_count": 51,
   "metadata": {},
   "outputs": [
    {
     "name": "stdout",
     "output_type": "stream",
     "text": [
      "<class 'pandas.core.frame.DataFrame'>\n",
      "RangeIndex: 90 entries, 0 to 89\n",
      "Data columns (total 14 columns):\n",
      " #   Column           Non-Null Count  Dtype  \n",
      "---  ------           --------------  -----  \n",
      " 0   Brand            90 non-null     object \n",
      " 1   Model            90 non-null     object \n",
      " 2   AccelSec         90 non-null     float64\n",
      " 3   TopSpeed_KmH     90 non-null     int64  \n",
      " 4   Range_Km         90 non-null     int64  \n",
      " 5   Efficiency_WhKm  90 non-null     int64  \n",
      " 6   FastCharge_KmH   90 non-null     int64  \n",
      " 7   RapidCharge      90 non-null     int64  \n",
      " 8   PowerTrain       90 non-null     object \n",
      " 9   PlugType         90 non-null     object \n",
      " 10  BodyStyle        90 non-null     object \n",
      " 11  Segment          90 non-null     object \n",
      " 12  Seats            90 non-null     int64  \n",
      " 13  Price(Inr)       90 non-null     float64\n",
      "dtypes: float64(2), int64(6), object(6)\n",
      "memory usage: 10.0+ KB\n"
     ]
    }
   ],
   "source": [
    "df.info()"
   ]
  },
  {
   "cell_type": "code",
   "execution_count": 52,
   "metadata": {},
   "outputs": [
    {
     "data": {
      "text/html": [
       "<div>\n",
       "<style scoped>\n",
       "    .dataframe tbody tr th:only-of-type {\n",
       "        vertical-align: middle;\n",
       "    }\n",
       "\n",
       "    .dataframe tbody tr th {\n",
       "        vertical-align: top;\n",
       "    }\n",
       "\n",
       "    .dataframe thead th {\n",
       "        text-align: right;\n",
       "    }\n",
       "</style>\n",
       "<table border=\"1\" class=\"dataframe\">\n",
       "  <thead>\n",
       "    <tr style=\"text-align: right;\">\n",
       "      <th></th>\n",
       "      <th>AccelSec</th>\n",
       "      <th>TopSpeed_KmH</th>\n",
       "      <th>Range_Km</th>\n",
       "      <th>Efficiency_WhKm</th>\n",
       "      <th>FastCharge_KmH</th>\n",
       "      <th>RapidCharge</th>\n",
       "      <th>Seats</th>\n",
       "      <th>Price(Inr)</th>\n",
       "    </tr>\n",
       "  </thead>\n",
       "  <tbody>\n",
       "    <tr>\n",
       "      <th>count</th>\n",
       "      <td>90.000000</td>\n",
       "      <td>90.000000</td>\n",
       "      <td>90.000000</td>\n",
       "      <td>90.000000</td>\n",
       "      <td>90.000000</td>\n",
       "      <td>90.000000</td>\n",
       "      <td>90.000000</td>\n",
       "      <td>9.000000e+01</td>\n",
       "    </tr>\n",
       "    <tr>\n",
       "      <th>mean</th>\n",
       "      <td>7.873333</td>\n",
       "      <td>169.766667</td>\n",
       "      <td>315.388889</td>\n",
       "      <td>187.400000</td>\n",
       "      <td>403.000000</td>\n",
       "      <td>0.722222</td>\n",
       "      <td>4.755556</td>\n",
       "      <td>4.675252e+06</td>\n",
       "    </tr>\n",
       "    <tr>\n",
       "      <th>std</th>\n",
       "      <td>2.889609</td>\n",
       "      <td>32.265420</td>\n",
       "      <td>98.833726</td>\n",
       "      <td>27.767817</td>\n",
       "      <td>172.811842</td>\n",
       "      <td>0.450412</td>\n",
       "      <td>0.675596</td>\n",
       "      <td>2.784081e+06</td>\n",
       "    </tr>\n",
       "    <tr>\n",
       "      <th>min</th>\n",
       "      <td>2.800000</td>\n",
       "      <td>123.000000</td>\n",
       "      <td>95.000000</td>\n",
       "      <td>104.000000</td>\n",
       "      <td>170.000000</td>\n",
       "      <td>0.000000</td>\n",
       "      <td>2.000000</td>\n",
       "      <td>1.800136e+06</td>\n",
       "    </tr>\n",
       "    <tr>\n",
       "      <th>25%</th>\n",
       "      <td>6.050000</td>\n",
       "      <td>150.000000</td>\n",
       "      <td>250.000000</td>\n",
       "      <td>168.000000</td>\n",
       "      <td>232.500000</td>\n",
       "      <td>0.000000</td>\n",
       "      <td>5.000000</td>\n",
       "      <td>2.989399e+06</td>\n",
       "    </tr>\n",
       "    <tr>\n",
       "      <th>50%</th>\n",
       "      <td>7.550000</td>\n",
       "      <td>160.000000</td>\n",
       "      <td>330.000000</td>\n",
       "      <td>180.000000</td>\n",
       "      <td>390.000000</td>\n",
       "      <td>1.000000</td>\n",
       "      <td>5.000000</td>\n",
       "      <td>3.612748e+06</td>\n",
       "    </tr>\n",
       "    <tr>\n",
       "      <th>75%</th>\n",
       "      <td>9.375000</td>\n",
       "      <td>187.500000</td>\n",
       "      <td>383.750000</td>\n",
       "      <td>199.500000</td>\n",
       "      <td>517.500000</td>\n",
       "      <td>1.000000</td>\n",
       "      <td>5.000000</td>\n",
       "      <td>5.509715e+06</td>\n",
       "    </tr>\n",
       "    <tr>\n",
       "      <th>max</th>\n",
       "      <td>22.400000</td>\n",
       "      <td>260.000000</td>\n",
       "      <td>610.000000</td>\n",
       "      <td>273.000000</td>\n",
       "      <td>890.000000</td>\n",
       "      <td>1.000000</td>\n",
       "      <td>7.000000</td>\n",
       "      <td>1.616724e+07</td>\n",
       "    </tr>\n",
       "  </tbody>\n",
       "</table>\n",
       "</div>"
      ],
      "text/plain": [
       "        AccelSec  TopSpeed_KmH    Range_Km  Efficiency_WhKm  FastCharge_KmH  \\\n",
       "count  90.000000     90.000000   90.000000        90.000000       90.000000   \n",
       "mean    7.873333    169.766667  315.388889       187.400000      403.000000   \n",
       "std     2.889609     32.265420   98.833726        27.767817      172.811842   \n",
       "min     2.800000    123.000000   95.000000       104.000000      170.000000   \n",
       "25%     6.050000    150.000000  250.000000       168.000000      232.500000   \n",
       "50%     7.550000    160.000000  330.000000       180.000000      390.000000   \n",
       "75%     9.375000    187.500000  383.750000       199.500000      517.500000   \n",
       "max    22.400000    260.000000  610.000000       273.000000      890.000000   \n",
       "\n",
       "       RapidCharge      Seats    Price(Inr)  \n",
       "count    90.000000  90.000000  9.000000e+01  \n",
       "mean      0.722222   4.755556  4.675252e+06  \n",
       "std       0.450412   0.675596  2.784081e+06  \n",
       "min       0.000000   2.000000  1.800136e+06  \n",
       "25%       0.000000   5.000000  2.989399e+06  \n",
       "50%       1.000000   5.000000  3.612748e+06  \n",
       "75%       1.000000   5.000000  5.509715e+06  \n",
       "max       1.000000   7.000000  1.616724e+07  "
      ]
     },
     "execution_count": 52,
     "metadata": {},
     "output_type": "execute_result"
    }
   ],
   "source": [
    "df.describe()"
   ]
  },
  {
   "cell_type": "code",
   "execution_count": 53,
   "metadata": {},
   "outputs": [
    {
     "data": {
      "application/vnd.plotly.v1+json": {
       "config": {
        "plotlyServerURL": "https://plot.ly"
       },
       "data": [
        {
         "alignmentgroup": "True",
         "hovertemplate": "Brand=%{x}<br>TopSpeed_KmH=%{y}<extra></extra>",
         "legendgroup": "Volkswagen ",
         "marker": {
          "color": "#636efa",
          "pattern": {
           "shape": ""
          }
         },
         "name": "Volkswagen ",
         "offsetgroup": "Volkswagen ",
         "orientation": "v",
         "showlegend": true,
         "textposition": "auto",
         "type": "bar",
         "x": [
          "Volkswagen ",
          "Volkswagen ",
          "Volkswagen ",
          "Volkswagen ",
          "Volkswagen ",
          "Volkswagen ",
          "Volkswagen ",
          "Volkswagen "
         ],
         "xaxis": "x",
         "y": [
          160,
          150,
          160,
          130,
          160,
          160,
          160,
          160
         ],
         "yaxis": "y"
        },
        {
         "alignmentgroup": "True",
         "hovertemplate": "Brand=%{x}<br>TopSpeed_KmH=%{y}<extra></extra>",
         "legendgroup": "Polestar ",
         "marker": {
          "color": "#EF553B",
          "pattern": {
           "shape": ""
          }
         },
         "name": "Polestar ",
         "offsetgroup": "Polestar ",
         "orientation": "v",
         "showlegend": true,
         "textposition": "auto",
         "type": "bar",
         "x": [
          "Polestar "
         ],
         "xaxis": "x",
         "y": [
          210
         ],
         "yaxis": "y"
        },
        {
         "alignmentgroup": "True",
         "hovertemplate": "Brand=%{x}<br>TopSpeed_KmH=%{y}<extra></extra>",
         "legendgroup": "BMW ",
         "marker": {
          "color": "#00cc96",
          "pattern": {
           "shape": ""
          }
         },
         "name": "BMW ",
         "offsetgroup": "BMW ",
         "orientation": "v",
         "showlegend": true,
         "textposition": "auto",
         "type": "bar",
         "x": [
          "BMW ",
          "BMW ",
          "BMW ",
          "BMW "
         ],
         "xaxis": "x",
         "y": [
          180,
          200,
          150,
          160
         ],
         "yaxis": "y"
        },
        {
         "alignmentgroup": "True",
         "hovertemplate": "Brand=%{x}<br>TopSpeed_KmH=%{y}<extra></extra>",
         "legendgroup": "Honda ",
         "marker": {
          "color": "#ab63fa",
          "pattern": {
           "shape": ""
          }
         },
         "name": "Honda ",
         "offsetgroup": "Honda ",
         "orientation": "v",
         "showlegend": true,
         "textposition": "auto",
         "type": "bar",
         "x": [
          "Honda ",
          "Honda "
         ],
         "xaxis": "x",
         "y": [
          145,
          145
         ],
         "yaxis": "y"
        },
        {
         "alignmentgroup": "True",
         "hovertemplate": "Brand=%{x}<br>TopSpeed_KmH=%{y}<extra></extra>",
         "legendgroup": "Lucid ",
         "marker": {
          "color": "#FFA15A",
          "pattern": {
           "shape": ""
          }
         },
         "name": "Lucid ",
         "offsetgroup": "Lucid ",
         "orientation": "v",
         "showlegend": true,
         "textposition": "auto",
         "type": "bar",
         "x": [
          "Lucid "
         ],
         "xaxis": "x",
         "y": [
          250
         ],
         "yaxis": "y"
        },
        {
         "alignmentgroup": "True",
         "hovertemplate": "Brand=%{x}<br>TopSpeed_KmH=%{y}<extra></extra>",
         "legendgroup": "Peugeot ",
         "marker": {
          "color": "#19d3f3",
          "pattern": {
           "shape": ""
          }
         },
         "name": "Peugeot ",
         "offsetgroup": "Peugeot ",
         "orientation": "v",
         "showlegend": true,
         "textposition": "auto",
         "type": "bar",
         "x": [
          "Peugeot ",
          "Peugeot "
         ],
         "xaxis": "x",
         "y": [
          150,
          150
         ],
         "yaxis": "y"
        },
        {
         "alignmentgroup": "True",
         "hovertemplate": "Brand=%{x}<br>TopSpeed_KmH=%{y}<extra></extra>",
         "legendgroup": "Audi ",
         "marker": {
          "color": "#FF6692",
          "pattern": {
           "shape": ""
          }
         },
         "name": "Audi ",
         "offsetgroup": "Audi ",
         "orientation": "v",
         "showlegend": true,
         "textposition": "auto",
         "type": "bar",
         "x": [
          "Audi ",
          "Audi ",
          "Audi ",
          "Audi ",
          "Audi ",
          "Audi ",
          "Audi ",
          "Audi ",
          "Audi "
         ],
         "xaxis": "x",
         "y": [
          180,
          240,
          190,
          200,
          200,
          180,
          190,
          210,
          210
         ],
         "yaxis": "y"
        },
        {
         "alignmentgroup": "True",
         "hovertemplate": "Brand=%{x}<br>TopSpeed_KmH=%{y}<extra></extra>",
         "legendgroup": "Mercedes ",
         "marker": {
          "color": "#B6E880",
          "pattern": {
           "shape": ""
          }
         },
         "name": "Mercedes ",
         "offsetgroup": "Mercedes ",
         "orientation": "v",
         "showlegend": true,
         "textposition": "auto",
         "type": "bar",
         "x": [
          "Mercedes ",
          "Mercedes ",
          "Mercedes "
         ],
         "xaxis": "x",
         "y": [
          180,
          200,
          140
         ],
         "yaxis": "y"
        },
        {
         "alignmentgroup": "True",
         "hovertemplate": "Brand=%{x}<br>TopSpeed_KmH=%{y}<extra></extra>",
         "legendgroup": "Nissan ",
         "marker": {
          "color": "#FF97FF",
          "pattern": {
           "shape": ""
          }
         },
         "name": "Nissan ",
         "offsetgroup": "Nissan ",
         "orientation": "v",
         "showlegend": true,
         "textposition": "auto",
         "type": "bar",
         "x": [
          "Nissan ",
          "Nissan ",
          "Nissan ",
          "Nissan ",
          "Nissan ",
          "Nissan ",
          "Nissan ",
          "Nissan "
         ],
         "xaxis": "x",
         "y": [
          144,
          157,
          160,
          123,
          200,
          160,
          200,
          200
         ],
         "yaxis": "y"
        },
        {
         "alignmentgroup": "True",
         "hovertemplate": "Brand=%{x}<br>TopSpeed_KmH=%{y}<extra></extra>",
         "legendgroup": "Hyundai ",
         "marker": {
          "color": "#FECB52",
          "pattern": {
           "shape": ""
          }
         },
         "name": "Hyundai ",
         "offsetgroup": "Hyundai ",
         "orientation": "v",
         "showlegend": true,
         "textposition": "auto",
         "type": "bar",
         "x": [
          "Hyundai ",
          "Hyundai ",
          "Hyundai "
         ],
         "xaxis": "x",
         "y": [
          167,
          165,
          155
         ],
         "yaxis": "y"
        },
        {
         "alignmentgroup": "True",
         "hovertemplate": "Brand=%{x}<br>TopSpeed_KmH=%{y}<extra></extra>",
         "legendgroup": "Porsche ",
         "marker": {
          "color": "#636efa",
          "pattern": {
           "shape": ""
          }
         },
         "name": "Porsche ",
         "offsetgroup": "Porsche ",
         "orientation": "v",
         "showlegend": true,
         "textposition": "auto",
         "type": "bar",
         "x": [
          "Porsche ",
          "Porsche ",
          "Porsche ",
          "Porsche ",
          "Porsche "
         ],
         "xaxis": "x",
         "y": [
          260,
          250,
          250,
          250,
          260
         ],
         "yaxis": "y"
        },
        {
         "alignmentgroup": "True",
         "hovertemplate": "Brand=%{x}<br>TopSpeed_KmH=%{y}<extra></extra>",
         "legendgroup": "MG ",
         "marker": {
          "color": "#EF553B",
          "pattern": {
           "shape": ""
          }
         },
         "name": "MG ",
         "offsetgroup": "MG ",
         "orientation": "v",
         "showlegend": true,
         "textposition": "auto",
         "type": "bar",
         "x": [
          "MG "
         ],
         "xaxis": "x",
         "y": [
          140
         ],
         "yaxis": "y"
        },
        {
         "alignmentgroup": "True",
         "hovertemplate": "Brand=%{x}<br>TopSpeed_KmH=%{y}<extra></extra>",
         "legendgroup": "Mini ",
         "marker": {
          "color": "#00cc96",
          "pattern": {
           "shape": ""
          }
         },
         "name": "Mini ",
         "offsetgroup": "Mini ",
         "orientation": "v",
         "showlegend": true,
         "textposition": "auto",
         "type": "bar",
         "x": [
          "Mini "
         ],
         "xaxis": "x",
         "y": [
          150
         ],
         "yaxis": "y"
        },
        {
         "alignmentgroup": "True",
         "hovertemplate": "Brand=%{x}<br>TopSpeed_KmH=%{y}<extra></extra>",
         "legendgroup": "Opel ",
         "marker": {
          "color": "#ab63fa",
          "pattern": {
           "shape": ""
          }
         },
         "name": "Opel ",
         "offsetgroup": "Opel ",
         "orientation": "v",
         "showlegend": true,
         "textposition": "auto",
         "type": "bar",
         "x": [
          "Opel ",
          "Opel ",
          "Opel "
         ],
         "xaxis": "x",
         "y": [
          150,
          150,
          150
         ],
         "yaxis": "y"
        },
        {
         "alignmentgroup": "True",
         "hovertemplate": "Brand=%{x}<br>TopSpeed_KmH=%{y}<extra></extra>",
         "legendgroup": "Skoda ",
         "marker": {
          "color": "#FFA15A",
          "pattern": {
           "shape": ""
          }
         },
         "name": "Skoda ",
         "offsetgroup": "Skoda ",
         "orientation": "v",
         "showlegend": true,
         "textposition": "auto",
         "type": "bar",
         "x": [
          "Skoda ",
          "Skoda ",
          "Skoda ",
          "Skoda ",
          "Skoda ",
          "Skoda "
         ],
         "xaxis": "x",
         "y": [
          160,
          130,
          160,
          160,
          180,
          160
         ],
         "yaxis": "y"
        },
        {
         "alignmentgroup": "True",
         "hovertemplate": "Brand=%{x}<br>TopSpeed_KmH=%{y}<extra></extra>",
         "legendgroup": "Volvo ",
         "marker": {
          "color": "#19d3f3",
          "pattern": {
           "shape": ""
          }
         },
         "name": "Volvo ",
         "offsetgroup": "Volvo ",
         "orientation": "v",
         "showlegend": true,
         "textposition": "auto",
         "type": "bar",
         "x": [
          "Volvo "
         ],
         "xaxis": "x",
         "y": [
          180
         ],
         "yaxis": "y"
        },
        {
         "alignmentgroup": "True",
         "hovertemplate": "Brand=%{x}<br>TopSpeed_KmH=%{y}<extra></extra>",
         "legendgroup": "Kia ",
         "marker": {
          "color": "#FF6692",
          "pattern": {
           "shape": ""
          }
         },
         "name": "Kia ",
         "offsetgroup": "Kia ",
         "orientation": "v",
         "showlegend": true,
         "textposition": "auto",
         "type": "bar",
         "x": [
          "Kia ",
          "Kia ",
          "Kia ",
          "Kia ",
          "Kia "
         ],
         "xaxis": "x",
         "y": [
          167,
          167,
          155,
          167,
          157
         ],
         "yaxis": "y"
        },
        {
         "alignmentgroup": "True",
         "hovertemplate": "Brand=%{x}<br>TopSpeed_KmH=%{y}<extra></extra>",
         "legendgroup": "Renault ",
         "marker": {
          "color": "#B6E880",
          "pattern": {
           "shape": ""
          }
         },
         "name": "Renault ",
         "offsetgroup": "Renault ",
         "orientation": "v",
         "showlegend": true,
         "textposition": "auto",
         "type": "bar",
         "x": [
          "Renault ",
          "Renault ",
          "Renault ",
          "Renault ",
          "Renault "
         ],
         "xaxis": "x",
         "y": [
          135,
          140,
          135,
          135,
          130
         ],
         "yaxis": "y"
        },
        {
         "alignmentgroup": "True",
         "hovertemplate": "Brand=%{x}<br>TopSpeed_KmH=%{y}<extra></extra>",
         "legendgroup": "Mazda ",
         "marker": {
          "color": "#FF97FF",
          "pattern": {
           "shape": ""
          }
         },
         "name": "Mazda ",
         "offsetgroup": "Mazda ",
         "orientation": "v",
         "showlegend": true,
         "textposition": "auto",
         "type": "bar",
         "x": [
          "Mazda "
         ],
         "xaxis": "x",
         "y": [
          150
         ],
         "yaxis": "y"
        },
        {
         "alignmentgroup": "True",
         "hovertemplate": "Brand=%{x}<br>TopSpeed_KmH=%{y}<extra></extra>",
         "legendgroup": "Lexus ",
         "marker": {
          "color": "#FECB52",
          "pattern": {
           "shape": ""
          }
         },
         "name": "Lexus ",
         "offsetgroup": "Lexus ",
         "orientation": "v",
         "showlegend": true,
         "textposition": "auto",
         "type": "bar",
         "x": [
          "Lexus "
         ],
         "xaxis": "x",
         "y": [
          160
         ],
         "yaxis": "y"
        },
        {
         "alignmentgroup": "True",
         "hovertemplate": "Brand=%{x}<br>TopSpeed_KmH=%{y}<extra></extra>",
         "legendgroup": "CUPRA ",
         "marker": {
          "color": "#636efa",
          "pattern": {
           "shape": ""
          }
         },
         "name": "CUPRA ",
         "offsetgroup": "CUPRA ",
         "orientation": "v",
         "showlegend": true,
         "textposition": "auto",
         "type": "bar",
         "x": [
          "CUPRA "
         ],
         "xaxis": "x",
         "y": [
          160
         ],
         "yaxis": "y"
        },
        {
         "alignmentgroup": "True",
         "hovertemplate": "Brand=%{x}<br>TopSpeed_KmH=%{y}<extra></extra>",
         "legendgroup": "SEAT ",
         "marker": {
          "color": "#EF553B",
          "pattern": {
           "shape": ""
          }
         },
         "name": "SEAT ",
         "offsetgroup": "SEAT ",
         "orientation": "v",
         "showlegend": true,
         "textposition": "auto",
         "type": "bar",
         "x": [
          "SEAT "
         ],
         "xaxis": "x",
         "y": [
          130
         ],
         "yaxis": "y"
        },
        {
         "alignmentgroup": "True",
         "hovertemplate": "Brand=%{x}<br>TopSpeed_KmH=%{y}<extra></extra>",
         "legendgroup": "Lightyear ",
         "marker": {
          "color": "#00cc96",
          "pattern": {
           "shape": ""
          }
         },
         "name": "Lightyear ",
         "offsetgroup": "Lightyear ",
         "orientation": "v",
         "showlegend": true,
         "textposition": "auto",
         "type": "bar",
         "x": [
          "Lightyear "
         ],
         "xaxis": "x",
         "y": [
          150
         ],
         "yaxis": "y"
        },
        {
         "alignmentgroup": "True",
         "hovertemplate": "Brand=%{x}<br>TopSpeed_KmH=%{y}<extra></extra>",
         "legendgroup": "Aiways ",
         "marker": {
          "color": "#ab63fa",
          "pattern": {
           "shape": ""
          }
         },
         "name": "Aiways ",
         "offsetgroup": "Aiways ",
         "orientation": "v",
         "showlegend": true,
         "textposition": "auto",
         "type": "bar",
         "x": [
          "Aiways "
         ],
         "xaxis": "x",
         "y": [
          150
         ],
         "yaxis": "y"
        },
        {
         "alignmentgroup": "True",
         "hovertemplate": "Brand=%{x}<br>TopSpeed_KmH=%{y}<extra></extra>",
         "legendgroup": "DS ",
         "marker": {
          "color": "#FFA15A",
          "pattern": {
           "shape": ""
          }
         },
         "name": "DS ",
         "offsetgroup": "DS ",
         "orientation": "v",
         "showlegend": true,
         "textposition": "auto",
         "type": "bar",
         "x": [
          "DS "
         ],
         "xaxis": "x",
         "y": [
          150
         ],
         "yaxis": "y"
        },
        {
         "alignmentgroup": "True",
         "hovertemplate": "Brand=%{x}<br>TopSpeed_KmH=%{y}<extra></extra>",
         "legendgroup": "Citroen ",
         "marker": {
          "color": "#19d3f3",
          "pattern": {
           "shape": ""
          }
         },
         "name": "Citroen ",
         "offsetgroup": "Citroen ",
         "orientation": "v",
         "showlegend": true,
         "textposition": "auto",
         "type": "bar",
         "x": [
          "Citroen "
         ],
         "xaxis": "x",
         "y": [
          150
         ],
         "yaxis": "y"
        },
        {
         "alignmentgroup": "True",
         "hovertemplate": "Brand=%{x}<br>TopSpeed_KmH=%{y}<extra></extra>",
         "legendgroup": "Jaguar ",
         "marker": {
          "color": "#FF6692",
          "pattern": {
           "shape": ""
          }
         },
         "name": "Jaguar ",
         "offsetgroup": "Jaguar ",
         "orientation": "v",
         "showlegend": true,
         "textposition": "auto",
         "type": "bar",
         "x": [
          "Jaguar "
         ],
         "xaxis": "x",
         "y": [
          200
         ],
         "yaxis": "y"
        },
        {
         "alignmentgroup": "True",
         "hovertemplate": "Brand=%{x}<br>TopSpeed_KmH=%{y}<extra></extra>",
         "legendgroup": "Ford ",
         "marker": {
          "color": "#B6E880",
          "pattern": {
           "shape": ""
          }
         },
         "name": "Ford ",
         "offsetgroup": "Ford ",
         "orientation": "v",
         "showlegend": true,
         "textposition": "auto",
         "type": "bar",
         "x": [
          "Ford ",
          "Ford ",
          "Ford ",
          "Ford "
         ],
         "xaxis": "x",
         "y": [
          180,
          180,
          180,
          180
         ],
         "yaxis": "y"
        },
        {
         "alignmentgroup": "True",
         "hovertemplate": "Brand=%{x}<br>TopSpeed_KmH=%{y}<extra></extra>",
         "legendgroup": "Byton ",
         "marker": {
          "color": "#FF97FF",
          "pattern": {
           "shape": ""
          }
         },
         "name": "Byton ",
         "offsetgroup": "Byton ",
         "orientation": "v",
         "showlegend": true,
         "textposition": "auto",
         "type": "bar",
         "x": [
          "Byton ",
          "Byton ",
          "Byton "
         ],
         "xaxis": "x",
         "y": [
          190,
          190,
          190
         ],
         "yaxis": "y"
        },
        {
         "alignmentgroup": "True",
         "hovertemplate": "Brand=%{x}<br>TopSpeed_KmH=%{y}<extra></extra>",
         "legendgroup": "Sono ",
         "marker": {
          "color": "#FECB52",
          "pattern": {
           "shape": ""
          }
         },
         "name": "Sono ",
         "offsetgroup": "Sono ",
         "orientation": "v",
         "showlegend": true,
         "textposition": "auto",
         "type": "bar",
         "x": [
          "Sono "
         ],
         "xaxis": "x",
         "y": [
          140
         ],
         "yaxis": "y"
        },
        {
         "alignmentgroup": "True",
         "hovertemplate": "Brand=%{x}<br>TopSpeed_KmH=%{y}<extra></extra>",
         "legendgroup": "Smart ",
         "marker": {
          "color": "#636efa",
          "pattern": {
           "shape": ""
          }
         },
         "name": "Smart ",
         "offsetgroup": "Smart ",
         "orientation": "v",
         "showlegend": true,
         "textposition": "auto",
         "type": "bar",
         "x": [
          "Smart ",
          "Smart ",
          "Smart "
         ],
         "xaxis": "x",
         "y": [
          130,
          130,
          130
         ],
         "yaxis": "y"
        },
        {
         "alignmentgroup": "True",
         "hovertemplate": "Brand=%{x}<br>TopSpeed_KmH=%{y}<extra></extra>",
         "legendgroup": "Fiat ",
         "marker": {
          "color": "#EF553B",
          "pattern": {
           "shape": ""
          }
         },
         "name": "Fiat ",
         "offsetgroup": "Fiat ",
         "orientation": "v",
         "showlegend": true,
         "textposition": "auto",
         "type": "bar",
         "x": [
          "Fiat ",
          "Fiat "
         ],
         "xaxis": "x",
         "y": [
          150,
          150
         ],
         "yaxis": "y"
        }
       ],
       "layout": {
        "barmode": "relative",
        "legend": {
         "title": {
          "text": "Brand"
         },
         "tracegroupgap": 0
        },
        "template": {
         "data": {
          "bar": [
           {
            "error_x": {
             "color": "#2a3f5f"
            },
            "error_y": {
             "color": "#2a3f5f"
            },
            "marker": {
             "line": {
              "color": "#E5ECF6",
              "width": 0.5
             },
             "pattern": {
              "fillmode": "overlay",
              "size": 10,
              "solidity": 0.2
             }
            },
            "type": "bar"
           }
          ],
          "barpolar": [
           {
            "marker": {
             "line": {
              "color": "#E5ECF6",
              "width": 0.5
             },
             "pattern": {
              "fillmode": "overlay",
              "size": 10,
              "solidity": 0.2
             }
            },
            "type": "barpolar"
           }
          ],
          "carpet": [
           {
            "aaxis": {
             "endlinecolor": "#2a3f5f",
             "gridcolor": "white",
             "linecolor": "white",
             "minorgridcolor": "white",
             "startlinecolor": "#2a3f5f"
            },
            "baxis": {
             "endlinecolor": "#2a3f5f",
             "gridcolor": "white",
             "linecolor": "white",
             "minorgridcolor": "white",
             "startlinecolor": "#2a3f5f"
            },
            "type": "carpet"
           }
          ],
          "choropleth": [
           {
            "colorbar": {
             "outlinewidth": 0,
             "ticks": ""
            },
            "type": "choropleth"
           }
          ],
          "contour": [
           {
            "colorbar": {
             "outlinewidth": 0,
             "ticks": ""
            },
            "colorscale": [
             [
              0,
              "#0d0887"
             ],
             [
              0.1111111111111111,
              "#46039f"
             ],
             [
              0.2222222222222222,
              "#7201a8"
             ],
             [
              0.3333333333333333,
              "#9c179e"
             ],
             [
              0.4444444444444444,
              "#bd3786"
             ],
             [
              0.5555555555555556,
              "#d8576b"
             ],
             [
              0.6666666666666666,
              "#ed7953"
             ],
             [
              0.7777777777777778,
              "#fb9f3a"
             ],
             [
              0.8888888888888888,
              "#fdca26"
             ],
             [
              1,
              "#f0f921"
             ]
            ],
            "type": "contour"
           }
          ],
          "contourcarpet": [
           {
            "colorbar": {
             "outlinewidth": 0,
             "ticks": ""
            },
            "type": "contourcarpet"
           }
          ],
          "heatmap": [
           {
            "colorbar": {
             "outlinewidth": 0,
             "ticks": ""
            },
            "colorscale": [
             [
              0,
              "#0d0887"
             ],
             [
              0.1111111111111111,
              "#46039f"
             ],
             [
              0.2222222222222222,
              "#7201a8"
             ],
             [
              0.3333333333333333,
              "#9c179e"
             ],
             [
              0.4444444444444444,
              "#bd3786"
             ],
             [
              0.5555555555555556,
              "#d8576b"
             ],
             [
              0.6666666666666666,
              "#ed7953"
             ],
             [
              0.7777777777777778,
              "#fb9f3a"
             ],
             [
              0.8888888888888888,
              "#fdca26"
             ],
             [
              1,
              "#f0f921"
             ]
            ],
            "type": "heatmap"
           }
          ],
          "heatmapgl": [
           {
            "colorbar": {
             "outlinewidth": 0,
             "ticks": ""
            },
            "colorscale": [
             [
              0,
              "#0d0887"
             ],
             [
              0.1111111111111111,
              "#46039f"
             ],
             [
              0.2222222222222222,
              "#7201a8"
             ],
             [
              0.3333333333333333,
              "#9c179e"
             ],
             [
              0.4444444444444444,
              "#bd3786"
             ],
             [
              0.5555555555555556,
              "#d8576b"
             ],
             [
              0.6666666666666666,
              "#ed7953"
             ],
             [
              0.7777777777777778,
              "#fb9f3a"
             ],
             [
              0.8888888888888888,
              "#fdca26"
             ],
             [
              1,
              "#f0f921"
             ]
            ],
            "type": "heatmapgl"
           }
          ],
          "histogram": [
           {
            "marker": {
             "pattern": {
              "fillmode": "overlay",
              "size": 10,
              "solidity": 0.2
             }
            },
            "type": "histogram"
           }
          ],
          "histogram2d": [
           {
            "colorbar": {
             "outlinewidth": 0,
             "ticks": ""
            },
            "colorscale": [
             [
              0,
              "#0d0887"
             ],
             [
              0.1111111111111111,
              "#46039f"
             ],
             [
              0.2222222222222222,
              "#7201a8"
             ],
             [
              0.3333333333333333,
              "#9c179e"
             ],
             [
              0.4444444444444444,
              "#bd3786"
             ],
             [
              0.5555555555555556,
              "#d8576b"
             ],
             [
              0.6666666666666666,
              "#ed7953"
             ],
             [
              0.7777777777777778,
              "#fb9f3a"
             ],
             [
              0.8888888888888888,
              "#fdca26"
             ],
             [
              1,
              "#f0f921"
             ]
            ],
            "type": "histogram2d"
           }
          ],
          "histogram2dcontour": [
           {
            "colorbar": {
             "outlinewidth": 0,
             "ticks": ""
            },
            "colorscale": [
             [
              0,
              "#0d0887"
             ],
             [
              0.1111111111111111,
              "#46039f"
             ],
             [
              0.2222222222222222,
              "#7201a8"
             ],
             [
              0.3333333333333333,
              "#9c179e"
             ],
             [
              0.4444444444444444,
              "#bd3786"
             ],
             [
              0.5555555555555556,
              "#d8576b"
             ],
             [
              0.6666666666666666,
              "#ed7953"
             ],
             [
              0.7777777777777778,
              "#fb9f3a"
             ],
             [
              0.8888888888888888,
              "#fdca26"
             ],
             [
              1,
              "#f0f921"
             ]
            ],
            "type": "histogram2dcontour"
           }
          ],
          "mesh3d": [
           {
            "colorbar": {
             "outlinewidth": 0,
             "ticks": ""
            },
            "type": "mesh3d"
           }
          ],
          "parcoords": [
           {
            "line": {
             "colorbar": {
              "outlinewidth": 0,
              "ticks": ""
             }
            },
            "type": "parcoords"
           }
          ],
          "pie": [
           {
            "automargin": true,
            "type": "pie"
           }
          ],
          "scatter": [
           {
            "fillpattern": {
             "fillmode": "overlay",
             "size": 10,
             "solidity": 0.2
            },
            "type": "scatter"
           }
          ],
          "scatter3d": [
           {
            "line": {
             "colorbar": {
              "outlinewidth": 0,
              "ticks": ""
             }
            },
            "marker": {
             "colorbar": {
              "outlinewidth": 0,
              "ticks": ""
             }
            },
            "type": "scatter3d"
           }
          ],
          "scattercarpet": [
           {
            "marker": {
             "colorbar": {
              "outlinewidth": 0,
              "ticks": ""
             }
            },
            "type": "scattercarpet"
           }
          ],
          "scattergeo": [
           {
            "marker": {
             "colorbar": {
              "outlinewidth": 0,
              "ticks": ""
             }
            },
            "type": "scattergeo"
           }
          ],
          "scattergl": [
           {
            "marker": {
             "colorbar": {
              "outlinewidth": 0,
              "ticks": ""
             }
            },
            "type": "scattergl"
           }
          ],
          "scattermapbox": [
           {
            "marker": {
             "colorbar": {
              "outlinewidth": 0,
              "ticks": ""
             }
            },
            "type": "scattermapbox"
           }
          ],
          "scatterpolar": [
           {
            "marker": {
             "colorbar": {
              "outlinewidth": 0,
              "ticks": ""
             }
            },
            "type": "scatterpolar"
           }
          ],
          "scatterpolargl": [
           {
            "marker": {
             "colorbar": {
              "outlinewidth": 0,
              "ticks": ""
             }
            },
            "type": "scatterpolargl"
           }
          ],
          "scatterternary": [
           {
            "marker": {
             "colorbar": {
              "outlinewidth": 0,
              "ticks": ""
             }
            },
            "type": "scatterternary"
           }
          ],
          "surface": [
           {
            "colorbar": {
             "outlinewidth": 0,
             "ticks": ""
            },
            "colorscale": [
             [
              0,
              "#0d0887"
             ],
             [
              0.1111111111111111,
              "#46039f"
             ],
             [
              0.2222222222222222,
              "#7201a8"
             ],
             [
              0.3333333333333333,
              "#9c179e"
             ],
             [
              0.4444444444444444,
              "#bd3786"
             ],
             [
              0.5555555555555556,
              "#d8576b"
             ],
             [
              0.6666666666666666,
              "#ed7953"
             ],
             [
              0.7777777777777778,
              "#fb9f3a"
             ],
             [
              0.8888888888888888,
              "#fdca26"
             ],
             [
              1,
              "#f0f921"
             ]
            ],
            "type": "surface"
           }
          ],
          "table": [
           {
            "cells": {
             "fill": {
              "color": "#EBF0F8"
             },
             "line": {
              "color": "white"
             }
            },
            "header": {
             "fill": {
              "color": "#C8D4E3"
             },
             "line": {
              "color": "white"
             }
            },
            "type": "table"
           }
          ]
         },
         "layout": {
          "annotationdefaults": {
           "arrowcolor": "#2a3f5f",
           "arrowhead": 0,
           "arrowwidth": 1
          },
          "autotypenumbers": "strict",
          "coloraxis": {
           "colorbar": {
            "outlinewidth": 0,
            "ticks": ""
           }
          },
          "colorscale": {
           "diverging": [
            [
             0,
             "#8e0152"
            ],
            [
             0.1,
             "#c51b7d"
            ],
            [
             0.2,
             "#de77ae"
            ],
            [
             0.3,
             "#f1b6da"
            ],
            [
             0.4,
             "#fde0ef"
            ],
            [
             0.5,
             "#f7f7f7"
            ],
            [
             0.6,
             "#e6f5d0"
            ],
            [
             0.7,
             "#b8e186"
            ],
            [
             0.8,
             "#7fbc41"
            ],
            [
             0.9,
             "#4d9221"
            ],
            [
             1,
             "#276419"
            ]
           ],
           "sequential": [
            [
             0,
             "#0d0887"
            ],
            [
             0.1111111111111111,
             "#46039f"
            ],
            [
             0.2222222222222222,
             "#7201a8"
            ],
            [
             0.3333333333333333,
             "#9c179e"
            ],
            [
             0.4444444444444444,
             "#bd3786"
            ],
            [
             0.5555555555555556,
             "#d8576b"
            ],
            [
             0.6666666666666666,
             "#ed7953"
            ],
            [
             0.7777777777777778,
             "#fb9f3a"
            ],
            [
             0.8888888888888888,
             "#fdca26"
            ],
            [
             1,
             "#f0f921"
            ]
           ],
           "sequentialminus": [
            [
             0,
             "#0d0887"
            ],
            [
             0.1111111111111111,
             "#46039f"
            ],
            [
             0.2222222222222222,
             "#7201a8"
            ],
            [
             0.3333333333333333,
             "#9c179e"
            ],
            [
             0.4444444444444444,
             "#bd3786"
            ],
            [
             0.5555555555555556,
             "#d8576b"
            ],
            [
             0.6666666666666666,
             "#ed7953"
            ],
            [
             0.7777777777777778,
             "#fb9f3a"
            ],
            [
             0.8888888888888888,
             "#fdca26"
            ],
            [
             1,
             "#f0f921"
            ]
           ]
          },
          "colorway": [
           "#636efa",
           "#EF553B",
           "#00cc96",
           "#ab63fa",
           "#FFA15A",
           "#19d3f3",
           "#FF6692",
           "#B6E880",
           "#FF97FF",
           "#FECB52"
          ],
          "font": {
           "color": "#2a3f5f"
          },
          "geo": {
           "bgcolor": "white",
           "lakecolor": "white",
           "landcolor": "#E5ECF6",
           "showlakes": true,
           "showland": true,
           "subunitcolor": "white"
          },
          "hoverlabel": {
           "align": "left"
          },
          "hovermode": "closest",
          "mapbox": {
           "style": "light"
          },
          "paper_bgcolor": "white",
          "plot_bgcolor": "#E5ECF6",
          "polar": {
           "angularaxis": {
            "gridcolor": "white",
            "linecolor": "white",
            "ticks": ""
           },
           "bgcolor": "#E5ECF6",
           "radialaxis": {
            "gridcolor": "white",
            "linecolor": "white",
            "ticks": ""
           }
          },
          "scene": {
           "xaxis": {
            "backgroundcolor": "#E5ECF6",
            "gridcolor": "white",
            "gridwidth": 2,
            "linecolor": "white",
            "showbackground": true,
            "ticks": "",
            "zerolinecolor": "white"
           },
           "yaxis": {
            "backgroundcolor": "#E5ECF6",
            "gridcolor": "white",
            "gridwidth": 2,
            "linecolor": "white",
            "showbackground": true,
            "ticks": "",
            "zerolinecolor": "white"
           },
           "zaxis": {
            "backgroundcolor": "#E5ECF6",
            "gridcolor": "white",
            "gridwidth": 2,
            "linecolor": "white",
            "showbackground": true,
            "ticks": "",
            "zerolinecolor": "white"
           }
          },
          "shapedefaults": {
           "line": {
            "color": "#2a3f5f"
           }
          },
          "ternary": {
           "aaxis": {
            "gridcolor": "white",
            "linecolor": "white",
            "ticks": ""
           },
           "baxis": {
            "gridcolor": "white",
            "linecolor": "white",
            "ticks": ""
           },
           "bgcolor": "#E5ECF6",
           "caxis": {
            "gridcolor": "white",
            "linecolor": "white",
            "ticks": ""
           }
          },
          "title": {
           "x": 0.05
          },
          "xaxis": {
           "automargin": true,
           "gridcolor": "white",
           "linecolor": "white",
           "ticks": "",
           "title": {
            "standoff": 15
           },
           "zerolinecolor": "white",
           "zerolinewidth": 2
          },
          "yaxis": {
           "automargin": true,
           "gridcolor": "white",
           "linecolor": "white",
           "ticks": "",
           "title": {
            "standoff": 15
           },
           "zerolinecolor": "white",
           "zerolinewidth": 2
          }
         }
        },
        "title": {
         "text": "Which Car Has a Top speed?"
        },
        "xaxis": {
         "anchor": "y",
         "categoryarray": [
          "Volkswagen ",
          "Polestar ",
          "BMW ",
          "Honda ",
          "Lucid ",
          "Peugeot ",
          "Audi ",
          "Mercedes ",
          "Nissan ",
          "Hyundai ",
          "Porsche ",
          "MG ",
          "Mini ",
          "Opel ",
          "Skoda ",
          "Volvo ",
          "Kia ",
          "Renault ",
          "Mazda ",
          "Lexus ",
          "CUPRA ",
          "SEAT ",
          "Lightyear ",
          "Aiways ",
          "DS ",
          "Citroen ",
          "Jaguar ",
          "Ford ",
          "Byton ",
          "Sono ",
          "Smart ",
          "Fiat "
         ],
         "categoryorder": "array",
         "domain": [
          0,
          1
         ],
         "title": {
          "text": "Brand"
         }
        },
        "yaxis": {
         "anchor": "x",
         "domain": [
          0,
          1
         ],
         "title": {
          "text": "TopSpeed_KmH"
         }
        }
       }
      }
     },
     "metadata": {},
     "output_type": "display_data"
    }
   ],
   "source": [
    "fig = px.bar(df,x='Brand',y = 'TopSpeed_KmH',color = 'Brand',title = 'Which Car Has a Top speed?',labels = {'x':'Car Brands','y':'Top Speed Km/H'})\n",
    "pio.show(fig)"
   ]
  },
  {
   "cell_type": "code",
   "execution_count": 54,
   "metadata": {},
   "outputs": [
    {
     "data": {
      "application/vnd.plotly.v1+json": {
       "config": {
        "plotlyServerURL": "https://plot.ly"
       },
       "data": [
        {
         "alignmentgroup": "True",
         "hovertemplate": "Brand=%{y}<br>AccelSec=%{x}<extra></extra>",
         "legendgroup": "Volkswagen ",
         "marker": {
          "color": "#636efa",
          "pattern": {
           "shape": ""
          }
         },
         "name": "Volkswagen ",
         "offsetgroup": "Volkswagen ",
         "orientation": "h",
         "showlegend": true,
         "textposition": "auto",
         "type": "bar",
         "x": [
          10,
          9.6,
          7.9,
          11.9,
          7.5,
          9,
          7.3,
          7.3
         ],
         "xaxis": "x",
         "y": [
          "Volkswagen ",
          "Volkswagen ",
          "Volkswagen ",
          "Volkswagen ",
          "Volkswagen ",
          "Volkswagen ",
          "Volkswagen ",
          "Volkswagen "
         ],
         "yaxis": "y"
        },
        {
         "alignmentgroup": "True",
         "hovertemplate": "Brand=%{y}<br>AccelSec=%{x}<extra></extra>",
         "legendgroup": "Polestar ",
         "marker": {
          "color": "#EF553B",
          "pattern": {
           "shape": ""
          }
         },
         "name": "Polestar ",
         "offsetgroup": "Polestar ",
         "orientation": "h",
         "showlegend": true,
         "textposition": "auto",
         "type": "bar",
         "x": [
          4.7
         ],
         "xaxis": "x",
         "y": [
          "Polestar "
         ],
         "yaxis": "y"
        },
        {
         "alignmentgroup": "True",
         "hovertemplate": "Brand=%{y}<br>AccelSec=%{x}<extra></extra>",
         "legendgroup": "BMW ",
         "marker": {
          "color": "#00cc96",
          "pattern": {
           "shape": ""
          }
         },
         "name": "BMW ",
         "offsetgroup": "BMW ",
         "orientation": "h",
         "showlegend": true,
         "textposition": "auto",
         "type": "bar",
         "x": [
          6.8,
          4,
          7.3,
          6.9
         ],
         "xaxis": "x",
         "y": [
          "BMW ",
          "BMW ",
          "BMW ",
          "BMW "
         ],
         "yaxis": "y"
        },
        {
         "alignmentgroup": "True",
         "hovertemplate": "Brand=%{y}<br>AccelSec=%{x}<extra></extra>",
         "legendgroup": "Honda ",
         "marker": {
          "color": "#ab63fa",
          "pattern": {
           "shape": ""
          }
         },
         "name": "Honda ",
         "offsetgroup": "Honda ",
         "orientation": "h",
         "showlegend": true,
         "textposition": "auto",
         "type": "bar",
         "x": [
          9.5,
          8.3
         ],
         "xaxis": "x",
         "y": [
          "Honda ",
          "Honda "
         ],
         "yaxis": "y"
        },
        {
         "alignmentgroup": "True",
         "hovertemplate": "Brand=%{y}<br>AccelSec=%{x}<extra></extra>",
         "legendgroup": "Lucid ",
         "marker": {
          "color": "#FFA15A",
          "pattern": {
           "shape": ""
          }
         },
         "name": "Lucid ",
         "offsetgroup": "Lucid ",
         "orientation": "h",
         "showlegend": true,
         "textposition": "auto",
         "type": "bar",
         "x": [
          2.8
         ],
         "xaxis": "x",
         "y": [
          "Lucid "
         ],
         "yaxis": "y"
        },
        {
         "alignmentgroup": "True",
         "hovertemplate": "Brand=%{y}<br>AccelSec=%{x}<extra></extra>",
         "legendgroup": "Peugeot ",
         "marker": {
          "color": "#19d3f3",
          "pattern": {
           "shape": ""
          }
         },
         "name": "Peugeot ",
         "offsetgroup": "Peugeot ",
         "orientation": "h",
         "showlegend": true,
         "textposition": "auto",
         "type": "bar",
         "x": [
          8.1,
          8.5
         ],
         "xaxis": "x",
         "y": [
          "Peugeot ",
          "Peugeot "
         ],
         "yaxis": "y"
        },
        {
         "alignmentgroup": "True",
         "hovertemplate": "Brand=%{y}<br>AccelSec=%{x}<extra></extra>",
         "legendgroup": "Audi ",
         "marker": {
          "color": "#FF6692",
          "pattern": {
           "shape": ""
          }
         },
         "name": "Audi ",
         "offsetgroup": "Audi ",
         "orientation": "h",
         "showlegend": true,
         "textposition": "auto",
         "type": "bar",
         "x": [
          6.3,
          3.5,
          6.8,
          5.7,
          5.7,
          6.3,
          6.8,
          4.5,
          4.5
         ],
         "xaxis": "x",
         "y": [
          "Audi ",
          "Audi ",
          "Audi ",
          "Audi ",
          "Audi ",
          "Audi ",
          "Audi ",
          "Audi ",
          "Audi "
         ],
         "yaxis": "y"
        },
        {
         "alignmentgroup": "True",
         "hovertemplate": "Brand=%{y}<br>AccelSec=%{x}<extra></extra>",
         "legendgroup": "Mercedes ",
         "marker": {
          "color": "#B6E880",
          "pattern": {
           "shape": ""
          }
         },
         "name": "Mercedes ",
         "offsetgroup": "Mercedes ",
         "orientation": "h",
         "showlegend": true,
         "textposition": "auto",
         "type": "bar",
         "x": [
          5.1,
          5,
          10
         ],
         "xaxis": "x",
         "y": [
          "Mercedes ",
          "Mercedes ",
          "Mercedes "
         ],
         "yaxis": "y"
        },
        {
         "alignmentgroup": "True",
         "hovertemplate": "Brand=%{y}<br>AccelSec=%{x}<extra></extra>",
         "legendgroup": "Nissan ",
         "marker": {
          "color": "#FF97FF",
          "pattern": {
           "shape": ""
          }
         },
         "name": "Nissan ",
         "offsetgroup": "Nissan ",
         "orientation": "h",
         "showlegend": true,
         "textposition": "auto",
         "type": "bar",
         "x": [
          7.9,
          7.3,
          7.6,
          14,
          5.7,
          7.5,
          5.9,
          5.1
         ],
         "xaxis": "x",
         "y": [
          "Nissan ",
          "Nissan ",
          "Nissan ",
          "Nissan ",
          "Nissan ",
          "Nissan ",
          "Nissan ",
          "Nissan "
         ],
         "yaxis": "y"
        },
        {
         "alignmentgroup": "True",
         "hovertemplate": "Brand=%{y}<br>AccelSec=%{x}<extra></extra>",
         "legendgroup": "Hyundai ",
         "marker": {
          "color": "#FECB52",
          "pattern": {
           "shape": ""
          }
         },
         "name": "Hyundai ",
         "offsetgroup": "Hyundai ",
         "orientation": "h",
         "showlegend": true,
         "textposition": "auto",
         "type": "bar",
         "x": [
          7.9,
          9.7,
          9.9
         ],
         "xaxis": "x",
         "y": [
          "Hyundai ",
          "Hyundai ",
          "Hyundai "
         ],
         "yaxis": "y"
        },
        {
         "alignmentgroup": "True",
         "hovertemplate": "Brand=%{y}<br>AccelSec=%{x}<extra></extra>",
         "legendgroup": "Porsche ",
         "marker": {
          "color": "#636efa",
          "pattern": {
           "shape": ""
          }
         },
         "name": "Porsche ",
         "offsetgroup": "Porsche ",
         "orientation": "h",
         "showlegend": true,
         "textposition": "auto",
         "type": "bar",
         "x": [
          2.8,
          4,
          4,
          3.5,
          3.2
         ],
         "xaxis": "x",
         "y": [
          "Porsche ",
          "Porsche ",
          "Porsche ",
          "Porsche ",
          "Porsche "
         ],
         "yaxis": "y"
        },
        {
         "alignmentgroup": "True",
         "hovertemplate": "Brand=%{y}<br>AccelSec=%{x}<extra></extra>",
         "legendgroup": "MG ",
         "marker": {
          "color": "#EF553B",
          "pattern": {
           "shape": ""
          }
         },
         "name": "MG ",
         "offsetgroup": "MG ",
         "orientation": "h",
         "showlegend": true,
         "textposition": "auto",
         "type": "bar",
         "x": [
          8.2
         ],
         "xaxis": "x",
         "y": [
          "MG "
         ],
         "yaxis": "y"
        },
        {
         "alignmentgroup": "True",
         "hovertemplate": "Brand=%{y}<br>AccelSec=%{x}<extra></extra>",
         "legendgroup": "Mini ",
         "marker": {
          "color": "#00cc96",
          "pattern": {
           "shape": ""
          }
         },
         "name": "Mini ",
         "offsetgroup": "Mini ",
         "orientation": "h",
         "showlegend": true,
         "textposition": "auto",
         "type": "bar",
         "x": [
          7.3
         ],
         "xaxis": "x",
         "y": [
          "Mini "
         ],
         "yaxis": "y"
        },
        {
         "alignmentgroup": "True",
         "hovertemplate": "Brand=%{y}<br>AccelSec=%{x}<extra></extra>",
         "legendgroup": "Opel ",
         "marker": {
          "color": "#ab63fa",
          "pattern": {
           "shape": ""
          }
         },
         "name": "Opel ",
         "offsetgroup": "Opel ",
         "orientation": "h",
         "showlegend": true,
         "textposition": "auto",
         "type": "bar",
         "x": [
          8.1,
          7.3,
          8.5
         ],
         "xaxis": "x",
         "y": [
          "Opel ",
          "Opel ",
          "Opel "
         ],
         "yaxis": "y"
        },
        {
         "alignmentgroup": "True",
         "hovertemplate": "Brand=%{y}<br>AccelSec=%{x}<extra></extra>",
         "legendgroup": "Skoda ",
         "marker": {
          "color": "#FFA15A",
          "pattern": {
           "shape": ""
          }
         },
         "name": "Skoda ",
         "offsetgroup": "Skoda ",
         "orientation": "h",
         "showlegend": true,
         "textposition": "auto",
         "type": "bar",
         "x": [
          10,
          12.3,
          8.8,
          7,
          6.2,
          9
         ],
         "xaxis": "x",
         "y": [
          "Skoda ",
          "Skoda ",
          "Skoda ",
          "Skoda ",
          "Skoda ",
          "Skoda "
         ],
         "yaxis": "y"
        },
        {
         "alignmentgroup": "True",
         "hovertemplate": "Brand=%{y}<br>AccelSec=%{x}<extra></extra>",
         "legendgroup": "Volvo ",
         "marker": {
          "color": "#19d3f3",
          "pattern": {
           "shape": ""
          }
         },
         "name": "Volvo ",
         "offsetgroup": "Volvo ",
         "orientation": "h",
         "showlegend": true,
         "textposition": "auto",
         "type": "bar",
         "x": [
          4.9
         ],
         "xaxis": "x",
         "y": [
          "Volvo "
         ],
         "yaxis": "y"
        },
        {
         "alignmentgroup": "True",
         "hovertemplate": "Brand=%{y}<br>AccelSec=%{x}<extra></extra>",
         "legendgroup": "Kia ",
         "marker": {
          "color": "#FF6692",
          "pattern": {
           "shape": ""
          }
         },
         "name": "Kia ",
         "offsetgroup": "Kia ",
         "orientation": "h",
         "showlegend": true,
         "textposition": "auto",
         "type": "bar",
         "x": [
          7.8,
          7.9,
          9.8,
          7.9,
          9.9
         ],
         "xaxis": "x",
         "y": [
          "Kia ",
          "Kia ",
          "Kia ",
          "Kia ",
          "Kia "
         ],
         "yaxis": "y"
        },
        {
         "alignmentgroup": "True",
         "hovertemplate": "Brand=%{y}<br>AccelSec=%{x}<extra></extra>",
         "legendgroup": "Renault ",
         "marker": {
          "color": "#B6E880",
          "pattern": {
           "shape": ""
          }
         },
         "name": "Renault ",
         "offsetgroup": "Renault ",
         "orientation": "h",
         "showlegend": true,
         "textposition": "auto",
         "type": "bar",
         "x": [
          11.4,
          9.5,
          12.6,
          11.4,
          22.4
         ],
         "xaxis": "x",
         "y": [
          "Renault ",
          "Renault ",
          "Renault ",
          "Renault ",
          "Renault "
         ],
         "yaxis": "y"
        },
        {
         "alignmentgroup": "True",
         "hovertemplate": "Brand=%{y}<br>AccelSec=%{x}<extra></extra>",
         "legendgroup": "Mazda ",
         "marker": {
          "color": "#FF97FF",
          "pattern": {
           "shape": ""
          }
         },
         "name": "Mazda ",
         "offsetgroup": "Mazda ",
         "orientation": "h",
         "showlegend": true,
         "textposition": "auto",
         "type": "bar",
         "x": [
          9
         ],
         "xaxis": "x",
         "y": [
          "Mazda "
         ],
         "yaxis": "y"
        },
        {
         "alignmentgroup": "True",
         "hovertemplate": "Brand=%{y}<br>AccelSec=%{x}<extra></extra>",
         "legendgroup": "Lexus ",
         "marker": {
          "color": "#FECB52",
          "pattern": {
           "shape": ""
          }
         },
         "name": "Lexus ",
         "offsetgroup": "Lexus ",
         "orientation": "h",
         "showlegend": true,
         "textposition": "auto",
         "type": "bar",
         "x": [
          7.5
         ],
         "xaxis": "x",
         "y": [
          "Lexus "
         ],
         "yaxis": "y"
        },
        {
         "alignmentgroup": "True",
         "hovertemplate": "Brand=%{y}<br>AccelSec=%{x}<extra></extra>",
         "legendgroup": "CUPRA ",
         "marker": {
          "color": "#636efa",
          "pattern": {
           "shape": ""
          }
         },
         "name": "CUPRA ",
         "offsetgroup": "CUPRA ",
         "orientation": "h",
         "showlegend": true,
         "textposition": "auto",
         "type": "bar",
         "x": [
          6.5
         ],
         "xaxis": "x",
         "y": [
          "CUPRA "
         ],
         "yaxis": "y"
        },
        {
         "alignmentgroup": "True",
         "hovertemplate": "Brand=%{y}<br>AccelSec=%{x}<extra></extra>",
         "legendgroup": "SEAT ",
         "marker": {
          "color": "#EF553B",
          "pattern": {
           "shape": ""
          }
         },
         "name": "SEAT ",
         "offsetgroup": "SEAT ",
         "orientation": "h",
         "showlegend": true,
         "textposition": "auto",
         "type": "bar",
         "x": [
          12.3
         ],
         "xaxis": "x",
         "y": [
          "SEAT "
         ],
         "yaxis": "y"
        },
        {
         "alignmentgroup": "True",
         "hovertemplate": "Brand=%{y}<br>AccelSec=%{x}<extra></extra>",
         "legendgroup": "Lightyear ",
         "marker": {
          "color": "#00cc96",
          "pattern": {
           "shape": ""
          }
         },
         "name": "Lightyear ",
         "offsetgroup": "Lightyear ",
         "orientation": "h",
         "showlegend": true,
         "textposition": "auto",
         "type": "bar",
         "x": [
          10
         ],
         "xaxis": "x",
         "y": [
          "Lightyear "
         ],
         "yaxis": "y"
        },
        {
         "alignmentgroup": "True",
         "hovertemplate": "Brand=%{y}<br>AccelSec=%{x}<extra></extra>",
         "legendgroup": "Aiways ",
         "marker": {
          "color": "#ab63fa",
          "pattern": {
           "shape": ""
          }
         },
         "name": "Aiways ",
         "offsetgroup": "Aiways ",
         "orientation": "h",
         "showlegend": true,
         "textposition": "auto",
         "type": "bar",
         "x": [
          9
         ],
         "xaxis": "x",
         "y": [
          "Aiways "
         ],
         "yaxis": "y"
        },
        {
         "alignmentgroup": "True",
         "hovertemplate": "Brand=%{y}<br>AccelSec=%{x}<extra></extra>",
         "legendgroup": "DS ",
         "marker": {
          "color": "#FFA15A",
          "pattern": {
           "shape": ""
          }
         },
         "name": "DS ",
         "offsetgroup": "DS ",
         "orientation": "h",
         "showlegend": true,
         "textposition": "auto",
         "type": "bar",
         "x": [
          8.7
         ],
         "xaxis": "x",
         "y": [
          "DS "
         ],
         "yaxis": "y"
        },
        {
         "alignmentgroup": "True",
         "hovertemplate": "Brand=%{y}<br>AccelSec=%{x}<extra></extra>",
         "legendgroup": "Citroen ",
         "marker": {
          "color": "#19d3f3",
          "pattern": {
           "shape": ""
          }
         },
         "name": "Citroen ",
         "offsetgroup": "Citroen ",
         "orientation": "h",
         "showlegend": true,
         "textposition": "auto",
         "type": "bar",
         "x": [
          9.7
         ],
         "xaxis": "x",
         "y": [
          "Citroen "
         ],
         "yaxis": "y"
        },
        {
         "alignmentgroup": "True",
         "hovertemplate": "Brand=%{y}<br>AccelSec=%{x}<extra></extra>",
         "legendgroup": "Jaguar ",
         "marker": {
          "color": "#FF6692",
          "pattern": {
           "shape": ""
          }
         },
         "name": "Jaguar ",
         "offsetgroup": "Jaguar ",
         "orientation": "h",
         "showlegend": true,
         "textposition": "auto",
         "type": "bar",
         "x": [
          4.8
         ],
         "xaxis": "x",
         "y": [
          "Jaguar "
         ],
         "yaxis": "y"
        },
        {
         "alignmentgroup": "True",
         "hovertemplate": "Brand=%{y}<br>AccelSec=%{x}<extra></extra>",
         "legendgroup": "Ford ",
         "marker": {
          "color": "#B6E880",
          "pattern": {
           "shape": ""
          }
         },
         "name": "Ford ",
         "offsetgroup": "Ford ",
         "orientation": "h",
         "showlegend": true,
         "textposition": "auto",
         "type": "bar",
         "x": [
          7,
          6,
          6,
          6.6
         ],
         "xaxis": "x",
         "y": [
          "Ford ",
          "Ford ",
          "Ford ",
          "Ford "
         ],
         "yaxis": "y"
        },
        {
         "alignmentgroup": "True",
         "hovertemplate": "Brand=%{y}<br>AccelSec=%{x}<extra></extra>",
         "legendgroup": "Byton ",
         "marker": {
          "color": "#FF97FF",
          "pattern": {
           "shape": ""
          }
         },
         "name": "Byton ",
         "offsetgroup": "Byton ",
         "orientation": "h",
         "showlegend": true,
         "textposition": "auto",
         "type": "bar",
         "x": [
          5.5,
          7.5,
          7.5
         ],
         "xaxis": "x",
         "y": [
          "Byton ",
          "Byton ",
          "Byton "
         ],
         "yaxis": "y"
        },
        {
         "alignmentgroup": "True",
         "hovertemplate": "Brand=%{y}<br>AccelSec=%{x}<extra></extra>",
         "legendgroup": "Sono ",
         "marker": {
          "color": "#FECB52",
          "pattern": {
           "shape": ""
          }
         },
         "name": "Sono ",
         "offsetgroup": "Sono ",
         "orientation": "h",
         "showlegend": true,
         "textposition": "auto",
         "type": "bar",
         "x": [
          9
         ],
         "xaxis": "x",
         "y": [
          "Sono "
         ],
         "yaxis": "y"
        },
        {
         "alignmentgroup": "True",
         "hovertemplate": "Brand=%{y}<br>AccelSec=%{x}<extra></extra>",
         "legendgroup": "Smart ",
         "marker": {
          "color": "#636efa",
          "pattern": {
           "shape": ""
          }
         },
         "name": "Smart ",
         "offsetgroup": "Smart ",
         "orientation": "h",
         "showlegend": true,
         "textposition": "auto",
         "type": "bar",
         "x": [
          12.7,
          11.6,
          11.9
         ],
         "xaxis": "x",
         "y": [
          "Smart ",
          "Smart ",
          "Smart "
         ],
         "yaxis": "y"
        },
        {
         "alignmentgroup": "True",
         "hovertemplate": "Brand=%{y}<br>AccelSec=%{x}<extra></extra>",
         "legendgroup": "Fiat ",
         "marker": {
          "color": "#EF553B",
          "pattern": {
           "shape": ""
          }
         },
         "name": "Fiat ",
         "offsetgroup": "Fiat ",
         "orientation": "h",
         "showlegend": true,
         "textposition": "auto",
         "type": "bar",
         "x": [
          9,
          9
         ],
         "xaxis": "x",
         "y": [
          "Fiat ",
          "Fiat "
         ],
         "yaxis": "y"
        }
       ],
       "layout": {
        "barmode": "relative",
        "legend": {
         "title": {
          "text": "Brand"
         },
         "tracegroupgap": 0
        },
        "template": {
         "data": {
          "bar": [
           {
            "error_x": {
             "color": "#2a3f5f"
            },
            "error_y": {
             "color": "#2a3f5f"
            },
            "marker": {
             "line": {
              "color": "#E5ECF6",
              "width": 0.5
             },
             "pattern": {
              "fillmode": "overlay",
              "size": 10,
              "solidity": 0.2
             }
            },
            "type": "bar"
           }
          ],
          "barpolar": [
           {
            "marker": {
             "line": {
              "color": "#E5ECF6",
              "width": 0.5
             },
             "pattern": {
              "fillmode": "overlay",
              "size": 10,
              "solidity": 0.2
             }
            },
            "type": "barpolar"
           }
          ],
          "carpet": [
           {
            "aaxis": {
             "endlinecolor": "#2a3f5f",
             "gridcolor": "white",
             "linecolor": "white",
             "minorgridcolor": "white",
             "startlinecolor": "#2a3f5f"
            },
            "baxis": {
             "endlinecolor": "#2a3f5f",
             "gridcolor": "white",
             "linecolor": "white",
             "minorgridcolor": "white",
             "startlinecolor": "#2a3f5f"
            },
            "type": "carpet"
           }
          ],
          "choropleth": [
           {
            "colorbar": {
             "outlinewidth": 0,
             "ticks": ""
            },
            "type": "choropleth"
           }
          ],
          "contour": [
           {
            "colorbar": {
             "outlinewidth": 0,
             "ticks": ""
            },
            "colorscale": [
             [
              0,
              "#0d0887"
             ],
             [
              0.1111111111111111,
              "#46039f"
             ],
             [
              0.2222222222222222,
              "#7201a8"
             ],
             [
              0.3333333333333333,
              "#9c179e"
             ],
             [
              0.4444444444444444,
              "#bd3786"
             ],
             [
              0.5555555555555556,
              "#d8576b"
             ],
             [
              0.6666666666666666,
              "#ed7953"
             ],
             [
              0.7777777777777778,
              "#fb9f3a"
             ],
             [
              0.8888888888888888,
              "#fdca26"
             ],
             [
              1,
              "#f0f921"
             ]
            ],
            "type": "contour"
           }
          ],
          "contourcarpet": [
           {
            "colorbar": {
             "outlinewidth": 0,
             "ticks": ""
            },
            "type": "contourcarpet"
           }
          ],
          "heatmap": [
           {
            "colorbar": {
             "outlinewidth": 0,
             "ticks": ""
            },
            "colorscale": [
             [
              0,
              "#0d0887"
             ],
             [
              0.1111111111111111,
              "#46039f"
             ],
             [
              0.2222222222222222,
              "#7201a8"
             ],
             [
              0.3333333333333333,
              "#9c179e"
             ],
             [
              0.4444444444444444,
              "#bd3786"
             ],
             [
              0.5555555555555556,
              "#d8576b"
             ],
             [
              0.6666666666666666,
              "#ed7953"
             ],
             [
              0.7777777777777778,
              "#fb9f3a"
             ],
             [
              0.8888888888888888,
              "#fdca26"
             ],
             [
              1,
              "#f0f921"
             ]
            ],
            "type": "heatmap"
           }
          ],
          "heatmapgl": [
           {
            "colorbar": {
             "outlinewidth": 0,
             "ticks": ""
            },
            "colorscale": [
             [
              0,
              "#0d0887"
             ],
             [
              0.1111111111111111,
              "#46039f"
             ],
             [
              0.2222222222222222,
              "#7201a8"
             ],
             [
              0.3333333333333333,
              "#9c179e"
             ],
             [
              0.4444444444444444,
              "#bd3786"
             ],
             [
              0.5555555555555556,
              "#d8576b"
             ],
             [
              0.6666666666666666,
              "#ed7953"
             ],
             [
              0.7777777777777778,
              "#fb9f3a"
             ],
             [
              0.8888888888888888,
              "#fdca26"
             ],
             [
              1,
              "#f0f921"
             ]
            ],
            "type": "heatmapgl"
           }
          ],
          "histogram": [
           {
            "marker": {
             "pattern": {
              "fillmode": "overlay",
              "size": 10,
              "solidity": 0.2
             }
            },
            "type": "histogram"
           }
          ],
          "histogram2d": [
           {
            "colorbar": {
             "outlinewidth": 0,
             "ticks": ""
            },
            "colorscale": [
             [
              0,
              "#0d0887"
             ],
             [
              0.1111111111111111,
              "#46039f"
             ],
             [
              0.2222222222222222,
              "#7201a8"
             ],
             [
              0.3333333333333333,
              "#9c179e"
             ],
             [
              0.4444444444444444,
              "#bd3786"
             ],
             [
              0.5555555555555556,
              "#d8576b"
             ],
             [
              0.6666666666666666,
              "#ed7953"
             ],
             [
              0.7777777777777778,
              "#fb9f3a"
             ],
             [
              0.8888888888888888,
              "#fdca26"
             ],
             [
              1,
              "#f0f921"
             ]
            ],
            "type": "histogram2d"
           }
          ],
          "histogram2dcontour": [
           {
            "colorbar": {
             "outlinewidth": 0,
             "ticks": ""
            },
            "colorscale": [
             [
              0,
              "#0d0887"
             ],
             [
              0.1111111111111111,
              "#46039f"
             ],
             [
              0.2222222222222222,
              "#7201a8"
             ],
             [
              0.3333333333333333,
              "#9c179e"
             ],
             [
              0.4444444444444444,
              "#bd3786"
             ],
             [
              0.5555555555555556,
              "#d8576b"
             ],
             [
              0.6666666666666666,
              "#ed7953"
             ],
             [
              0.7777777777777778,
              "#fb9f3a"
             ],
             [
              0.8888888888888888,
              "#fdca26"
             ],
             [
              1,
              "#f0f921"
             ]
            ],
            "type": "histogram2dcontour"
           }
          ],
          "mesh3d": [
           {
            "colorbar": {
             "outlinewidth": 0,
             "ticks": ""
            },
            "type": "mesh3d"
           }
          ],
          "parcoords": [
           {
            "line": {
             "colorbar": {
              "outlinewidth": 0,
              "ticks": ""
             }
            },
            "type": "parcoords"
           }
          ],
          "pie": [
           {
            "automargin": true,
            "type": "pie"
           }
          ],
          "scatter": [
           {
            "fillpattern": {
             "fillmode": "overlay",
             "size": 10,
             "solidity": 0.2
            },
            "type": "scatter"
           }
          ],
          "scatter3d": [
           {
            "line": {
             "colorbar": {
              "outlinewidth": 0,
              "ticks": ""
             }
            },
            "marker": {
             "colorbar": {
              "outlinewidth": 0,
              "ticks": ""
             }
            },
            "type": "scatter3d"
           }
          ],
          "scattercarpet": [
           {
            "marker": {
             "colorbar": {
              "outlinewidth": 0,
              "ticks": ""
             }
            },
            "type": "scattercarpet"
           }
          ],
          "scattergeo": [
           {
            "marker": {
             "colorbar": {
              "outlinewidth": 0,
              "ticks": ""
             }
            },
            "type": "scattergeo"
           }
          ],
          "scattergl": [
           {
            "marker": {
             "colorbar": {
              "outlinewidth": 0,
              "ticks": ""
             }
            },
            "type": "scattergl"
           }
          ],
          "scattermapbox": [
           {
            "marker": {
             "colorbar": {
              "outlinewidth": 0,
              "ticks": ""
             }
            },
            "type": "scattermapbox"
           }
          ],
          "scatterpolar": [
           {
            "marker": {
             "colorbar": {
              "outlinewidth": 0,
              "ticks": ""
             }
            },
            "type": "scatterpolar"
           }
          ],
          "scatterpolargl": [
           {
            "marker": {
             "colorbar": {
              "outlinewidth": 0,
              "ticks": ""
             }
            },
            "type": "scatterpolargl"
           }
          ],
          "scatterternary": [
           {
            "marker": {
             "colorbar": {
              "outlinewidth": 0,
              "ticks": ""
             }
            },
            "type": "scatterternary"
           }
          ],
          "surface": [
           {
            "colorbar": {
             "outlinewidth": 0,
             "ticks": ""
            },
            "colorscale": [
             [
              0,
              "#0d0887"
             ],
             [
              0.1111111111111111,
              "#46039f"
             ],
             [
              0.2222222222222222,
              "#7201a8"
             ],
             [
              0.3333333333333333,
              "#9c179e"
             ],
             [
              0.4444444444444444,
              "#bd3786"
             ],
             [
              0.5555555555555556,
              "#d8576b"
             ],
             [
              0.6666666666666666,
              "#ed7953"
             ],
             [
              0.7777777777777778,
              "#fb9f3a"
             ],
             [
              0.8888888888888888,
              "#fdca26"
             ],
             [
              1,
              "#f0f921"
             ]
            ],
            "type": "surface"
           }
          ],
          "table": [
           {
            "cells": {
             "fill": {
              "color": "#EBF0F8"
             },
             "line": {
              "color": "white"
             }
            },
            "header": {
             "fill": {
              "color": "#C8D4E3"
             },
             "line": {
              "color": "white"
             }
            },
            "type": "table"
           }
          ]
         },
         "layout": {
          "annotationdefaults": {
           "arrowcolor": "#2a3f5f",
           "arrowhead": 0,
           "arrowwidth": 1
          },
          "autotypenumbers": "strict",
          "coloraxis": {
           "colorbar": {
            "outlinewidth": 0,
            "ticks": ""
           }
          },
          "colorscale": {
           "diverging": [
            [
             0,
             "#8e0152"
            ],
            [
             0.1,
             "#c51b7d"
            ],
            [
             0.2,
             "#de77ae"
            ],
            [
             0.3,
             "#f1b6da"
            ],
            [
             0.4,
             "#fde0ef"
            ],
            [
             0.5,
             "#f7f7f7"
            ],
            [
             0.6,
             "#e6f5d0"
            ],
            [
             0.7,
             "#b8e186"
            ],
            [
             0.8,
             "#7fbc41"
            ],
            [
             0.9,
             "#4d9221"
            ],
            [
             1,
             "#276419"
            ]
           ],
           "sequential": [
            [
             0,
             "#0d0887"
            ],
            [
             0.1111111111111111,
             "#46039f"
            ],
            [
             0.2222222222222222,
             "#7201a8"
            ],
            [
             0.3333333333333333,
             "#9c179e"
            ],
            [
             0.4444444444444444,
             "#bd3786"
            ],
            [
             0.5555555555555556,
             "#d8576b"
            ],
            [
             0.6666666666666666,
             "#ed7953"
            ],
            [
             0.7777777777777778,
             "#fb9f3a"
            ],
            [
             0.8888888888888888,
             "#fdca26"
            ],
            [
             1,
             "#f0f921"
            ]
           ],
           "sequentialminus": [
            [
             0,
             "#0d0887"
            ],
            [
             0.1111111111111111,
             "#46039f"
            ],
            [
             0.2222222222222222,
             "#7201a8"
            ],
            [
             0.3333333333333333,
             "#9c179e"
            ],
            [
             0.4444444444444444,
             "#bd3786"
            ],
            [
             0.5555555555555556,
             "#d8576b"
            ],
            [
             0.6666666666666666,
             "#ed7953"
            ],
            [
             0.7777777777777778,
             "#fb9f3a"
            ],
            [
             0.8888888888888888,
             "#fdca26"
            ],
            [
             1,
             "#f0f921"
            ]
           ]
          },
          "colorway": [
           "#636efa",
           "#EF553B",
           "#00cc96",
           "#ab63fa",
           "#FFA15A",
           "#19d3f3",
           "#FF6692",
           "#B6E880",
           "#FF97FF",
           "#FECB52"
          ],
          "font": {
           "color": "#2a3f5f"
          },
          "geo": {
           "bgcolor": "white",
           "lakecolor": "white",
           "landcolor": "#E5ECF6",
           "showlakes": true,
           "showland": true,
           "subunitcolor": "white"
          },
          "hoverlabel": {
           "align": "left"
          },
          "hovermode": "closest",
          "mapbox": {
           "style": "light"
          },
          "paper_bgcolor": "white",
          "plot_bgcolor": "#E5ECF6",
          "polar": {
           "angularaxis": {
            "gridcolor": "white",
            "linecolor": "white",
            "ticks": ""
           },
           "bgcolor": "#E5ECF6",
           "radialaxis": {
            "gridcolor": "white",
            "linecolor": "white",
            "ticks": ""
           }
          },
          "scene": {
           "xaxis": {
            "backgroundcolor": "#E5ECF6",
            "gridcolor": "white",
            "gridwidth": 2,
            "linecolor": "white",
            "showbackground": true,
            "ticks": "",
            "zerolinecolor": "white"
           },
           "yaxis": {
            "backgroundcolor": "#E5ECF6",
            "gridcolor": "white",
            "gridwidth": 2,
            "linecolor": "white",
            "showbackground": true,
            "ticks": "",
            "zerolinecolor": "white"
           },
           "zaxis": {
            "backgroundcolor": "#E5ECF6",
            "gridcolor": "white",
            "gridwidth": 2,
            "linecolor": "white",
            "showbackground": true,
            "ticks": "",
            "zerolinecolor": "white"
           }
          },
          "shapedefaults": {
           "line": {
            "color": "#2a3f5f"
           }
          },
          "ternary": {
           "aaxis": {
            "gridcolor": "white",
            "linecolor": "white",
            "ticks": ""
           },
           "baxis": {
            "gridcolor": "white",
            "linecolor": "white",
            "ticks": ""
           },
           "bgcolor": "#E5ECF6",
           "caxis": {
            "gridcolor": "white",
            "linecolor": "white",
            "ticks": ""
           }
          },
          "title": {
           "x": 0.05
          },
          "xaxis": {
           "automargin": true,
           "gridcolor": "white",
           "linecolor": "white",
           "ticks": "",
           "title": {
            "standoff": 15
           },
           "zerolinecolor": "white",
           "zerolinewidth": 2
          },
          "yaxis": {
           "automargin": true,
           "gridcolor": "white",
           "linecolor": "white",
           "ticks": "",
           "title": {
            "standoff": 15
           },
           "zerolinecolor": "white",
           "zerolinewidth": 2
          }
         }
        },
        "title": {
         "text": "Which car has fastest accelaration?"
        },
        "xaxis": {
         "anchor": "y",
         "domain": [
          0,
          1
         ],
         "title": {
          "text": "AccelSec"
         }
        },
        "yaxis": {
         "anchor": "x",
         "categoryarray": [
          "Fiat ",
          "Smart ",
          "Sono ",
          "Byton ",
          "Ford ",
          "Jaguar ",
          "Citroen ",
          "DS ",
          "Aiways ",
          "Lightyear ",
          "SEAT ",
          "CUPRA ",
          "Lexus ",
          "Mazda ",
          "Renault ",
          "Kia ",
          "Volvo ",
          "Skoda ",
          "Opel ",
          "Mini ",
          "MG ",
          "Porsche ",
          "Hyundai ",
          "Nissan ",
          "Mercedes ",
          "Audi ",
          "Peugeot ",
          "Lucid ",
          "Honda ",
          "BMW ",
          "Polestar ",
          "Volkswagen "
         ],
         "categoryorder": "array",
         "domain": [
          0,
          1
         ],
         "title": {
          "text": "Brand"
         }
        }
       }
      }
     },
     "metadata": {},
     "output_type": "display_data"
    }
   ],
   "source": [
    "fig = px.bar(df,x='AccelSec',y = 'Brand',color = 'Brand',title = 'Which car has fastest accelaration?',labels = {'x':'Accelaration','y':'Car Brands'})\n",
    "pio.show(fig)"
   ]
  },
  {
   "cell_type": "markdown",
   "metadata": {},
   "source": [
    "## Pie chart between brand and price"
   ]
  },
  {
   "cell_type": "code",
   "execution_count": 55,
   "metadata": {},
   "outputs": [
    {
     "data": {
      "application/vnd.plotly.v1+json": {
       "config": {
        "plotlyServerURL": "https://plot.ly"
       },
       "data": [
        {
         "domain": {
          "x": [
           0,
           1
          ],
          "y": [
           0,
           1
          ]
         },
         "hovertemplate": "Brand=%{label}<br>Price(Inr)=%{value}<extra></extra>",
         "labels": [
          "Volkswagen ",
          "Polestar ",
          "BMW ",
          "Honda ",
          "Lucid ",
          "Volkswagen ",
          "Peugeot ",
          "Audi ",
          "Mercedes ",
          "Nissan ",
          "Hyundai ",
          "BMW ",
          "Hyundai ",
          "Volkswagen ",
          "Porsche ",
          "Volkswagen ",
          "MG ",
          "Mini ",
          "Opel ",
          "Skoda ",
          "Audi ",
          "Volkswagen ",
          "Volkswagen ",
          "Volvo ",
          "BMW ",
          "Peugeot ",
          "Audi ",
          "Kia ",
          "Renault ",
          "Mazda ",
          "Nissan ",
          "Lexus ",
          "CUPRA ",
          "Renault ",
          "Mercedes ",
          "Hyundai ",
          "Audi ",
          "Skoda ",
          "SEAT ",
          "Kia ",
          "Opel ",
          "Porsche ",
          "Lightyear ",
          "Aiways ",
          "Audi ",
          "Opel ",
          "Skoda ",
          "Honda ",
          "DS ",
          "Renault ",
          "Citroen ",
          "Renault ",
          "Nissan ",
          "Jaguar ",
          "Ford ",
          "Porsche ",
          "Nissan ",
          "Renault ",
          "Ford ",
          "BMW ",
          "Skoda ",
          "Porsche ",
          "Byton ",
          "Sono ",
          "Kia ",
          "Audi ",
          "Smart ",
          "Ford ",
          "Porsche ",
          "Volkswagen ",
          "Smart ",
          "Ford ",
          "Mercedes ",
          "Fiat ",
          "Audi ",
          "Skoda ",
          "Skoda ",
          "Audi ",
          "Smart ",
          "Kia ",
          "Nissan ",
          "Fiat ",
          "Volkswagen ",
          "Kia ",
          "Byton ",
          "Nissan ",
          "Audi ",
          "Nissan ",
          "Nissan ",
          "Byton "
         ],
         "legendgroup": "",
         "name": "",
         "showlegend": true,
         "type": "pie",
         "values": [
          2682900,
          5047429.2,
          6084817.2,
          2950921.71,
          9390150,
          2852817,
          2654461.26,
          4918650,
          6213954.12,
          2614396.62,
          3648296.85,
          5812950,
          3081668.37,
          3660906.48,
          16167244.83,
          1915680.03,
          2682900,
          2833231.83,
          2606526.78,
          3130050,
          11178750,
          4024350,
          2951190,
          5404880.91,
          3399860.31,
          3072904.23,
          6023825.94,
          3407730.15,
          2788785.12,
          2919531.78,
          3330104.91,
          4471500,
          4024350,
          2963084.19,
          4024350,
          3038026.53,
          7300975.77,
          2194075.62,
          1800136.47,
          3294332.91,
          3747653.58,
          9206371.35,
          13325070,
          3224577.51,
          7104766.35,
          3130050,
          3577200,
          3212415.03,
          3346649.46,
          2216969.7,
          3577200,
          2614396.62,
          4471500,
          6738639.93,
          4871699.25,
          9774877.86,
          2973189.78,
          3398340,
          5625147,
          3713670.18,
          4024350,
          13414500,
          5723520,
          2280465,
          3076392,
          5142225,
          1970142.9,
          4829220,
          13262558.43,
          3486607.41,
          1912639.41,
          4194267,
          6316530.33,
          3121107,
          6219945.93,
          4247925,
          3353625,
          8388534,
          2196847.95,
          3294332.91,
          5142225,
          3389397,
          3181472.25,
          2963084.19,
          4784505,
          4024350,
          8589751.5,
          4471500,
          5812950,
          5544660
         ]
        }
       ],
       "layout": {
        "legend": {
         "tracegroupgap": 0
        },
        "margin": {
         "t": 60
        },
        "template": {
         "data": {
          "bar": [
           {
            "error_x": {
             "color": "#2a3f5f"
            },
            "error_y": {
             "color": "#2a3f5f"
            },
            "marker": {
             "line": {
              "color": "#E5ECF6",
              "width": 0.5
             },
             "pattern": {
              "fillmode": "overlay",
              "size": 10,
              "solidity": 0.2
             }
            },
            "type": "bar"
           }
          ],
          "barpolar": [
           {
            "marker": {
             "line": {
              "color": "#E5ECF6",
              "width": 0.5
             },
             "pattern": {
              "fillmode": "overlay",
              "size": 10,
              "solidity": 0.2
             }
            },
            "type": "barpolar"
           }
          ],
          "carpet": [
           {
            "aaxis": {
             "endlinecolor": "#2a3f5f",
             "gridcolor": "white",
             "linecolor": "white",
             "minorgridcolor": "white",
             "startlinecolor": "#2a3f5f"
            },
            "baxis": {
             "endlinecolor": "#2a3f5f",
             "gridcolor": "white",
             "linecolor": "white",
             "minorgridcolor": "white",
             "startlinecolor": "#2a3f5f"
            },
            "type": "carpet"
           }
          ],
          "choropleth": [
           {
            "colorbar": {
             "outlinewidth": 0,
             "ticks": ""
            },
            "type": "choropleth"
           }
          ],
          "contour": [
           {
            "colorbar": {
             "outlinewidth": 0,
             "ticks": ""
            },
            "colorscale": [
             [
              0,
              "#0d0887"
             ],
             [
              0.1111111111111111,
              "#46039f"
             ],
             [
              0.2222222222222222,
              "#7201a8"
             ],
             [
              0.3333333333333333,
              "#9c179e"
             ],
             [
              0.4444444444444444,
              "#bd3786"
             ],
             [
              0.5555555555555556,
              "#d8576b"
             ],
             [
              0.6666666666666666,
              "#ed7953"
             ],
             [
              0.7777777777777778,
              "#fb9f3a"
             ],
             [
              0.8888888888888888,
              "#fdca26"
             ],
             [
              1,
              "#f0f921"
             ]
            ],
            "type": "contour"
           }
          ],
          "contourcarpet": [
           {
            "colorbar": {
             "outlinewidth": 0,
             "ticks": ""
            },
            "type": "contourcarpet"
           }
          ],
          "heatmap": [
           {
            "colorbar": {
             "outlinewidth": 0,
             "ticks": ""
            },
            "colorscale": [
             [
              0,
              "#0d0887"
             ],
             [
              0.1111111111111111,
              "#46039f"
             ],
             [
              0.2222222222222222,
              "#7201a8"
             ],
             [
              0.3333333333333333,
              "#9c179e"
             ],
             [
              0.4444444444444444,
              "#bd3786"
             ],
             [
              0.5555555555555556,
              "#d8576b"
             ],
             [
              0.6666666666666666,
              "#ed7953"
             ],
             [
              0.7777777777777778,
              "#fb9f3a"
             ],
             [
              0.8888888888888888,
              "#fdca26"
             ],
             [
              1,
              "#f0f921"
             ]
            ],
            "type": "heatmap"
           }
          ],
          "heatmapgl": [
           {
            "colorbar": {
             "outlinewidth": 0,
             "ticks": ""
            },
            "colorscale": [
             [
              0,
              "#0d0887"
             ],
             [
              0.1111111111111111,
              "#46039f"
             ],
             [
              0.2222222222222222,
              "#7201a8"
             ],
             [
              0.3333333333333333,
              "#9c179e"
             ],
             [
              0.4444444444444444,
              "#bd3786"
             ],
             [
              0.5555555555555556,
              "#d8576b"
             ],
             [
              0.6666666666666666,
              "#ed7953"
             ],
             [
              0.7777777777777778,
              "#fb9f3a"
             ],
             [
              0.8888888888888888,
              "#fdca26"
             ],
             [
              1,
              "#f0f921"
             ]
            ],
            "type": "heatmapgl"
           }
          ],
          "histogram": [
           {
            "marker": {
             "pattern": {
              "fillmode": "overlay",
              "size": 10,
              "solidity": 0.2
             }
            },
            "type": "histogram"
           }
          ],
          "histogram2d": [
           {
            "colorbar": {
             "outlinewidth": 0,
             "ticks": ""
            },
            "colorscale": [
             [
              0,
              "#0d0887"
             ],
             [
              0.1111111111111111,
              "#46039f"
             ],
             [
              0.2222222222222222,
              "#7201a8"
             ],
             [
              0.3333333333333333,
              "#9c179e"
             ],
             [
              0.4444444444444444,
              "#bd3786"
             ],
             [
              0.5555555555555556,
              "#d8576b"
             ],
             [
              0.6666666666666666,
              "#ed7953"
             ],
             [
              0.7777777777777778,
              "#fb9f3a"
             ],
             [
              0.8888888888888888,
              "#fdca26"
             ],
             [
              1,
              "#f0f921"
             ]
            ],
            "type": "histogram2d"
           }
          ],
          "histogram2dcontour": [
           {
            "colorbar": {
             "outlinewidth": 0,
             "ticks": ""
            },
            "colorscale": [
             [
              0,
              "#0d0887"
             ],
             [
              0.1111111111111111,
              "#46039f"
             ],
             [
              0.2222222222222222,
              "#7201a8"
             ],
             [
              0.3333333333333333,
              "#9c179e"
             ],
             [
              0.4444444444444444,
              "#bd3786"
             ],
             [
              0.5555555555555556,
              "#d8576b"
             ],
             [
              0.6666666666666666,
              "#ed7953"
             ],
             [
              0.7777777777777778,
              "#fb9f3a"
             ],
             [
              0.8888888888888888,
              "#fdca26"
             ],
             [
              1,
              "#f0f921"
             ]
            ],
            "type": "histogram2dcontour"
           }
          ],
          "mesh3d": [
           {
            "colorbar": {
             "outlinewidth": 0,
             "ticks": ""
            },
            "type": "mesh3d"
           }
          ],
          "parcoords": [
           {
            "line": {
             "colorbar": {
              "outlinewidth": 0,
              "ticks": ""
             }
            },
            "type": "parcoords"
           }
          ],
          "pie": [
           {
            "automargin": true,
            "type": "pie"
           }
          ],
          "scatter": [
           {
            "fillpattern": {
             "fillmode": "overlay",
             "size": 10,
             "solidity": 0.2
            },
            "type": "scatter"
           }
          ],
          "scatter3d": [
           {
            "line": {
             "colorbar": {
              "outlinewidth": 0,
              "ticks": ""
             }
            },
            "marker": {
             "colorbar": {
              "outlinewidth": 0,
              "ticks": ""
             }
            },
            "type": "scatter3d"
           }
          ],
          "scattercarpet": [
           {
            "marker": {
             "colorbar": {
              "outlinewidth": 0,
              "ticks": ""
             }
            },
            "type": "scattercarpet"
           }
          ],
          "scattergeo": [
           {
            "marker": {
             "colorbar": {
              "outlinewidth": 0,
              "ticks": ""
             }
            },
            "type": "scattergeo"
           }
          ],
          "scattergl": [
           {
            "marker": {
             "colorbar": {
              "outlinewidth": 0,
              "ticks": ""
             }
            },
            "type": "scattergl"
           }
          ],
          "scattermapbox": [
           {
            "marker": {
             "colorbar": {
              "outlinewidth": 0,
              "ticks": ""
             }
            },
            "type": "scattermapbox"
           }
          ],
          "scatterpolar": [
           {
            "marker": {
             "colorbar": {
              "outlinewidth": 0,
              "ticks": ""
             }
            },
            "type": "scatterpolar"
           }
          ],
          "scatterpolargl": [
           {
            "marker": {
             "colorbar": {
              "outlinewidth": 0,
              "ticks": ""
             }
            },
            "type": "scatterpolargl"
           }
          ],
          "scatterternary": [
           {
            "marker": {
             "colorbar": {
              "outlinewidth": 0,
              "ticks": ""
             }
            },
            "type": "scatterternary"
           }
          ],
          "surface": [
           {
            "colorbar": {
             "outlinewidth": 0,
             "ticks": ""
            },
            "colorscale": [
             [
              0,
              "#0d0887"
             ],
             [
              0.1111111111111111,
              "#46039f"
             ],
             [
              0.2222222222222222,
              "#7201a8"
             ],
             [
              0.3333333333333333,
              "#9c179e"
             ],
             [
              0.4444444444444444,
              "#bd3786"
             ],
             [
              0.5555555555555556,
              "#d8576b"
             ],
             [
              0.6666666666666666,
              "#ed7953"
             ],
             [
              0.7777777777777778,
              "#fb9f3a"
             ],
             [
              0.8888888888888888,
              "#fdca26"
             ],
             [
              1,
              "#f0f921"
             ]
            ],
            "type": "surface"
           }
          ],
          "table": [
           {
            "cells": {
             "fill": {
              "color": "#EBF0F8"
             },
             "line": {
              "color": "white"
             }
            },
            "header": {
             "fill": {
              "color": "#C8D4E3"
             },
             "line": {
              "color": "white"
             }
            },
            "type": "table"
           }
          ]
         },
         "layout": {
          "annotationdefaults": {
           "arrowcolor": "#2a3f5f",
           "arrowhead": 0,
           "arrowwidth": 1
          },
          "autotypenumbers": "strict",
          "coloraxis": {
           "colorbar": {
            "outlinewidth": 0,
            "ticks": ""
           }
          },
          "colorscale": {
           "diverging": [
            [
             0,
             "#8e0152"
            ],
            [
             0.1,
             "#c51b7d"
            ],
            [
             0.2,
             "#de77ae"
            ],
            [
             0.3,
             "#f1b6da"
            ],
            [
             0.4,
             "#fde0ef"
            ],
            [
             0.5,
             "#f7f7f7"
            ],
            [
             0.6,
             "#e6f5d0"
            ],
            [
             0.7,
             "#b8e186"
            ],
            [
             0.8,
             "#7fbc41"
            ],
            [
             0.9,
             "#4d9221"
            ],
            [
             1,
             "#276419"
            ]
           ],
           "sequential": [
            [
             0,
             "#0d0887"
            ],
            [
             0.1111111111111111,
             "#46039f"
            ],
            [
             0.2222222222222222,
             "#7201a8"
            ],
            [
             0.3333333333333333,
             "#9c179e"
            ],
            [
             0.4444444444444444,
             "#bd3786"
            ],
            [
             0.5555555555555556,
             "#d8576b"
            ],
            [
             0.6666666666666666,
             "#ed7953"
            ],
            [
             0.7777777777777778,
             "#fb9f3a"
            ],
            [
             0.8888888888888888,
             "#fdca26"
            ],
            [
             1,
             "#f0f921"
            ]
           ],
           "sequentialminus": [
            [
             0,
             "#0d0887"
            ],
            [
             0.1111111111111111,
             "#46039f"
            ],
            [
             0.2222222222222222,
             "#7201a8"
            ],
            [
             0.3333333333333333,
             "#9c179e"
            ],
            [
             0.4444444444444444,
             "#bd3786"
            ],
            [
             0.5555555555555556,
             "#d8576b"
            ],
            [
             0.6666666666666666,
             "#ed7953"
            ],
            [
             0.7777777777777778,
             "#fb9f3a"
            ],
            [
             0.8888888888888888,
             "#fdca26"
            ],
            [
             1,
             "#f0f921"
            ]
           ]
          },
          "colorway": [
           "#636efa",
           "#EF553B",
           "#00cc96",
           "#ab63fa",
           "#FFA15A",
           "#19d3f3",
           "#FF6692",
           "#B6E880",
           "#FF97FF",
           "#FECB52"
          ],
          "font": {
           "color": "#2a3f5f"
          },
          "geo": {
           "bgcolor": "white",
           "lakecolor": "white",
           "landcolor": "#E5ECF6",
           "showlakes": true,
           "showland": true,
           "subunitcolor": "white"
          },
          "hoverlabel": {
           "align": "left"
          },
          "hovermode": "closest",
          "mapbox": {
           "style": "light"
          },
          "paper_bgcolor": "white",
          "plot_bgcolor": "#E5ECF6",
          "polar": {
           "angularaxis": {
            "gridcolor": "white",
            "linecolor": "white",
            "ticks": ""
           },
           "bgcolor": "#E5ECF6",
           "radialaxis": {
            "gridcolor": "white",
            "linecolor": "white",
            "ticks": ""
           }
          },
          "scene": {
           "xaxis": {
            "backgroundcolor": "#E5ECF6",
            "gridcolor": "white",
            "gridwidth": 2,
            "linecolor": "white",
            "showbackground": true,
            "ticks": "",
            "zerolinecolor": "white"
           },
           "yaxis": {
            "backgroundcolor": "#E5ECF6",
            "gridcolor": "white",
            "gridwidth": 2,
            "linecolor": "white",
            "showbackground": true,
            "ticks": "",
            "zerolinecolor": "white"
           },
           "zaxis": {
            "backgroundcolor": "#E5ECF6",
            "gridcolor": "white",
            "gridwidth": 2,
            "linecolor": "white",
            "showbackground": true,
            "ticks": "",
            "zerolinecolor": "white"
           }
          },
          "shapedefaults": {
           "line": {
            "color": "#2a3f5f"
           }
          },
          "ternary": {
           "aaxis": {
            "gridcolor": "white",
            "linecolor": "white",
            "ticks": ""
           },
           "baxis": {
            "gridcolor": "white",
            "linecolor": "white",
            "ticks": ""
           },
           "bgcolor": "#E5ECF6",
           "caxis": {
            "gridcolor": "white",
            "linecolor": "white",
            "ticks": ""
           }
          },
          "title": {
           "x": 0.05
          },
          "xaxis": {
           "automargin": true,
           "gridcolor": "white",
           "linecolor": "white",
           "ticks": "",
           "title": {
            "standoff": 15
           },
           "zerolinecolor": "white",
           "zerolinewidth": 2
          },
          "yaxis": {
           "automargin": true,
           "gridcolor": "white",
           "linecolor": "white",
           "ticks": "",
           "title": {
            "standoff": 15
           },
           "zerolinecolor": "white",
           "zerolinewidth": 2
          }
         }
        }
       }
      }
     },
     "metadata": {},
     "output_type": "display_data"
    }
   ],
   "source": [
    "fig = px.pie(df,names = 'Brand',values = 'Price(Inr)')\n",
    "pio.show(fig)"
   ]
  },
  {
   "cell_type": "markdown",
   "metadata": {},
   "source": [
    "## Scatter plot between Brand, range_KM, Seats"
   ]
  },
  {
   "cell_type": "code",
   "execution_count": 56,
   "metadata": {},
   "outputs": [
    {
     "data": {
      "application/vnd.plotly.v1+json": {
       "config": {
        "plotlyServerURL": "https://plot.ly"
       },
       "data": [
        {
         "customdata": [
          [
           0,
           2682900
          ],
          [
           0,
           2852817
          ],
          [
           1,
           3660906.48
          ],
          [
           1,
           1915680.03
          ],
          [
           1,
           4024350
          ],
          [
           1,
           2951190
          ],
          [
           1,
           3486607.41
          ],
          [
           1,
           3181472.25
          ]
         ],
         "hovertemplate": "Brand=%{x}<br>Range_Km=%{y}<br>Seats=%{marker.size}<br>RapidCharge=%{customdata[0]}<br>Price(Inr)=%{customdata[1]}<extra></extra>",
         "legendgroup": "Volkswagen ",
         "marker": {
          "color": "#636efa",
          "size": [
           5,
           5,
           4,
           4,
           5,
           5,
           5,
           5
          ],
          "sizemode": "area",
          "sizeref": 0.0175,
          "symbol": "circle"
         },
         "mode": "markers",
         "name": "Volkswagen ",
         "orientation": "v",
         "showlegend": true,
         "type": "scatter",
         "x": [
          "Volkswagen ",
          "Volkswagen ",
          "Volkswagen ",
          "Volkswagen ",
          "Volkswagen ",
          "Volkswagen ",
          "Volkswagen ",
          "Volkswagen "
         ],
         "xaxis": "x",
         "y": [
          270,
          190,
          440,
          195,
          420,
          350,
          340,
          340
         ],
         "yaxis": "y"
        },
        {
         "customdata": [
          [
           1,
           5047429.2
          ]
         ],
         "hovertemplate": "Brand=%{x}<br>Range_Km=%{y}<br>Seats=%{marker.size}<br>RapidCharge=%{customdata[0]}<br>Price(Inr)=%{customdata[1]}<extra></extra>",
         "legendgroup": "Polestar ",
         "marker": {
          "color": "#EF553B",
          "size": [
           5
          ],
          "sizemode": "area",
          "sizeref": 0.0175,
          "symbol": "circle"
         },
         "mode": "markers",
         "name": "Polestar ",
         "orientation": "v",
         "showlegend": true,
         "type": "scatter",
         "x": [
          "Polestar "
         ],
         "xaxis": "x",
         "y": [
          400
         ],
         "yaxis": "y"
        },
        {
         "customdata": [
          [
           1,
           6084817.2
          ],
          [
           1,
           5812950
          ],
          [
           0,
           3399860.31
          ],
          [
           1,
           3713670.18
          ]
         ],
         "hovertemplate": "Brand=%{x}<br>Range_Km=%{y}<br>Seats=%{marker.size}<br>RapidCharge=%{customdata[0]}<br>Price(Inr)=%{customdata[1]}<extra></extra>",
         "legendgroup": "BMW ",
         "marker": {
          "color": "#00cc96",
          "size": [
           5,
           5,
           4,
           4
          ],
          "sizemode": "area",
          "sizeref": 0.0175,
          "symbol": "circle"
         },
         "mode": "markers",
         "name": "BMW ",
         "orientation": "v",
         "showlegend": true,
         "type": "scatter",
         "x": [
          "BMW ",
          "BMW ",
          "BMW ",
          "BMW "
         ],
         "xaxis": "x",
         "y": [
          360,
          450,
          235,
          230
         ],
         "yaxis": "y"
        },
        {
         "customdata": [
          [
           1,
           2950921.71
          ],
          [
           1,
           3212415.03
          ]
         ],
         "hovertemplate": "Brand=%{x}<br>Range_Km=%{y}<br>Seats=%{marker.size}<br>RapidCharge=%{customdata[0]}<br>Price(Inr)=%{customdata[1]}<extra></extra>",
         "legendgroup": "Honda ",
         "marker": {
          "color": "#ab63fa",
          "size": [
           4,
           4
          ],
          "sizemode": "area",
          "sizeref": 0.0175,
          "symbol": "circle"
         },
         "mode": "markers",
         "name": "Honda ",
         "orientation": "v",
         "showlegend": true,
         "type": "scatter",
         "x": [
          "Honda ",
          "Honda "
         ],
         "xaxis": "x",
         "y": [
          170,
          170
         ],
         "yaxis": "y"
        },
        {
         "customdata": [
          [
           1,
           9390150
          ]
         ],
         "hovertemplate": "Brand=%{x}<br>Range_Km=%{y}<br>Seats=%{marker.size}<br>RapidCharge=%{customdata[0]}<br>Price(Inr)=%{customdata[1]}<extra></extra>",
         "legendgroup": "Lucid ",
         "marker": {
          "color": "#FFA15A",
          "size": [
           5
          ],
          "sizemode": "area",
          "sizeref": 0.0175,
          "symbol": "circle"
         },
         "mode": "markers",
         "name": "Lucid ",
         "orientation": "v",
         "showlegend": true,
         "type": "scatter",
         "x": [
          "Lucid "
         ],
         "xaxis": "x",
         "y": [
          610
         ],
         "yaxis": "y"
        },
        {
         "customdata": [
          [
           0,
           2654461.26
          ],
          [
           0,
           3072904.23
          ]
         ],
         "hovertemplate": "Brand=%{x}<br>Range_Km=%{y}<br>Seats=%{marker.size}<br>RapidCharge=%{customdata[0]}<br>Price(Inr)=%{customdata[1]}<extra></extra>",
         "legendgroup": "Peugeot ",
         "marker": {
          "color": "#19d3f3",
          "size": [
           5,
           5
          ],
          "sizemode": "area",
          "sizeref": 0.0175,
          "symbol": "circle"
         },
         "mode": "markers",
         "name": "Peugeot ",
         "orientation": "v",
         "showlegend": true,
         "type": "scatter",
         "x": [
          "Peugeot ",
          "Peugeot "
         ],
         "xaxis": "x",
         "y": [
          275,
          250
         ],
         "yaxis": "y"
        },
        {
         "customdata": [
          [
           1,
           4918650
          ],
          [
           1,
           11178750
          ],
          [
           1,
           6023825.94
          ],
          [
           1,
           7300975.77
          ],
          [
           0,
           7104766.35
          ],
          [
           1,
           5142225
          ],
          [
           1,
           6219945.93
          ],
          [
           1,
           8388534
          ],
          [
           1,
           8589751.5
          ]
         ],
         "hovertemplate": "Brand=%{x}<br>Range_Km=%{y}<br>Seats=%{marker.size}<br>RapidCharge=%{customdata[0]}<br>Price(Inr)=%{customdata[1]}<extra></extra>",
         "legendgroup": "Audi ",
         "marker": {
          "color": "#FF6692",
          "size": [
           5,
           4,
           5,
           5,
           5,
           5,
           5,
           5,
           5
          ],
          "sizemode": "area",
          "sizeref": 0.0175,
          "symbol": "circle"
         },
         "mode": "markers",
         "name": "Audi ",
         "orientation": "v",
         "showlegend": true,
         "type": "scatter",
         "x": [
          "Audi ",
          "Audi ",
          "Audi ",
          "Audi ",
          "Audi ",
          "Audi ",
          "Audi ",
          "Audi ",
          "Audi "
         ],
         "xaxis": "x",
         "y": [
          400,
          425,
          280,
          380,
          365,
          410,
          295,
          320,
          335
         ],
         "yaxis": "y"
        },
        {
         "customdata": [
          [
           1,
           6213954.12
          ],
          [
           0,
           4024350
          ],
          [
           1,
           6316530.33
          ]
         ],
         "hovertemplate": "Brand=%{x}<br>Range_Km=%{y}<br>Seats=%{marker.size}<br>RapidCharge=%{customdata[0]}<br>Price(Inr)=%{customdata[1]}<extra></extra>",
         "legendgroup": "Mercedes ",
         "marker": {
          "color": "#B6E880",
          "size": [
           5,
           5,
           7
          ],
          "sizemode": "area",
          "sizeref": 0.0175,
          "symbol": "circle"
         },
         "mode": "markers",
         "name": "Mercedes ",
         "orientation": "v",
         "showlegend": true,
         "type": "scatter",
         "x": [
          "Mercedes ",
          "Mercedes ",
          "Mercedes "
         ],
         "xaxis": "x",
         "y": [
          370,
          350,
          330
         ],
         "yaxis": "y"
        },
        {
         "customdata": [
          [
           1,
           2614396.62
          ],
          [
           1,
           3330104.91
          ],
          [
           1,
           4471500
          ],
          [
           1,
           2973189.78
          ],
          [
           1,
           5142225
          ],
          [
           1,
           4024350
          ],
          [
           1,
           4471500
          ],
          [
           1,
           5812950
          ]
         ],
         "hovertemplate": "Brand=%{x}<br>Range_Km=%{y}<br>Seats=%{marker.size}<br>RapidCharge=%{customdata[0]}<br>Price(Inr)=%{customdata[1]}<extra></extra>",
         "legendgroup": "Nissan ",
         "marker": {
          "color": "#FF97FF",
          "size": [
           5,
           5,
           5,
           7,
           5,
           5,
           5,
           5
          ],
          "sizemode": "area",
          "sizeref": 0.0175,
          "symbol": "circle"
         },
         "mode": "markers",
         "name": "Nissan ",
         "orientation": "v",
         "showlegend": true,
         "type": "scatter",
         "x": [
          "Nissan ",
          "Nissan ",
          "Nissan ",
          "Nissan ",
          "Nissan ",
          "Nissan ",
          "Nissan ",
          "Nissan "
         ],
         "xaxis": "x",
         "y": [
          220,
          325,
          440,
          190,
          420,
          330,
          325,
          375
         ],
         "yaxis": "y"
        },
        {
         "customdata": [
          [
           1,
           3648296.85
          ],
          [
           0,
           3081668.37
          ],
          [
           1,
           3038026.53
          ]
         ],
         "hovertemplate": "Brand=%{x}<br>Range_Km=%{y}<br>Seats=%{marker.size}<br>RapidCharge=%{customdata[0]}<br>Price(Inr)=%{customdata[1]}<extra></extra>",
         "legendgroup": "Hyundai ",
         "marker": {
          "color": "#FECB52",
          "size": [
           5,
           5,
           5
          ],
          "sizemode": "area",
          "sizeref": 0.0175,
          "symbol": "circle"
         },
         "mode": "markers",
         "name": "Hyundai ",
         "orientation": "v",
         "showlegend": true,
         "type": "scatter",
         "x": [
          "Hyundai ",
          "Hyundai ",
          "Hyundai "
         ],
         "xaxis": "x",
         "y": [
          400,
          250,
          255
         ],
         "yaxis": "y"
        },
        {
         "customdata": [
          [
           1,
           16167244.83
          ],
          [
           1,
           9206371.35
          ],
          [
           1,
           9774877.86
          ],
          [
           1,
           13414500
          ],
          [
           0,
           13262558.43
          ]
         ],
         "hovertemplate": "Brand=%{x}<br>Range_Km=%{y}<br>Seats=%{marker.size}<br>RapidCharge=%{customdata[0]}<br>Price(Inr)=%{customdata[1]}<extra></extra>",
         "legendgroup": "Porsche ",
         "marker": {
          "color": "#636efa",
          "size": [
           4,
           4,
           4,
           4,
           4
          ],
          "sizemode": "area",
          "sizeref": 0.0175,
          "symbol": "circle"
         },
         "mode": "markers",
         "name": "Porsche ",
         "orientation": "v",
         "showlegend": true,
         "type": "scatter",
         "x": [
          "Porsche ",
          "Porsche ",
          "Porsche ",
          "Porsche ",
          "Porsche "
         ],
         "xaxis": "x",
         "y": [
          375,
          365,
          425,
          385,
          390
         ],
         "yaxis": "y"
        },
        {
         "customdata": [
          [
           0,
           2682900
          ]
         ],
         "hovertemplate": "Brand=%{x}<br>Range_Km=%{y}<br>Seats=%{marker.size}<br>RapidCharge=%{customdata[0]}<br>Price(Inr)=%{customdata[1]}<extra></extra>",
         "legendgroup": "MG ",
         "marker": {
          "color": "#EF553B",
          "size": [
           5
          ],
          "sizemode": "area",
          "sizeref": 0.0175,
          "symbol": "circle"
         },
         "mode": "markers",
         "name": "MG ",
         "orientation": "v",
         "showlegend": true,
         "type": "scatter",
         "x": [
          "MG "
         ],
         "xaxis": "x",
         "y": [
          220
         ],
         "yaxis": "y"
        },
        {
         "customdata": [
          [
           1,
           2833231.83
          ]
         ],
         "hovertemplate": "Brand=%{x}<br>Range_Km=%{y}<br>Seats=%{marker.size}<br>RapidCharge=%{customdata[0]}<br>Price(Inr)=%{customdata[1]}<extra></extra>",
         "legendgroup": "Mini ",
         "marker": {
          "color": "#00cc96",
          "size": [
           4
          ],
          "sizemode": "area",
          "sizeref": 0.0175,
          "symbol": "circle"
         },
         "mode": "markers",
         "name": "Mini ",
         "orientation": "v",
         "showlegend": true,
         "type": "scatter",
         "x": [
          "Mini "
         ],
         "xaxis": "x",
         "y": [
          185
         ],
         "yaxis": "y"
        },
        {
         "customdata": [
          [
           1,
           2606526.78
          ],
          [
           1,
           3747653.58
          ],
          [
           1,
           3130050
          ]
         ],
         "hovertemplate": "Brand=%{x}<br>Range_Km=%{y}<br>Seats=%{marker.size}<br>RapidCharge=%{customdata[0]}<br>Price(Inr)=%{customdata[1]}<extra></extra>",
         "legendgroup": "Opel ",
         "marker": {
          "color": "#ab63fa",
          "size": [
           5,
           5,
           5
          ],
          "sizemode": "area",
          "sizeref": 0.0175,
          "symbol": "circle"
         },
         "mode": "markers",
         "name": "Opel ",
         "orientation": "v",
         "showlegend": true,
         "type": "scatter",
         "x": [
          "Opel ",
          "Opel ",
          "Opel "
         ],
         "xaxis": "x",
         "y": [
          275,
          335,
          255
         ],
         "yaxis": "y"
        },
        {
         "customdata": [
          [
           1,
           3130050
          ],
          [
           1,
           2194075.62
          ],
          [
           1,
           3577200
          ],
          [
           0,
           4024350
          ],
          [
           1,
           4247925
          ],
          [
           1,
           3353625
          ]
         ],
         "hovertemplate": "Brand=%{x}<br>Range_Km=%{y}<br>Seats=%{marker.size}<br>RapidCharge=%{customdata[0]}<br>Price(Inr)=%{customdata[1]}<extra></extra>",
         "legendgroup": "Skoda ",
         "marker": {
          "color": "#FFA15A",
          "size": [
           5,
           4,
           5,
           5,
           5,
           5
          ],
          "sizemode": "area",
          "sizeref": 0.0175,
          "symbol": "circle"
         },
         "mode": "markers",
         "name": "Skoda ",
         "orientation": "v",
         "showlegend": true,
         "type": "scatter",
         "x": [
          "Skoda ",
          "Skoda ",
          "Skoda ",
          "Skoda ",
          "Skoda ",
          "Skoda "
         ],
         "xaxis": "x",
         "y": [
          290,
          195,
          420,
          400,
          400,
          320
         ],
         "yaxis": "y"
        },
        {
         "customdata": [
          [
           1,
           5404880.91
          ]
         ],
         "hovertemplate": "Brand=%{x}<br>Range_Km=%{y}<br>Seats=%{marker.size}<br>RapidCharge=%{customdata[0]}<br>Price(Inr)=%{customdata[1]}<extra></extra>",
         "legendgroup": "Volvo ",
         "marker": {
          "color": "#19d3f3",
          "size": [
           5
          ],
          "sizemode": "area",
          "sizeref": 0.0175,
          "symbol": "circle"
         },
         "mode": "markers",
         "name": "Volvo ",
         "orientation": "v",
         "showlegend": true,
         "type": "scatter",
         "x": [
          "Volvo "
         ],
         "xaxis": "x",
         "y": [
          375
         ],
         "yaxis": "y"
        },
        {
         "customdata": [
          [
           1,
           3407730.15
          ],
          [
           1,
           3294332.91
          ],
          [
           1,
           3076392
          ],
          [
           0,
           3294332.91
          ],
          [
           1,
           2963084.19
          ]
         ],
         "hovertemplate": "Brand=%{x}<br>Range_Km=%{y}<br>Seats=%{marker.size}<br>RapidCharge=%{customdata[0]}<br>Price(Inr)=%{customdata[1]}<extra></extra>",
         "legendgroup": "Kia ",
         "marker": {
          "color": "#FF6692",
          "size": [
           5,
           5,
           5,
           5,
           5
          ],
          "sizemode": "area",
          "sizeref": 0.0175,
          "symbol": "circle"
         },
         "mode": "markers",
         "name": "Kia ",
         "orientation": "v",
         "showlegend": true,
         "type": "scatter",
         "x": [
          "Kia ",
          "Kia ",
          "Kia ",
          "Kia ",
          "Kia "
         ],
         "xaxis": "x",
         "y": [
          370,
          365,
          235,
          365,
          230
         ],
         "yaxis": "y"
        },
        {
         "customdata": [
          [
           1,
           2788785.12
          ],
          [
           0,
           2963084.19
          ],
          [
           0,
           2216969.7
          ],
          [
           0,
           2614396.62
          ],
          [
           0,
           3398340
          ]
         ],
         "hovertemplate": "Brand=%{x}<br>Range_Km=%{y}<br>Seats=%{marker.size}<br>RapidCharge=%{customdata[0]}<br>Price(Inr)=%{customdata[1]}<extra></extra>",
         "legendgroup": "Renault ",
         "marker": {
          "color": "#B6E880",
          "size": [
           5,
           5,
           4,
           5,
           5
          ],
          "sizemode": "area",
          "sizeref": 0.0175,
          "symbol": "circle"
         },
         "mode": "markers",
         "name": "Renault ",
         "orientation": "v",
         "showlegend": true,
         "type": "scatter",
         "x": [
          "Renault ",
          "Renault ",
          "Renault ",
          "Renault ",
          "Renault "
         ],
         "xaxis": "x",
         "y": [
          315,
          310,
          130,
          255,
          160
         ],
         "yaxis": "y"
        },
        {
         "customdata": [
          [
           1,
           2919531.78
          ]
         ],
         "hovertemplate": "Brand=%{x}<br>Range_Km=%{y}<br>Seats=%{marker.size}<br>RapidCharge=%{customdata[0]}<br>Price(Inr)=%{customdata[1]}<extra></extra>",
         "legendgroup": "Mazda ",
         "marker": {
          "color": "#FF97FF",
          "size": [
           5
          ],
          "sizemode": "area",
          "sizeref": 0.0175,
          "symbol": "circle"
         },
         "mode": "markers",
         "name": "Mazda ",
         "orientation": "v",
         "showlegend": true,
         "type": "scatter",
         "x": [
          "Mazda "
         ],
         "xaxis": "x",
         "y": [
          180
         ],
         "yaxis": "y"
        },
        {
         "customdata": [
          [
           1,
           4471500
          ]
         ],
         "hovertemplate": "Brand=%{x}<br>Range_Km=%{y}<br>Seats=%{marker.size}<br>RapidCharge=%{customdata[0]}<br>Price(Inr)=%{customdata[1]}<extra></extra>",
         "legendgroup": "Lexus ",
         "marker": {
          "color": "#FECB52",
          "size": [
           5
          ],
          "sizemode": "area",
          "sizeref": 0.0175,
          "symbol": "circle"
         },
         "mode": "markers",
         "name": "Lexus ",
         "orientation": "v",
         "showlegend": true,
         "type": "scatter",
         "x": [
          "Lexus "
         ],
         "xaxis": "x",
         "y": [
          270
         ],
         "yaxis": "y"
        },
        {
         "customdata": [
          [
           0,
           4024350
          ]
         ],
         "hovertemplate": "Brand=%{x}<br>Range_Km=%{y}<br>Seats=%{marker.size}<br>RapidCharge=%{customdata[0]}<br>Price(Inr)=%{customdata[1]}<extra></extra>",
         "legendgroup": "CUPRA ",
         "marker": {
          "color": "#636efa",
          "size": [
           4
          ],
          "sizemode": "area",
          "sizeref": 0.0175,
          "symbol": "circle"
         },
         "mode": "markers",
         "name": "CUPRA ",
         "orientation": "v",
         "showlegend": true,
         "type": "scatter",
         "x": [
          "CUPRA "
         ],
         "xaxis": "x",
         "y": [
          425
         ],
         "yaxis": "y"
        },
        {
         "customdata": [
          [
           1,
           1800136.47
          ]
         ],
         "hovertemplate": "Brand=%{x}<br>Range_Km=%{y}<br>Seats=%{marker.size}<br>RapidCharge=%{customdata[0]}<br>Price(Inr)=%{customdata[1]}<extra></extra>",
         "legendgroup": "SEAT ",
         "marker": {
          "color": "#EF553B",
          "size": [
           4
          ],
          "sizemode": "area",
          "sizeref": 0.0175,
          "symbol": "circle"
         },
         "mode": "markers",
         "name": "SEAT ",
         "orientation": "v",
         "showlegend": true,
         "type": "scatter",
         "x": [
          "SEAT "
         ],
         "xaxis": "x",
         "y": [
          195
         ],
         "yaxis": "y"
        },
        {
         "customdata": [
          [
           1,
           13325070
          ]
         ],
         "hovertemplate": "Brand=%{x}<br>Range_Km=%{y}<br>Seats=%{marker.size}<br>RapidCharge=%{customdata[0]}<br>Price(Inr)=%{customdata[1]}<extra></extra>",
         "legendgroup": "Lightyear ",
         "marker": {
          "color": "#00cc96",
          "size": [
           5
          ],
          "sizemode": "area",
          "sizeref": 0.0175,
          "symbol": "circle"
         },
         "mode": "markers",
         "name": "Lightyear ",
         "orientation": "v",
         "showlegend": true,
         "type": "scatter",
         "x": [
          "Lightyear "
         ],
         "xaxis": "x",
         "y": [
          575
         ],
         "yaxis": "y"
        },
        {
         "customdata": [
          [
           0,
           3224577.51
          ]
         ],
         "hovertemplate": "Brand=%{x}<br>Range_Km=%{y}<br>Seats=%{marker.size}<br>RapidCharge=%{customdata[0]}<br>Price(Inr)=%{customdata[1]}<extra></extra>",
         "legendgroup": "Aiways ",
         "marker": {
          "color": "#ab63fa",
          "size": [
           5
          ],
          "sizemode": "area",
          "sizeref": 0.0175,
          "symbol": "circle"
         },
         "mode": "markers",
         "name": "Aiways ",
         "orientation": "v",
         "showlegend": true,
         "type": "scatter",
         "x": [
          "Aiways "
         ],
         "xaxis": "x",
         "y": [
          335
         ],
         "yaxis": "y"
        },
        {
         "customdata": [
          [
           1,
           3346649.46
          ]
         ],
         "hovertemplate": "Brand=%{x}<br>Range_Km=%{y}<br>Seats=%{marker.size}<br>RapidCharge=%{customdata[0]}<br>Price(Inr)=%{customdata[1]}<extra></extra>",
         "legendgroup": "DS ",
         "marker": {
          "color": "#FFA15A",
          "size": [
           5
          ],
          "sizemode": "area",
          "sizeref": 0.0175,
          "symbol": "circle"
         },
         "mode": "markers",
         "name": "DS ",
         "orientation": "v",
         "showlegend": true,
         "type": "scatter",
         "x": [
          "DS "
         ],
         "xaxis": "x",
         "y": [
          250
         ],
         "yaxis": "y"
        },
        {
         "customdata": [
          [
           1,
           3577200
          ]
         ],
         "hovertemplate": "Brand=%{x}<br>Range_Km=%{y}<br>Seats=%{marker.size}<br>RapidCharge=%{customdata[0]}<br>Price(Inr)=%{customdata[1]}<extra></extra>",
         "legendgroup": "Citroen ",
         "marker": {
          "color": "#19d3f3",
          "size": [
           5
          ],
          "sizemode": "area",
          "sizeref": 0.0175,
          "symbol": "circle"
         },
         "mode": "markers",
         "name": "Citroen ",
         "orientation": "v",
         "showlegend": true,
         "type": "scatter",
         "x": [
          "Citroen "
         ],
         "xaxis": "x",
         "y": [
          250
         ],
         "yaxis": "y"
        },
        {
         "customdata": [
          [
           0,
           6738639.93
          ]
         ],
         "hovertemplate": "Brand=%{x}<br>Range_Km=%{y}<br>Seats=%{marker.size}<br>RapidCharge=%{customdata[0]}<br>Price(Inr)=%{customdata[1]}<extra></extra>",
         "legendgroup": "Jaguar ",
         "marker": {
          "color": "#FF6692",
          "size": [
           5
          ],
          "sizemode": "area",
          "sizeref": 0.0175,
          "symbol": "circle"
         },
         "mode": "markers",
         "name": "Jaguar ",
         "orientation": "v",
         "showlegend": true,
         "type": "scatter",
         "x": [
          "Jaguar "
         ],
         "xaxis": "x",
         "y": [
          365
         ],
         "yaxis": "y"
        },
        {
         "customdata": [
          [
           0,
           4871699.25
          ],
          [
           1,
           5625147
          ],
          [
           1,
           4829220
          ],
          [
           1,
           4194267
          ]
         ],
         "hovertemplate": "Brand=%{x}<br>Range_Km=%{y}<br>Seats=%{marker.size}<br>RapidCharge=%{customdata[0]}<br>Price(Inr)=%{customdata[1]}<extra></extra>",
         "legendgroup": "Ford ",
         "marker": {
          "color": "#B6E880",
          "size": [
           5,
           5,
           5,
           5
          ],
          "sizemode": "area",
          "sizeref": 0.0175,
          "symbol": "circle"
         },
         "mode": "markers",
         "name": "Ford ",
         "orientation": "v",
         "showlegend": true,
         "type": "scatter",
         "x": [
          "Ford ",
          "Ford ",
          "Ford ",
          "Ford "
         ],
         "xaxis": "x",
         "y": [
          450,
          430,
          340,
          360
         ],
         "yaxis": "y"
        },
        {
         "customdata": [
          [
           1,
           5723520
          ],
          [
           0,
           4784505
          ],
          [
           0,
           5544660
          ]
         ],
         "hovertemplate": "Brand=%{x}<br>Range_Km=%{y}<br>Seats=%{marker.size}<br>RapidCharge=%{customdata[0]}<br>Price(Inr)=%{customdata[1]}<extra></extra>",
         "legendgroup": "Byton ",
         "marker": {
          "color": "#FF97FF",
          "size": [
           5,
           5,
           5
          ],
          "sizemode": "area",
          "sizeref": 0.0175,
          "symbol": "circle"
         },
         "mode": "markers",
         "name": "Byton ",
         "orientation": "v",
         "showlegend": true,
         "type": "scatter",
         "x": [
          "Byton ",
          "Byton ",
          "Byton "
         ],
         "xaxis": "x",
         "y": [
          390,
          325,
          400
         ],
         "yaxis": "y"
        },
        {
         "customdata": [
          [
           1,
           2280465
          ]
         ],
         "hovertemplate": "Brand=%{x}<br>Range_Km=%{y}<br>Seats=%{marker.size}<br>RapidCharge=%{customdata[0]}<br>Price(Inr)=%{customdata[1]}<extra></extra>",
         "legendgroup": "Sono ",
         "marker": {
          "color": "#FECB52",
          "size": [
           5
          ],
          "sizemode": "area",
          "sizeref": 0.0175,
          "symbol": "circle"
         },
         "mode": "markers",
         "name": "Sono ",
         "orientation": "v",
         "showlegend": true,
         "type": "scatter",
         "x": [
          "Sono "
         ],
         "xaxis": "x",
         "y": [
          225
         ],
         "yaxis": "y"
        },
        {
         "customdata": [
          [
           0,
           1970142.9
          ],
          [
           0,
           1912639.41
          ],
          [
           0,
           2196847.95
          ]
         ],
         "hovertemplate": "Brand=%{x}<br>Range_Km=%{y}<br>Seats=%{marker.size}<br>RapidCharge=%{customdata[0]}<br>Price(Inr)=%{customdata[1]}<extra></extra>",
         "legendgroup": "Smart ",
         "marker": {
          "color": "#636efa",
          "size": [
           4,
           2,
           2
          ],
          "sizemode": "area",
          "sizeref": 0.0175,
          "symbol": "circle"
         },
         "mode": "markers",
         "name": "Smart ",
         "orientation": "v",
         "showlegend": true,
         "type": "scatter",
         "x": [
          "Smart ",
          "Smart ",
          "Smart "
         ],
         "xaxis": "x",
         "y": [
          95,
          100,
          95
         ],
         "yaxis": "y"
        },
        {
         "customdata": [
          [
           1,
           3121107
          ],
          [
           1,
           3389397
          ]
         ],
         "hovertemplate": "Brand=%{x}<br>Range_Km=%{y}<br>Seats=%{marker.size}<br>RapidCharge=%{customdata[0]}<br>Price(Inr)=%{customdata[1]}<extra></extra>",
         "legendgroup": "Fiat ",
         "marker": {
          "color": "#EF553B",
          "size": [
           4,
           4
          ],
          "sizemode": "area",
          "sizeref": 0.0175,
          "symbol": "circle"
         },
         "mode": "markers",
         "name": "Fiat ",
         "orientation": "v",
         "showlegend": true,
         "type": "scatter",
         "x": [
          "Fiat ",
          "Fiat "
         ],
         "xaxis": "x",
         "y": [
          250,
          250
         ],
         "yaxis": "y"
        }
       ],
       "layout": {
        "legend": {
         "itemsizing": "constant",
         "title": {
          "text": "Brand"
         },
         "tracegroupgap": 0
        },
        "margin": {
         "t": 60
        },
        "template": {
         "data": {
          "bar": [
           {
            "error_x": {
             "color": "#2a3f5f"
            },
            "error_y": {
             "color": "#2a3f5f"
            },
            "marker": {
             "line": {
              "color": "#E5ECF6",
              "width": 0.5
             },
             "pattern": {
              "fillmode": "overlay",
              "size": 10,
              "solidity": 0.2
             }
            },
            "type": "bar"
           }
          ],
          "barpolar": [
           {
            "marker": {
             "line": {
              "color": "#E5ECF6",
              "width": 0.5
             },
             "pattern": {
              "fillmode": "overlay",
              "size": 10,
              "solidity": 0.2
             }
            },
            "type": "barpolar"
           }
          ],
          "carpet": [
           {
            "aaxis": {
             "endlinecolor": "#2a3f5f",
             "gridcolor": "white",
             "linecolor": "white",
             "minorgridcolor": "white",
             "startlinecolor": "#2a3f5f"
            },
            "baxis": {
             "endlinecolor": "#2a3f5f",
             "gridcolor": "white",
             "linecolor": "white",
             "minorgridcolor": "white",
             "startlinecolor": "#2a3f5f"
            },
            "type": "carpet"
           }
          ],
          "choropleth": [
           {
            "colorbar": {
             "outlinewidth": 0,
             "ticks": ""
            },
            "type": "choropleth"
           }
          ],
          "contour": [
           {
            "colorbar": {
             "outlinewidth": 0,
             "ticks": ""
            },
            "colorscale": [
             [
              0,
              "#0d0887"
             ],
             [
              0.1111111111111111,
              "#46039f"
             ],
             [
              0.2222222222222222,
              "#7201a8"
             ],
             [
              0.3333333333333333,
              "#9c179e"
             ],
             [
              0.4444444444444444,
              "#bd3786"
             ],
             [
              0.5555555555555556,
              "#d8576b"
             ],
             [
              0.6666666666666666,
              "#ed7953"
             ],
             [
              0.7777777777777778,
              "#fb9f3a"
             ],
             [
              0.8888888888888888,
              "#fdca26"
             ],
             [
              1,
              "#f0f921"
             ]
            ],
            "type": "contour"
           }
          ],
          "contourcarpet": [
           {
            "colorbar": {
             "outlinewidth": 0,
             "ticks": ""
            },
            "type": "contourcarpet"
           }
          ],
          "heatmap": [
           {
            "colorbar": {
             "outlinewidth": 0,
             "ticks": ""
            },
            "colorscale": [
             [
              0,
              "#0d0887"
             ],
             [
              0.1111111111111111,
              "#46039f"
             ],
             [
              0.2222222222222222,
              "#7201a8"
             ],
             [
              0.3333333333333333,
              "#9c179e"
             ],
             [
              0.4444444444444444,
              "#bd3786"
             ],
             [
              0.5555555555555556,
              "#d8576b"
             ],
             [
              0.6666666666666666,
              "#ed7953"
             ],
             [
              0.7777777777777778,
              "#fb9f3a"
             ],
             [
              0.8888888888888888,
              "#fdca26"
             ],
             [
              1,
              "#f0f921"
             ]
            ],
            "type": "heatmap"
           }
          ],
          "heatmapgl": [
           {
            "colorbar": {
             "outlinewidth": 0,
             "ticks": ""
            },
            "colorscale": [
             [
              0,
              "#0d0887"
             ],
             [
              0.1111111111111111,
              "#46039f"
             ],
             [
              0.2222222222222222,
              "#7201a8"
             ],
             [
              0.3333333333333333,
              "#9c179e"
             ],
             [
              0.4444444444444444,
              "#bd3786"
             ],
             [
              0.5555555555555556,
              "#d8576b"
             ],
             [
              0.6666666666666666,
              "#ed7953"
             ],
             [
              0.7777777777777778,
              "#fb9f3a"
             ],
             [
              0.8888888888888888,
              "#fdca26"
             ],
             [
              1,
              "#f0f921"
             ]
            ],
            "type": "heatmapgl"
           }
          ],
          "histogram": [
           {
            "marker": {
             "pattern": {
              "fillmode": "overlay",
              "size": 10,
              "solidity": 0.2
             }
            },
            "type": "histogram"
           }
          ],
          "histogram2d": [
           {
            "colorbar": {
             "outlinewidth": 0,
             "ticks": ""
            },
            "colorscale": [
             [
              0,
              "#0d0887"
             ],
             [
              0.1111111111111111,
              "#46039f"
             ],
             [
              0.2222222222222222,
              "#7201a8"
             ],
             [
              0.3333333333333333,
              "#9c179e"
             ],
             [
              0.4444444444444444,
              "#bd3786"
             ],
             [
              0.5555555555555556,
              "#d8576b"
             ],
             [
              0.6666666666666666,
              "#ed7953"
             ],
             [
              0.7777777777777778,
              "#fb9f3a"
             ],
             [
              0.8888888888888888,
              "#fdca26"
             ],
             [
              1,
              "#f0f921"
             ]
            ],
            "type": "histogram2d"
           }
          ],
          "histogram2dcontour": [
           {
            "colorbar": {
             "outlinewidth": 0,
             "ticks": ""
            },
            "colorscale": [
             [
              0,
              "#0d0887"
             ],
             [
              0.1111111111111111,
              "#46039f"
             ],
             [
              0.2222222222222222,
              "#7201a8"
             ],
             [
              0.3333333333333333,
              "#9c179e"
             ],
             [
              0.4444444444444444,
              "#bd3786"
             ],
             [
              0.5555555555555556,
              "#d8576b"
             ],
             [
              0.6666666666666666,
              "#ed7953"
             ],
             [
              0.7777777777777778,
              "#fb9f3a"
             ],
             [
              0.8888888888888888,
              "#fdca26"
             ],
             [
              1,
              "#f0f921"
             ]
            ],
            "type": "histogram2dcontour"
           }
          ],
          "mesh3d": [
           {
            "colorbar": {
             "outlinewidth": 0,
             "ticks": ""
            },
            "type": "mesh3d"
           }
          ],
          "parcoords": [
           {
            "line": {
             "colorbar": {
              "outlinewidth": 0,
              "ticks": ""
             }
            },
            "type": "parcoords"
           }
          ],
          "pie": [
           {
            "automargin": true,
            "type": "pie"
           }
          ],
          "scatter": [
           {
            "fillpattern": {
             "fillmode": "overlay",
             "size": 10,
             "solidity": 0.2
            },
            "type": "scatter"
           }
          ],
          "scatter3d": [
           {
            "line": {
             "colorbar": {
              "outlinewidth": 0,
              "ticks": ""
             }
            },
            "marker": {
             "colorbar": {
              "outlinewidth": 0,
              "ticks": ""
             }
            },
            "type": "scatter3d"
           }
          ],
          "scattercarpet": [
           {
            "marker": {
             "colorbar": {
              "outlinewidth": 0,
              "ticks": ""
             }
            },
            "type": "scattercarpet"
           }
          ],
          "scattergeo": [
           {
            "marker": {
             "colorbar": {
              "outlinewidth": 0,
              "ticks": ""
             }
            },
            "type": "scattergeo"
           }
          ],
          "scattergl": [
           {
            "marker": {
             "colorbar": {
              "outlinewidth": 0,
              "ticks": ""
             }
            },
            "type": "scattergl"
           }
          ],
          "scattermapbox": [
           {
            "marker": {
             "colorbar": {
              "outlinewidth": 0,
              "ticks": ""
             }
            },
            "type": "scattermapbox"
           }
          ],
          "scatterpolar": [
           {
            "marker": {
             "colorbar": {
              "outlinewidth": 0,
              "ticks": ""
             }
            },
            "type": "scatterpolar"
           }
          ],
          "scatterpolargl": [
           {
            "marker": {
             "colorbar": {
              "outlinewidth": 0,
              "ticks": ""
             }
            },
            "type": "scatterpolargl"
           }
          ],
          "scatterternary": [
           {
            "marker": {
             "colorbar": {
              "outlinewidth": 0,
              "ticks": ""
             }
            },
            "type": "scatterternary"
           }
          ],
          "surface": [
           {
            "colorbar": {
             "outlinewidth": 0,
             "ticks": ""
            },
            "colorscale": [
             [
              0,
              "#0d0887"
             ],
             [
              0.1111111111111111,
              "#46039f"
             ],
             [
              0.2222222222222222,
              "#7201a8"
             ],
             [
              0.3333333333333333,
              "#9c179e"
             ],
             [
              0.4444444444444444,
              "#bd3786"
             ],
             [
              0.5555555555555556,
              "#d8576b"
             ],
             [
              0.6666666666666666,
              "#ed7953"
             ],
             [
              0.7777777777777778,
              "#fb9f3a"
             ],
             [
              0.8888888888888888,
              "#fdca26"
             ],
             [
              1,
              "#f0f921"
             ]
            ],
            "type": "surface"
           }
          ],
          "table": [
           {
            "cells": {
             "fill": {
              "color": "#EBF0F8"
             },
             "line": {
              "color": "white"
             }
            },
            "header": {
             "fill": {
              "color": "#C8D4E3"
             },
             "line": {
              "color": "white"
             }
            },
            "type": "table"
           }
          ]
         },
         "layout": {
          "annotationdefaults": {
           "arrowcolor": "#2a3f5f",
           "arrowhead": 0,
           "arrowwidth": 1
          },
          "autotypenumbers": "strict",
          "coloraxis": {
           "colorbar": {
            "outlinewidth": 0,
            "ticks": ""
           }
          },
          "colorscale": {
           "diverging": [
            [
             0,
             "#8e0152"
            ],
            [
             0.1,
             "#c51b7d"
            ],
            [
             0.2,
             "#de77ae"
            ],
            [
             0.3,
             "#f1b6da"
            ],
            [
             0.4,
             "#fde0ef"
            ],
            [
             0.5,
             "#f7f7f7"
            ],
            [
             0.6,
             "#e6f5d0"
            ],
            [
             0.7,
             "#b8e186"
            ],
            [
             0.8,
             "#7fbc41"
            ],
            [
             0.9,
             "#4d9221"
            ],
            [
             1,
             "#276419"
            ]
           ],
           "sequential": [
            [
             0,
             "#0d0887"
            ],
            [
             0.1111111111111111,
             "#46039f"
            ],
            [
             0.2222222222222222,
             "#7201a8"
            ],
            [
             0.3333333333333333,
             "#9c179e"
            ],
            [
             0.4444444444444444,
             "#bd3786"
            ],
            [
             0.5555555555555556,
             "#d8576b"
            ],
            [
             0.6666666666666666,
             "#ed7953"
            ],
            [
             0.7777777777777778,
             "#fb9f3a"
            ],
            [
             0.8888888888888888,
             "#fdca26"
            ],
            [
             1,
             "#f0f921"
            ]
           ],
           "sequentialminus": [
            [
             0,
             "#0d0887"
            ],
            [
             0.1111111111111111,
             "#46039f"
            ],
            [
             0.2222222222222222,
             "#7201a8"
            ],
            [
             0.3333333333333333,
             "#9c179e"
            ],
            [
             0.4444444444444444,
             "#bd3786"
            ],
            [
             0.5555555555555556,
             "#d8576b"
            ],
            [
             0.6666666666666666,
             "#ed7953"
            ],
            [
             0.7777777777777778,
             "#fb9f3a"
            ],
            [
             0.8888888888888888,
             "#fdca26"
            ],
            [
             1,
             "#f0f921"
            ]
           ]
          },
          "colorway": [
           "#636efa",
           "#EF553B",
           "#00cc96",
           "#ab63fa",
           "#FFA15A",
           "#19d3f3",
           "#FF6692",
           "#B6E880",
           "#FF97FF",
           "#FECB52"
          ],
          "font": {
           "color": "#2a3f5f"
          },
          "geo": {
           "bgcolor": "white",
           "lakecolor": "white",
           "landcolor": "#E5ECF6",
           "showlakes": true,
           "showland": true,
           "subunitcolor": "white"
          },
          "hoverlabel": {
           "align": "left"
          },
          "hovermode": "closest",
          "mapbox": {
           "style": "light"
          },
          "paper_bgcolor": "white",
          "plot_bgcolor": "#E5ECF6",
          "polar": {
           "angularaxis": {
            "gridcolor": "white",
            "linecolor": "white",
            "ticks": ""
           },
           "bgcolor": "#E5ECF6",
           "radialaxis": {
            "gridcolor": "white",
            "linecolor": "white",
            "ticks": ""
           }
          },
          "scene": {
           "xaxis": {
            "backgroundcolor": "#E5ECF6",
            "gridcolor": "white",
            "gridwidth": 2,
            "linecolor": "white",
            "showbackground": true,
            "ticks": "",
            "zerolinecolor": "white"
           },
           "yaxis": {
            "backgroundcolor": "#E5ECF6",
            "gridcolor": "white",
            "gridwidth": 2,
            "linecolor": "white",
            "showbackground": true,
            "ticks": "",
            "zerolinecolor": "white"
           },
           "zaxis": {
            "backgroundcolor": "#E5ECF6",
            "gridcolor": "white",
            "gridwidth": 2,
            "linecolor": "white",
            "showbackground": true,
            "ticks": "",
            "zerolinecolor": "white"
           }
          },
          "shapedefaults": {
           "line": {
            "color": "#2a3f5f"
           }
          },
          "ternary": {
           "aaxis": {
            "gridcolor": "white",
            "linecolor": "white",
            "ticks": ""
           },
           "baxis": {
            "gridcolor": "white",
            "linecolor": "white",
            "ticks": ""
           },
           "bgcolor": "#E5ECF6",
           "caxis": {
            "gridcolor": "white",
            "linecolor": "white",
            "ticks": ""
           }
          },
          "title": {
           "x": 0.05
          },
          "xaxis": {
           "automargin": true,
           "gridcolor": "white",
           "linecolor": "white",
           "ticks": "",
           "title": {
            "standoff": 15
           },
           "zerolinecolor": "white",
           "zerolinewidth": 2
          },
          "yaxis": {
           "automargin": true,
           "gridcolor": "white",
           "linecolor": "white",
           "ticks": "",
           "title": {
            "standoff": 15
           },
           "zerolinecolor": "white",
           "zerolinewidth": 2
          }
         }
        },
        "xaxis": {
         "anchor": "y",
         "categoryarray": [
          "Volkswagen ",
          "Polestar ",
          "BMW ",
          "Honda ",
          "Lucid ",
          "Peugeot ",
          "Audi ",
          "Mercedes ",
          "Nissan ",
          "Hyundai ",
          "Porsche ",
          "MG ",
          "Mini ",
          "Opel ",
          "Skoda ",
          "Volvo ",
          "Kia ",
          "Renault ",
          "Mazda ",
          "Lexus ",
          "CUPRA ",
          "SEAT ",
          "Lightyear ",
          "Aiways ",
          "DS ",
          "Citroen ",
          "Jaguar ",
          "Ford ",
          "Byton ",
          "Sono ",
          "Smart ",
          "Fiat "
         ],
         "categoryorder": "array",
         "domain": [
          0,
          1
         ],
         "title": {
          "text": "Brand"
         }
        },
        "yaxis": {
         "anchor": "x",
         "domain": [
          0,
          1
         ],
         "title": {
          "text": "Range_Km"
         }
        }
       }
      }
     },
     "metadata": {},
     "output_type": "display_data"
    }
   ],
   "source": [
    "fig = px.scatter(df,x = 'Brand',y = 'Range_Km',size='Seats',color = 'Brand',hover_data=['RapidCharge','Price(Inr)'])\n",
    "pio.show(fig)"
   ]
  },
  {
   "cell_type": "markdown",
   "metadata": {},
   "source": [
    "\n",
    "## Heatmap of Correlation matrix"
   ]
  },
  {
   "cell_type": "code",
   "execution_count": 63,
   "metadata": {},
   "outputs": [
    {
     "ename": "ValueError",
     "evalue": "could not convert string to float: 'Volkswagen '",
     "output_type": "error",
     "traceback": [
      "\u001b[1;31m---------------------------------------------------------------------------\u001b[0m",
      "\u001b[1;31mValueError\u001b[0m                                Traceback (most recent call last)",
      "Cell \u001b[1;32mIn[63], line 2\u001b[0m\n\u001b[0;32m      1\u001b[0m ax\u001b[38;5;241m=\u001b[39m plt\u001b[38;5;241m.\u001b[39mfigure(figsize\u001b[38;5;241m=\u001b[39m(\u001b[38;5;241m14\u001b[39m,\u001b[38;5;241m8\u001b[39m))\n\u001b[1;32m----> 2\u001b[0m sns\u001b[38;5;241m.\u001b[39mheatmap(\u001b[43mdf\u001b[49m\u001b[38;5;241;43m.\u001b[39;49m\u001b[43mcorr\u001b[49m\u001b[43m(\u001b[49m\u001b[38;5;124;43m'\u001b[39;49m\u001b[38;5;124;43m'\u001b[39;49m\u001b[43m)\u001b[49m, linewidths\u001b[38;5;241m=\u001b[39m \u001b[38;5;241m1\u001b[39m, linecolor\u001b[38;5;241m=\u001b[39m\u001b[38;5;124m'\u001b[39m\u001b[38;5;124mwhite\u001b[39m\u001b[38;5;124m'\u001b[39m, annot\u001b[38;5;241m=\u001b[39m \u001b[38;5;28;01mTrue\u001b[39;00m)\n",
      "File \u001b[1;32md:\\ML_work\\repository\\venv\\Lib\\site-packages\\pandas\\core\\frame.py:11049\u001b[0m, in \u001b[0;36mDataFrame.corr\u001b[1;34m(self, method, min_periods, numeric_only)\u001b[0m\n\u001b[0;32m  11047\u001b[0m cols \u001b[38;5;241m=\u001b[39m data\u001b[38;5;241m.\u001b[39mcolumns\n\u001b[0;32m  11048\u001b[0m idx \u001b[38;5;241m=\u001b[39m cols\u001b[38;5;241m.\u001b[39mcopy()\n\u001b[1;32m> 11049\u001b[0m mat \u001b[38;5;241m=\u001b[39m \u001b[43mdata\u001b[49m\u001b[38;5;241;43m.\u001b[39;49m\u001b[43mto_numpy\u001b[49m\u001b[43m(\u001b[49m\u001b[43mdtype\u001b[49m\u001b[38;5;241;43m=\u001b[39;49m\u001b[38;5;28;43mfloat\u001b[39;49m\u001b[43m,\u001b[49m\u001b[43m \u001b[49m\u001b[43mna_value\u001b[49m\u001b[38;5;241;43m=\u001b[39;49m\u001b[43mnp\u001b[49m\u001b[38;5;241;43m.\u001b[39;49m\u001b[43mnan\u001b[49m\u001b[43m,\u001b[49m\u001b[43m \u001b[49m\u001b[43mcopy\u001b[49m\u001b[38;5;241;43m=\u001b[39;49m\u001b[38;5;28;43;01mFalse\u001b[39;49;00m\u001b[43m)\u001b[49m\n\u001b[0;32m  11051\u001b[0m \u001b[38;5;28;01mif\u001b[39;00m method \u001b[38;5;241m==\u001b[39m \u001b[38;5;124m\"\u001b[39m\u001b[38;5;124mpearson\u001b[39m\u001b[38;5;124m\"\u001b[39m:\n\u001b[0;32m  11052\u001b[0m     correl \u001b[38;5;241m=\u001b[39m libalgos\u001b[38;5;241m.\u001b[39mnancorr(mat, minp\u001b[38;5;241m=\u001b[39mmin_periods)\n",
      "File \u001b[1;32md:\\ML_work\\repository\\venv\\Lib\\site-packages\\pandas\\core\\frame.py:1993\u001b[0m, in \u001b[0;36mDataFrame.to_numpy\u001b[1;34m(self, dtype, copy, na_value)\u001b[0m\n\u001b[0;32m   1991\u001b[0m \u001b[38;5;28;01mif\u001b[39;00m dtype \u001b[38;5;129;01mis\u001b[39;00m \u001b[38;5;129;01mnot\u001b[39;00m \u001b[38;5;28;01mNone\u001b[39;00m:\n\u001b[0;32m   1992\u001b[0m     dtype \u001b[38;5;241m=\u001b[39m np\u001b[38;5;241m.\u001b[39mdtype(dtype)\n\u001b[1;32m-> 1993\u001b[0m result \u001b[38;5;241m=\u001b[39m \u001b[38;5;28;43mself\u001b[39;49m\u001b[38;5;241;43m.\u001b[39;49m\u001b[43m_mgr\u001b[49m\u001b[38;5;241;43m.\u001b[39;49m\u001b[43mas_array\u001b[49m\u001b[43m(\u001b[49m\u001b[43mdtype\u001b[49m\u001b[38;5;241;43m=\u001b[39;49m\u001b[43mdtype\u001b[49m\u001b[43m,\u001b[49m\u001b[43m \u001b[49m\u001b[43mcopy\u001b[49m\u001b[38;5;241;43m=\u001b[39;49m\u001b[43mcopy\u001b[49m\u001b[43m,\u001b[49m\u001b[43m \u001b[49m\u001b[43mna_value\u001b[49m\u001b[38;5;241;43m=\u001b[39;49m\u001b[43mna_value\u001b[49m\u001b[43m)\u001b[49m\n\u001b[0;32m   1994\u001b[0m \u001b[38;5;28;01mif\u001b[39;00m result\u001b[38;5;241m.\u001b[39mdtype \u001b[38;5;129;01mis\u001b[39;00m \u001b[38;5;129;01mnot\u001b[39;00m dtype:\n\u001b[0;32m   1995\u001b[0m     result \u001b[38;5;241m=\u001b[39m np\u001b[38;5;241m.\u001b[39masarray(result, dtype\u001b[38;5;241m=\u001b[39mdtype)\n",
      "File \u001b[1;32md:\\ML_work\\repository\\venv\\Lib\\site-packages\\pandas\\core\\internals\\managers.py:1694\u001b[0m, in \u001b[0;36mBlockManager.as_array\u001b[1;34m(self, dtype, copy, na_value)\u001b[0m\n\u001b[0;32m   1692\u001b[0m         arr\u001b[38;5;241m.\u001b[39mflags\u001b[38;5;241m.\u001b[39mwriteable \u001b[38;5;241m=\u001b[39m \u001b[38;5;28;01mFalse\u001b[39;00m\n\u001b[0;32m   1693\u001b[0m \u001b[38;5;28;01melse\u001b[39;00m:\n\u001b[1;32m-> 1694\u001b[0m     arr \u001b[38;5;241m=\u001b[39m \u001b[38;5;28;43mself\u001b[39;49m\u001b[38;5;241;43m.\u001b[39;49m\u001b[43m_interleave\u001b[49m\u001b[43m(\u001b[49m\u001b[43mdtype\u001b[49m\u001b[38;5;241;43m=\u001b[39;49m\u001b[43mdtype\u001b[49m\u001b[43m,\u001b[49m\u001b[43m \u001b[49m\u001b[43mna_value\u001b[49m\u001b[38;5;241;43m=\u001b[39;49m\u001b[43mna_value\u001b[49m\u001b[43m)\u001b[49m\n\u001b[0;32m   1695\u001b[0m     \u001b[38;5;66;03m# The underlying data was copied within _interleave, so no need\u001b[39;00m\n\u001b[0;32m   1696\u001b[0m     \u001b[38;5;66;03m# to further copy if copy=True or setting na_value\u001b[39;00m\n\u001b[0;32m   1698\u001b[0m \u001b[38;5;28;01mif\u001b[39;00m na_value \u001b[38;5;129;01mis\u001b[39;00m lib\u001b[38;5;241m.\u001b[39mno_default:\n",
      "File \u001b[1;32md:\\ML_work\\repository\\venv\\Lib\\site-packages\\pandas\\core\\internals\\managers.py:1753\u001b[0m, in \u001b[0;36mBlockManager._interleave\u001b[1;34m(self, dtype, na_value)\u001b[0m\n\u001b[0;32m   1751\u001b[0m     \u001b[38;5;28;01melse\u001b[39;00m:\n\u001b[0;32m   1752\u001b[0m         arr \u001b[38;5;241m=\u001b[39m blk\u001b[38;5;241m.\u001b[39mget_values(dtype)\n\u001b[1;32m-> 1753\u001b[0m     \u001b[43mresult\u001b[49m\u001b[43m[\u001b[49m\u001b[43mrl\u001b[49m\u001b[38;5;241;43m.\u001b[39;49m\u001b[43mindexer\u001b[49m\u001b[43m]\u001b[49m \u001b[38;5;241m=\u001b[39m arr\n\u001b[0;32m   1754\u001b[0m     itemmask[rl\u001b[38;5;241m.\u001b[39mindexer] \u001b[38;5;241m=\u001b[39m \u001b[38;5;241m1\u001b[39m\n\u001b[0;32m   1756\u001b[0m \u001b[38;5;28;01mif\u001b[39;00m \u001b[38;5;129;01mnot\u001b[39;00m itemmask\u001b[38;5;241m.\u001b[39mall():\n",
      "\u001b[1;31mValueError\u001b[0m: could not convert string to float: 'Volkswagen '"
     ]
    },
    {
     "data": {
      "text/plain": [
       "<Figure size 1400x800 with 0 Axes>"
      ]
     },
     "metadata": {},
     "output_type": "display_data"
    }
   ],
   "source": [
    "ax= plt.figure(figsize=(14,8))\n",
    "sns.heatmap(df.corr(), linewidths= 1, linecolor='white', annot= True)"
   ]
  },
  {
   "cell_type": "markdown",
   "metadata": {},
   "source": [
    "\n",
    "## Frequency of cars with price"
   ]
  },
  {
   "cell_type": "code",
   "execution_count": null,
   "metadata": {},
   "outputs": [
    {
     "name": "stderr",
     "output_type": "stream",
     "text": [
      "C:\\Users\\Payal\\AppData\\Local\\Temp\\ipykernel_4536\\2872506748.py:2: FutureWarning:\n",
      "\n",
      "\n",
      "\n",
      "Passing `palette` without assigning `hue` is deprecated and will be removed in v0.14.0. Assign the `x` variable to `hue` and set `legend=False` for the same effect.\n",
      "\n",
      "\n"
     ]
    },
    {
     "data": {
      "text/plain": [
       "([0,\n",
       "  1,\n",
       "  2,\n",
       "  3,\n",
       "  4,\n",
       "  5,\n",
       "  6,\n",
       "  7,\n",
       "  8,\n",
       "  9,\n",
       "  10,\n",
       "  11,\n",
       "  12,\n",
       "  13,\n",
       "  14,\n",
       "  15,\n",
       "  16,\n",
       "  17,\n",
       "  18,\n",
       "  19,\n",
       "  20,\n",
       "  21,\n",
       "  22,\n",
       "  23,\n",
       "  24,\n",
       "  25,\n",
       "  26,\n",
       "  27,\n",
       "  28,\n",
       "  29,\n",
       "  30,\n",
       "  31],\n",
       " [Text(0, 0, 'Volkswagen '),\n",
       "  Text(1, 0, 'Polestar '),\n",
       "  Text(2, 0, 'BMW '),\n",
       "  Text(3, 0, 'Honda '),\n",
       "  Text(4, 0, 'Lucid '),\n",
       "  Text(5, 0, 'Peugeot '),\n",
       "  Text(6, 0, 'Audi '),\n",
       "  Text(7, 0, 'Mercedes '),\n",
       "  Text(8, 0, 'Nissan '),\n",
       "  Text(9, 0, 'Hyundai '),\n",
       "  Text(10, 0, 'Porsche '),\n",
       "  Text(11, 0, 'MG '),\n",
       "  Text(12, 0, 'Mini '),\n",
       "  Text(13, 0, 'Opel '),\n",
       "  Text(14, 0, 'Skoda '),\n",
       "  Text(15, 0, 'Volvo '),\n",
       "  Text(16, 0, 'Kia '),\n",
       "  Text(17, 0, 'Renault '),\n",
       "  Text(18, 0, 'Mazda '),\n",
       "  Text(19, 0, 'Lexus '),\n",
       "  Text(20, 0, 'CUPRA '),\n",
       "  Text(21, 0, 'SEAT '),\n",
       "  Text(22, 0, 'Lightyear '),\n",
       "  Text(23, 0, 'Aiways '),\n",
       "  Text(24, 0, 'DS '),\n",
       "  Text(25, 0, 'Citroen '),\n",
       "  Text(26, 0, 'Jaguar '),\n",
       "  Text(27, 0, 'Ford '),\n",
       "  Text(28, 0, 'Byton '),\n",
       "  Text(29, 0, 'Sono '),\n",
       "  Text(30, 0, 'Smart '),\n",
       "  Text(31, 0, 'Fiat ')])"
      ]
     },
     "execution_count": 32,
     "metadata": {},
     "output_type": "execute_result"
    },
    {
     "data": {
      "image/png": "[encoded data removed]",
      "text/plain": [
       "<Figure size 2000x500 with 1 Axes>"
      ]
     },
     "metadata": {},
     "output_type": "display_data"
    }
   ],
   "source": [
    "x= plt.figure(figsize=(20,5))\n",
    "sns.barplot(x='Brand',y='Price(Inr)',data=df,palette='Set2')\n",
    "plt.title('Price of a Car')\n",
    "plt.xlabel('Price in INR')\n",
    "plt.grid(axis='y')\n",
    "plt.ylabel('Frequency')\n",
    "plt.xticks(rotation=45)"
   ]
  },
  {
   "cell_type": "markdown",
   "metadata": {},
   "source": [
    "\n",
    "## Frequency of Cars with Brand"
   ]
  },
  {
   "cell_type": "code",
   "execution_count": null,
   "metadata": {},
   "outputs": [
    {
     "data": {
      "text/plain": [
       "([0,\n",
       "  1,\n",
       "  2,\n",
       "  3,\n",
       "  4,\n",
       "  5,\n",
       "  6,\n",
       "  7,\n",
       "  8,\n",
       "  9,\n",
       "  10,\n",
       "  11,\n",
       "  12,\n",
       "  13,\n",
       "  14,\n",
       "  15,\n",
       "  16,\n",
       "  17,\n",
       "  18,\n",
       "  19,\n",
       "  20,\n",
       "  21,\n",
       "  22,\n",
       "  23,\n",
       "  24,\n",
       "  25,\n",
       "  26,\n",
       "  27,\n",
       "  28,\n",
       "  29,\n",
       "  30,\n",
       "  31],\n",
       " [Text(0, 0, 'Volkswagen '),\n",
       "  Text(1, 0, 'Polestar '),\n",
       "  Text(2, 0, 'BMW '),\n",
       "  Text(3, 0, 'Honda '),\n",
       "  Text(4, 0, 'Lucid '),\n",
       "  Text(5, 0, 'Peugeot '),\n",
       "  Text(6, 0, 'Audi '),\n",
       "  Text(7, 0, 'Mercedes '),\n",
       "  Text(8, 0, 'Nissan '),\n",
       "  Text(9, 0, 'Hyundai '),\n",
       "  Text(10, 0, 'Porsche '),\n",
       "  Text(11, 0, 'MG '),\n",
       "  Text(12, 0, 'Mini '),\n",
       "  Text(13, 0, 'Opel '),\n",
       "  Text(14, 0, 'Skoda '),\n",
       "  Text(15, 0, 'Volvo '),\n",
       "  Text(16, 0, 'Kia '),\n",
       "  Text(17, 0, 'Renault '),\n",
       "  Text(18, 0, 'Mazda '),\n",
       "  Text(19, 0, 'Lexus '),\n",
       "  Text(20, 0, 'CUPRA '),\n",
       "  Text(21, 0, 'SEAT '),\n",
       "  Text(22, 0, 'Lightyear '),\n",
       "  Text(23, 0, 'Aiways '),\n",
       "  Text(24, 0, 'DS '),\n",
       "  Text(25, 0, 'Citroen '),\n",
       "  Text(26, 0, 'Jaguar '),\n",
       "  Text(27, 0, 'Ford '),\n",
       "  Text(28, 0, 'Byton '),\n",
       "  Text(29, 0, 'Sono '),\n",
       "  Text(30, 0, 'Smart '),\n",
       "  Text(31, 0, 'Fiat ')])"
      ]
     },
     "execution_count": 33,
     "metadata": {},
     "output_type": "execute_result"
    },
    {
     "data": {
      "image/png": "[encoded data removed]",
      "text/plain": [
       "<Figure size 2000x500 with 1 Axes>"
      ]
     },
     "metadata": {},
     "output_type": "display_data"
    }
   ],
   "source": [
    "ax= plt.figure(figsize=(20,5))\n",
    "sns.countplot(x='Brand',data=df)\n",
    "plt.grid(axis='y')\n",
    "plt.title('Brands in the datset')\n",
    "plt.xlabel('Brand')\n",
    "plt.ylabel('Frequency')\n",
    "plt.xticks(rotation=45)"
   ]
  },
  {
   "cell_type": "markdown",
   "metadata": {},
   "source": [
    "\n",
    "## Frequency Of Cars with Maximum Range"
   ]
  },
  {
   "cell_type": "code",
   "execution_count": null,
   "metadata": {},
   "outputs": [
    {
     "name": "stderr",
     "output_type": "stream",
     "text": [
      "C:\\Users\\Payal\\AppData\\Local\\Temp\\ipykernel_4536\\2045428238.py:2: FutureWarning:\n",
      "\n",
      "\n",
      "\n",
      "Passing `palette` without assigning `hue` is deprecated and will be removed in v0.14.0. Assign the `x` variable to `hue` and set `legend=False` for the same effect.\n",
      "\n",
      "\n"
     ]
    },
    {
     "data": {
      "text/plain": [
       "([0,\n",
       "  1,\n",
       "  2,\n",
       "  3,\n",
       "  4,\n",
       "  5,\n",
       "  6,\n",
       "  7,\n",
       "  8,\n",
       "  9,\n",
       "  10,\n",
       "  11,\n",
       "  12,\n",
       "  13,\n",
       "  14,\n",
       "  15,\n",
       "  16,\n",
       "  17,\n",
       "  18,\n",
       "  19,\n",
       "  20,\n",
       "  21,\n",
       "  22,\n",
       "  23,\n",
       "  24,\n",
       "  25,\n",
       "  26,\n",
       "  27,\n",
       "  28,\n",
       "  29,\n",
       "  30,\n",
       "  31],\n",
       " [Text(0, 0, 'Volkswagen '),\n",
       "  Text(1, 0, 'Polestar '),\n",
       "  Text(2, 0, 'BMW '),\n",
       "  Text(3, 0, 'Honda '),\n",
       "  Text(4, 0, 'Lucid '),\n",
       "  Text(5, 0, 'Peugeot '),\n",
       "  Text(6, 0, 'Audi '),\n",
       "  Text(7, 0, 'Mercedes '),\n",
       "  Text(8, 0, 'Nissan '),\n",
       "  Text(9, 0, 'Hyundai '),\n",
       "  Text(10, 0, 'Porsche '),\n",
       "  Text(11, 0, 'MG '),\n",
       "  Text(12, 0, 'Mini '),\n",
       "  Text(13, 0, 'Opel '),\n",
       "  Text(14, 0, 'Skoda '),\n",
       "  Text(15, 0, 'Volvo '),\n",
       "  Text(16, 0, 'Kia '),\n",
       "  Text(17, 0, 'Renault '),\n",
       "  Text(18, 0, 'Mazda '),\n",
       "  Text(19, 0, 'Lexus '),\n",
       "  Text(20, 0, 'CUPRA '),\n",
       "  Text(21, 0, 'SEAT '),\n",
       "  Text(22, 0, 'Lightyear '),\n",
       "  Text(23, 0, 'Aiways '),\n",
       "  Text(24, 0, 'DS '),\n",
       "  Text(25, 0, 'Citroen '),\n",
       "  Text(26, 0, 'Jaguar '),\n",
       "  Text(27, 0, 'Ford '),\n",
       "  Text(28, 0, 'Byton '),\n",
       "  Text(29, 0, 'Sono '),\n",
       "  Text(30, 0, 'Smart '),\n",
       "  Text(31, 0, 'Fiat ')])"
      ]
     },
     "execution_count": 34,
     "metadata": {},
     "output_type": "execute_result"
    },
    {
     "data": {
      "image/png": "[encoded data removed]",
      "text/plain": [
       "<Figure size 2000x500 with 1 Axes>"
      ]
     },
     "metadata": {},
     "output_type": "display_data"
    }
   ],
   "source": [
    "ax= plt.figure(figsize=(20,5))\n",
    "sns.barplot(x='Brand',y='Range_Km',data=df,palette='tab10')\n",
    "plt.grid(axis='y')\n",
    "plt.title('Maximum Range achieved by a brand')\n",
    "plt.xlabel('Brand')\n",
    "plt.ylabel('Range')\n",
    "plt.xticks(rotation=45)"
   ]
  },
  {
   "cell_type": "markdown",
   "metadata": {},
   "source": [
    "\n",
    "## Efficiency and Brand Relation"
   ]
  },
  {
   "cell_type": "code",
   "execution_count": null,
   "metadata": {},
   "outputs": [
    {
     "name": "stderr",
     "output_type": "stream",
     "text": [
      "C:\\Users\\Payal\\AppData\\Local\\Temp\\ipykernel_4536\\356836271.py:2: FutureWarning:\n",
      "\n",
      "\n",
      "\n",
      "Passing `palette` without assigning `hue` is deprecated and will be removed in v0.14.0. Assign the `x` variable to `hue` and set `legend=False` for the same effect.\n",
      "\n",
      "\n"
     ]
    },
    {
     "data": {
      "text/plain": [
       "([0,\n",
       "  1,\n",
       "  2,\n",
       "  3,\n",
       "  4,\n",
       "  5,\n",
       "  6,\n",
       "  7,\n",
       "  8,\n",
       "  9,\n",
       "  10,\n",
       "  11,\n",
       "  12,\n",
       "  13,\n",
       "  14,\n",
       "  15,\n",
       "  16,\n",
       "  17,\n",
       "  18,\n",
       "  19,\n",
       "  20,\n",
       "  21,\n",
       "  22,\n",
       "  23,\n",
       "  24,\n",
       "  25,\n",
       "  26,\n",
       "  27,\n",
       "  28,\n",
       "  29,\n",
       "  30,\n",
       "  31],\n",
       " [Text(0, 0, 'Volkswagen '),\n",
       "  Text(1, 0, 'Polestar '),\n",
       "  Text(2, 0, 'BMW '),\n",
       "  Text(3, 0, 'Honda '),\n",
       "  Text(4, 0, 'Lucid '),\n",
       "  Text(5, 0, 'Peugeot '),\n",
       "  Text(6, 0, 'Audi '),\n",
       "  Text(7, 0, 'Mercedes '),\n",
       "  Text(8, 0, 'Nissan '),\n",
       "  Text(9, 0, 'Hyundai '),\n",
       "  Text(10, 0, 'Porsche '),\n",
       "  Text(11, 0, 'MG '),\n",
       "  Text(12, 0, 'Mini '),\n",
       "  Text(13, 0, 'Opel '),\n",
       "  Text(14, 0, 'Skoda '),\n",
       "  Text(15, 0, 'Volvo '),\n",
       "  Text(16, 0, 'Kia '),\n",
       "  Text(17, 0, 'Renault '),\n",
       "  Text(18, 0, 'Mazda '),\n",
       "  Text(19, 0, 'Lexus '),\n",
       "  Text(20, 0, 'CUPRA '),\n",
       "  Text(21, 0, 'SEAT '),\n",
       "  Text(22, 0, 'Lightyear '),\n",
       "  Text(23, 0, 'Aiways '),\n",
       "  Text(24, 0, 'DS '),\n",
       "  Text(25, 0, 'Citroen '),\n",
       "  Text(26, 0, 'Jaguar '),\n",
       "  Text(27, 0, 'Ford '),\n",
       "  Text(28, 0, 'Byton '),\n",
       "  Text(29, 0, 'Sono '),\n",
       "  Text(30, 0, 'Smart '),\n",
       "  Text(31, 0, 'Fiat ')])"
      ]
     },
     "execution_count": 35,
     "metadata": {},
     "output_type": "execute_result"
    },
    {
     "data": {
      "image/png": "[encoded data removed]",
      "text/plain": [
       "<Figure size 2000x500 with 1 Axes>"
      ]
     },
     "metadata": {},
     "output_type": "display_data"
    }
   ],
   "source": [
    "ax= plt.figure(figsize=(20,5))\n",
    "sns.barplot(x='Brand',y='Efficiency_WhKm',data=df,palette='hls')\n",
    "plt.grid(axis='y')\n",
    "plt.title('Efficiency achieved by a brand')\n",
    "plt.xlabel('Brand')\n",
    "plt.ylabel('Efficiency')\n",
    "plt.xticks(rotation=45)"
   ]
  },
  {
   "cell_type": "markdown",
   "metadata": {},
   "source": [
    "## Number of Cars With Seats"
   ]
  },
  {
   "cell_type": "code",
   "execution_count": null,
   "metadata": {},
   "outputs": [
    {
     "data": {
      "text/plain": [
       "Text(0.5, 1.0, 'Seats')"
      ]
     },
     "execution_count": 36,
     "metadata": {},
     "output_type": "execute_result"
    },
    {
     "data": {
      "image/png": "[encoded data removed]",
      "text/plain": [
       "<Figure size 800x1500 with 1 Axes>"
      ]
     },
     "metadata": {},
     "output_type": "display_data"
    }
   ],
   "source": [
    "df['Seats'].value_counts().plot.pie(figsize=(8,15),autopct='%.0f%%',explode=(0.1,0.1,0.1,0.1))\n",
    "plt.title('Seats')"
   ]
  },
  {
   "cell_type": "markdown",
   "metadata": {},
   "source": [
    "\n",
    "## Relation Between Topspeed_KmH and FastCharge_KmH"
   ]
  },
  {
   "cell_type": "code",
   "execution_count": null,
   "metadata": {},
   "outputs": [
    {
     "data": {
      "text/plain": [
       "<Axes: xlabel='TopSpeed_KmH', ylabel='FastCharge_KmH'>"
      ]
     },
     "execution_count": 37,
     "metadata": {},
     "output_type": "execute_result"
    },
    {
     "data": {
      "image/png": "[encoded data removed]",
      "text/plain": [
       "<Figure size 1500x800 with 1 Axes>"
      ]
     },
     "metadata": {},
     "output_type": "display_data"
    }
   ],
   "source": [
    "ax=plt.subplots(figsize=(15,8))\n",
    "sns.stripplot(x='TopSpeed_KmH', y='FastCharge_KmH', data=df, jitter=True)"
   ]
  },
  {
   "cell_type": "code",
   "execution_count": null,
   "metadata": {},
   "outputs": [],
   "source": [
    "df3= df[[\"TopSpeed_KmH\", \"Price(Inr)\"]].groupby(\"TopSpeed_KmH\").count()\n",
    "df4= df[[\"Range_Km\", \"Price(Inr)\"]].groupby(\"Range_Km\").count()\n",
    "df5= df[[\"Range_Km\", \"TopSpeed_KmH\"]].groupby(\"Range_Km\").count()\n",
    "df3=df3.sort_values(\"TopSpeed_KmH\",ascending = False).head(10)\n",
    "df4=df4.sort_values(\"Range_Km\",ascending = False).head(10)\n",
    "df5=df5.sort_values(\"Range_Km\",ascending = False).head(10)"
   ]
  },
  {
   "cell_type": "code",
   "execution_count": null,
   "metadata": {},
   "outputs": [
    {
     "data": {
      "image/png": "[encoded data removed]",
      "text/plain": [
       "<Figure size 1000x700 with 1 Axes>"
      ]
     },
     "metadata": {},
     "output_type": "display_data"
    }
   ],
   "source": [
    "plt.figure(figsize=(10,7))\n",
    "plt.title('Cost based on top speed')\n",
    "plt.pie(x=df3[\"Price(Inr)\"],labels=df3.index,autopct='%1.0f%%')\n",
    "plt.show()"
   ]
  },
  {
   "cell_type": "code",
   "execution_count": null,
   "metadata": {},
   "outputs": [
    {
     "data": {
      "image/png": "[encoded data removed]",
      "text/plain": [
       "<Figure size 1000x700 with 1 Axes>"
      ]
     },
     "metadata": {},
     "output_type": "display_data"
    }
   ],
   "source": [
    "plt.figure(figsize=(10,7))\n",
    "plt.title('Top Speeds based on Maximum Range')\n",
    "plt.pie(x=df5[\"TopSpeed_KmH\"],labels=df5.index,autopct='%1.0f%%')\n",
    "plt.show()"
   ]
  },
  {
   "cell_type": "markdown",
   "metadata": {},
   "source": [
    "\n",
    "## Relation Between Topspeed_KmH and Efficiency"
   ]
  },
  {
   "cell_type": "code",
   "execution_count": null,
   "metadata": {},
   "outputs": [
    {
     "data": {
      "text/plain": [
       "<Axes: xlabel='TopSpeed_KmH', ylabel='Efficiency_WhKm'>"
      ]
     },
     "execution_count": 41,
     "metadata": {},
     "output_type": "execute_result"
    },
    {
     "data": {
      "image/png": "[encoded data removed]",
      "text/plain": [
       "<Figure size 1500x800 with 1 Axes>"
      ]
     },
     "metadata": {},
     "output_type": "display_data"
    }
   ],
   "source": [
    "ax=plt.subplots(figsize=(15,8))\n",
    "sns.stripplot(x='TopSpeed_KmH', y='Efficiency_WhKm', data=df, jitter=True)"
   ]
  },
  {
   "cell_type": "code",
   "execution_count": null,
   "metadata": {},
   "outputs": [],
   "source": [
    "features = ['AccelSec','TopSpeed_KmH','Efficiency_WhKm','FastCharge_KmH', 'RapidCharge','Range_Km', 'Seats', 'Price(Inr)']\n",
    "x = df.loc[:, features].values\n",
    "x = StandardScaler().fit_transform(x)"
   ]
  },
  {
   "cell_type": "markdown",
   "metadata": {},
   "source": [
    "\n",
    "## Implement PCA"
   ]
  },
  {
   "cell_type": "code",
   "execution_count": null,
   "metadata": {},
   "outputs": [
    {
     "data": {
      "text/html": [
       "<div>\n",
       "<style scoped>\n",
       "    .dataframe tbody tr th:only-of-type {\n",
       "        vertical-align: middle;\n",
       "    }\n",
       "\n",
       "    .dataframe tbody tr th {\n",
       "        vertical-align: top;\n",
       "    }\n",
       "\n",
       "    .dataframe thead th {\n",
       "        text-align: right;\n",
       "    }\n",
       "</style>\n",
       "<table border=\"1\" class=\"dataframe\">\n",
       "  <thead>\n",
       "    <tr style=\"text-align: right;\">\n",
       "      <th></th>\n",
       "      <th>PC1</th>\n",
       "      <th>PC2</th>\n",
       "      <th>PC3</th>\n",
       "      <th>PC4</th>\n",
       "      <th>Pc5</th>\n",
       "      <th>PC6</th>\n",
       "      <th>PC7</th>\n",
       "      <th>PC8</th>\n",
       "    </tr>\n",
       "  </thead>\n",
       "  <tbody>\n",
       "    <tr>\n",
       "      <th>0</th>\n",
       "      <td>-1.718179</td>\n",
       "      <td>0.283864</td>\n",
       "      <td>0.989976</td>\n",
       "      <td>1.022585</td>\n",
       "      <td>-0.046557</td>\n",
       "      <td>-0.498617</td>\n",
       "      <td>-0.100546</td>\n",
       "      <td>0.350761</td>\n",
       "    </tr>\n",
       "    <tr>\n",
       "      <th>1</th>\n",
       "      <td>2.019349</td>\n",
       "      <td>-0.221453</td>\n",
       "      <td>-0.733198</td>\n",
       "      <td>0.480240</td>\n",
       "      <td>-0.501757</td>\n",
       "      <td>-0.100658</td>\n",
       "      <td>-0.676782</td>\n",
       "      <td>0.318431</td>\n",
       "    </tr>\n",
       "    <tr>\n",
       "      <th>2</th>\n",
       "      <td>1.386810</td>\n",
       "      <td>-0.487154</td>\n",
       "      <td>-0.075369</td>\n",
       "      <td>-0.288874</td>\n",
       "      <td>0.179476</td>\n",
       "      <td>0.335744</td>\n",
       "      <td>-0.240462</td>\n",
       "      <td>-0.243761</td>\n",
       "    </tr>\n",
       "    <tr>\n",
       "      <th>3</th>\n",
       "      <td>-2.153554</td>\n",
       "      <td>0.627026</td>\n",
       "      <td>-0.915731</td>\n",
       "      <td>-1.079856</td>\n",
       "      <td>-0.117790</td>\n",
       "      <td>-0.291523</td>\n",
       "      <td>0.192985</td>\n",
       "      <td>-0.000511</td>\n",
       "    </tr>\n",
       "    <tr>\n",
       "      <th>4</th>\n",
       "      <td>4.335597</td>\n",
       "      <td>-0.120558</td>\n",
       "      <td>-0.961958</td>\n",
       "      <td>1.440853</td>\n",
       "      <td>-0.007821</td>\n",
       "      <td>-0.436555</td>\n",
       "      <td>0.693644</td>\n",
       "      <td>0.976748</td>\n",
       "    </tr>\n",
       "  </tbody>\n",
       "</table>\n",
       "</div>"
      ],
      "text/plain": [
       "        PC1       PC2       PC3       PC4       Pc5       PC6       PC7  \\\n",
       "0 -1.718179  0.283864  0.989976  1.022585 -0.046557 -0.498617 -0.100546   \n",
       "1  2.019349 -0.221453 -0.733198  0.480240 -0.501757 -0.100658 -0.676782   \n",
       "2  1.386810 -0.487154 -0.075369 -0.288874  0.179476  0.335744 -0.240462   \n",
       "3 -2.153554  0.627026 -0.915731 -1.079856 -0.117790 -0.291523  0.192985   \n",
       "4  4.335597 -0.120558 -0.961958  1.440853 -0.007821 -0.436555  0.693644   \n",
       "\n",
       "        PC8  \n",
       "0  0.350761  \n",
       "1  0.318431  \n",
       "2 -0.243761  \n",
       "3 -0.000511  \n",
       "4  0.976748  "
      ]
     },
     "execution_count": 43,
     "metadata": {},
     "output_type": "execute_result"
    }
   ],
   "source": [
    "\n",
    "pca = PCA(n_components=8)\n",
    "t = pca.fit_transform(x)\n",
    "data2 = pd.DataFrame(t, columns=['PC1', 'PC2','PC3','PC4','Pc5','PC6', 'PC7', 'PC8'])\n",
    "data2.head()"
   ]
  },
  {
   "cell_type": "markdown",
   "metadata": {},
   "source": [
    "##  Dendrogram"
   ]
  },
  {
   "cell_type": "markdown",
   "metadata": {},
   "source": []
  },
  {
   "cell_type": "code",
   "execution_count": null,
   "metadata": {},
   "outputs": [
    {
     "data": {
      "image/png": "[encoded data removed]",
      "text/plain": [
       "<Figure size 1300x900 with 1 Axes>"
      ]
     },
     "metadata": {},
     "output_type": "display_data"
    }
   ],
   "source": [
    "\n",
    "linked = linkage(data2, 'complete')\n",
    "plt.figure(figsize=(13, 9))\n",
    "dendrogram(linked, orientation='top')\n",
    "plt.show()"
   ]
  },
  {
   "cell_type": "markdown",
   "metadata": {},
   "source": [
    "## Elbow Method"
   ]
  },
  {
   "cell_type": "code",
   "execution_count": null,
   "metadata": {},
   "outputs": [
    {
     "data": {
      "image/png": "[encoded data removed]",
      "text/plain": [
       "<Figure size 800x550 with 2 Axes>"
      ]
     },
     "metadata": {},
     "output_type": "display_data"
    },
    {
     "data": {
      "text/plain": [
       "<Axes: title={'center': 'Distortion Score Elbow for KMeans Clustering'}, xlabel='k', ylabel='distortion score'>"
      ]
     },
     "execution_count": 45,
     "metadata": {},
     "output_type": "execute_result"
    }
   ],
   "source": [
    "model = KMeans(random_state=40)\n",
    "visualizer = KElbowVisualizer(model, k=(2,9), metric='distortion', timings=True)\n",
    "visualizer.fit(t)        # Fit the data to the visualizer\n",
    "visualizer.show()        # Finalize and render the figure\n",
    "     "
   ]
  },
  {
   "cell_type": "markdown",
   "metadata": {},
   "source": [
    "\n",
    "## KMeans Clustering"
   ]
  },
  {
   "cell_type": "code",
   "execution_count": null,
   "metadata": {},
   "outputs": [
    {
     "name": "stdout",
     "output_type": "stream",
     "text": [
      "[0 1 1 0 2 0 3 1 1 3 3 1 0 3 2 0 0 0 3 3 2 1 3 1 0 3 1 3 3 3 3 3 1 0 1 3 1\n",
      " 0 0 3 3 2 3 3 1 3 3 0 3 0 3 0 1 1 1 2 3 0 1 3 1 2 1 3 3 1 0 1 2 3 0 1 1 3\n",
      " 1 1 3 1 0 3 1 3 3 3 1 3 1 1 1 1]\n",
      "315.4131855472432\n",
      "5\n",
      "[[-2.53233035e+00  9.59415271e-01  2.55247811e-01 -1.28324879e-01\n",
      "   1.37748068e-01 -8.73843939e-02  6.18385752e-02  3.30892788e-02]\n",
      " [ 1.35272093e+00 -3.88338273e-01  4.83398608e-01 -8.27525119e-02\n",
      "  -2.44107942e-01  2.03245713e-01  7.03016263e-02  1.73602549e-03]\n",
      " [ 4.41878899e+00  1.54971629e+00 -3.98283189e-01 -1.69110998e-01\n",
      "   6.40918856e-01 -3.99449869e-01 -2.06240797e-01  1.45902295e-01]\n",
      " [-8.02468395e-01 -4.72911837e-01 -4.93877503e-01  1.78204490e-01\n",
      "   1.76896759e-02 -5.68102626e-02 -5.43752702e-02 -4.91394080e-02]]\n"
     ]
    }
   ],
   "source": [
    "kmeans = KMeans(n_clusters=4, init='k-means++', random_state=0).fit(t)\n",
    "df['cluster_num'] = kmeans.labels_ #adding to df\n",
    "print (kmeans.labels_) #Label assigned for each data point\n",
    "print (kmeans.inertia_) #gives within-cluster sum of squares. \n",
    "print(kmeans.n_iter_) #number of iterations that k-means algorithm runs to get a minimum within-cluster sum of squares\n",
    "print(kmeans.cluster_centers_) #Location of the centroids on each cluster.\n",
    "     "
   ]
  },
  {
   "cell_type": "code",
   "execution_count": null,
   "metadata": {},
   "outputs": [
    {
     "data": {
      "image/png": "[encoded data removed]",
      "text/plain": [
       "<Figure size 800x550 with 1 Axes>"
      ]
     },
     "metadata": {},
     "output_type": "display_data"
    }
   ],
   "source": [
    "#Visulazing clusters\n",
    "sns.scatterplot(data=data2, x=\"PC1\", y=\"PC8\", hue=kmeans.labels_)\n",
    "plt.scatter(kmeans.cluster_centers_[:,0], kmeans.cluster_centers_[:,1], \n",
    "            marker=\"X\", c=\"r\", s=80, label=\"centroids\")\n",
    "plt.legend()\n",
    "plt.show()"
   ]
  },
  {
   "cell_type": "code",
   "execution_count": null,
   "metadata": {},
   "outputs": [],
   "source": []
  }
 ],
 "metadata": {
  "kernelspec": {
   "display_name": "venv",
   "language": "python",
   "name": "python3"
  },
  "language_info": {
   "codemirror_mode": {
    "name": "ipython",
    "version": 3
   },
   "file_extension": ".py",
   "mimetype": "text/x-python",
   "name": "python",
   "nbconvert_exporter": "python",
   "pygments_lexer": "ipython3",
   "version": "3.11.9"
  }
 },
 "nbformat": 4,
 "nbformat_minor": 2
}
